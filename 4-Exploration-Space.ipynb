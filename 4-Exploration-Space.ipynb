{
 "cells": [
  {
   "cell_type": "markdown",
   "metadata": {},
   "source": [
    "# Generation of Synthetic Promoter Library"
   ]
  },
  {
   "cell_type": "markdown",
   "metadata": {},
   "source": [
    "# Introduction\n",
    "\n",
    "This notebook generates a synthetic promoter library for *P. putida* on the basis of promoter BG14g ([Zobel et al., 2015](https://doi.org/10.1021/acssynbio.5b00058)). The synthetic promoters are generated within the distance that has been experimentaly sampled."
   ]
  },
  {
   "cell_type": "markdown",
   "metadata": {},
   "source": [
    "## System initiation\n",
    "\n",
    "Loading all necessary libraries."
   ]
  },
  {
   "cell_type": "code",
   "execution_count": 1,
   "metadata": {},
   "outputs": [],
   "source": [
    "import os\n",
    "import pandas as pd\n",
    "import joblib\n",
    "import pickle\n",
    "import itertools\n",
    "import random\n",
    "import numpy as np\n",
    "import time\n",
    "import matplotlib.pyplot as plt\n",
    "\n",
    "from ExpressionExpert_Functions import Data_Src_Load, Sequence_Conserved_Adjusted, Insert_row_, ExpressionStrength_HeatMap, SequenceRandomizer_Parallel, Sequence_Ref_DiffSum, list_onehot, list_integer\n",
    "%matplotlib inline"
   ]
  },
  {
   "cell_type": "markdown",
   "metadata": {},
   "source": [
    "### Variable setting\n",
    "\n",
    "We load the naming conventions from 'config.txt'"
   ]
  },
  {
   "cell_type": "code",
   "execution_count": 2,
   "metadata": {},
   "outputs": [],
   "source": [
    "Name_Dict = dict()\n",
    "with open('config_EcolPtai.txt') as Conf:\n",
    "    myline = Conf.read().splitlines()\n",
    "    for line in myline:\n",
    "        if not line.startswith('#'):\n",
    "            (key, val) = line.split(':', 1)\n",
    "            Name_Dict[str(key.strip())] = val.strip()\n",
    "        \n",
    "\n",
    "Data_File = Name_Dict['Data_File']\n",
    "# extract the filename for naming of newly generated files\n",
    "File_Base = Name_Dict['File_Base']\n",
    "# the generated files will be stored in a subfolder with custom name\n",
    "Data_Folder = Name_Dict['Data_Folder']\n",
    "# column name of expression values\n",
    "Y_Col_Name = eval(Name_Dict['Y_Col_Name'])\n",
    "# figure file type\n",
    "Fig_Type = Name_Dict['Figure_Type']"
   ]
  },
  {
   "cell_type": "markdown",
   "metadata": {},
   "source": [
    "## Data loading\n",
    "\n",
    "General information on the data source csv-file is stored in the 'config.txt' file generated in the '0-Workflow' notebook. The sequence and expression data is stored in a csv file with an identifier in column 'ID' (not used for anything), the DNA-sequence in column 'Sequence', and the expression strength in column 'promoter activity'. While loading, the sequence is converted to a label encrypted sequence, ['A','C','G','T'] replaced by [0,1,2,3], and a one-hot encoding."
   ]
  },
  {
   "cell_type": "code",
   "execution_count": 3,
   "metadata": {},
   "outputs": [
    {
     "data": {
      "text/html": [
       "<div>\n",
       "<style scoped>\n",
       "    .dataframe tbody tr th:only-of-type {\n",
       "        vertical-align: middle;\n",
       "    }\n",
       "\n",
       "    .dataframe tbody tr th {\n",
       "        vertical-align: top;\n",
       "    }\n",
       "\n",
       "    .dataframe thead th {\n",
       "        text-align: right;\n",
       "    }\n",
       "</style>\n",
       "<table border=\"1\" class=\"dataframe\">\n",
       "  <thead>\n",
       "    <tr style=\"text-align: right;\">\n",
       "      <th></th>\n",
       "      <th>Strain ID Ecol</th>\n",
       "      <th>Strain ID Ptai</th>\n",
       "      <th>Sequence</th>\n",
       "      <th>Ecol Promoter Activity</th>\n",
       "      <th>Ptai Promoter Activity</th>\n",
       "      <th>Sequence_label-encrypted</th>\n",
       "      <th>Sequence_letter-encrypted</th>\n",
       "    </tr>\n",
       "  </thead>\n",
       "  <tbody>\n",
       "    <tr>\n",
       "      <th>0</th>\n",
       "      <td>SN_rep3 20180122</td>\n",
       "      <td>SynPro35_1</td>\n",
       "      <td>[[0, 0, 0, 1], [0, 0, 0, 1], [0, 0, 0, 1], [1,...</td>\n",
       "      <td>0.043</td>\n",
       "      <td>0.014</td>\n",
       "      <td>[3, 3, 3, 0, 3, 3, 3, 2, 0, 1, 0, 3, 2, 1, 2, ...</td>\n",
       "      <td>TTTATTTGACATGCGTGATGTTTAGAATTATAATTTGGGG</td>\n",
       "    </tr>\n",
       "    <tr>\n",
       "      <th>1</th>\n",
       "      <td>SN_rep3 20180123</td>\n",
       "      <td>SynPro35_2</td>\n",
       "      <td>[[0, 0, 0, 1], [0, 0, 0, 1], [0, 0, 0, 1], [1,...</td>\n",
       "      <td>0.033</td>\n",
       "      <td>0.015</td>\n",
       "      <td>[3, 3, 3, 0, 3, 3, 3, 2, 0, 1, 0, 3, 2, 1, 2, ...</td>\n",
       "      <td>TTTATTTGACATGCGTGATGTTTAGAATTATAATTTGGGG</td>\n",
       "    </tr>\n",
       "    <tr>\n",
       "      <th>2</th>\n",
       "      <td>SN_rep3 20180124</td>\n",
       "      <td>SynPro35_3</td>\n",
       "      <td>[[0, 0, 0, 1], [0, 0, 0, 1], [0, 0, 0, 1], [1,...</td>\n",
       "      <td>0.036</td>\n",
       "      <td>0.018</td>\n",
       "      <td>[3, 3, 3, 0, 3, 3, 3, 2, 0, 1, 0, 3, 2, 1, 2, ...</td>\n",
       "      <td>TTTATTTGACATGCGTGATGTTTAGAATTATAATTTGGGG</td>\n",
       "    </tr>\n",
       "  </tbody>\n",
       "</table>\n",
       "</div>"
      ],
      "text/plain": [
       "     Strain ID Ecol Strain ID Ptai  \\\n",
       "0  SN_rep3 20180122     SynPro35_1   \n",
       "1  SN_rep3 20180123     SynPro35_2   \n",
       "2  SN_rep3 20180124     SynPro35_3   \n",
       "\n",
       "                                            Sequence  Ecol Promoter Activity  \\\n",
       "0  [[0, 0, 0, 1], [0, 0, 0, 1], [0, 0, 0, 1], [1,...                   0.043   \n",
       "1  [[0, 0, 0, 1], [0, 0, 0, 1], [0, 0, 0, 1], [1,...                   0.033   \n",
       "2  [[0, 0, 0, 1], [0, 0, 0, 1], [0, 0, 0, 1], [1,...                   0.036   \n",
       "\n",
       "   Ptai Promoter Activity                           Sequence_label-encrypted  \\\n",
       "0                   0.014  [3, 3, 3, 0, 3, 3, 3, 2, 0, 1, 0, 3, 2, 1, 2, ...   \n",
       "1                   0.015  [3, 3, 3, 0, 3, 3, 3, 2, 0, 1, 0, 3, 2, 1, 2, ...   \n",
       "2                   0.018  [3, 3, 3, 0, 3, 3, 3, 2, 0, 1, 0, 3, 2, 1, 2, ...   \n",
       "\n",
       "                  Sequence_letter-encrypted  \n",
       "0  TTTATTTGACATGCGTGATGTTTAGAATTATAATTTGGGG  \n",
       "1  TTTATTTGACATGCGTGATGTTTAGAATTATAATTTGGGG  \n",
       "2  TTTATTTGACATGCGTGATGTTTAGAATTATAATTTGGGG  "
      ]
     },
     "execution_count": 3,
     "metadata": {},
     "output_type": "execute_result"
    }
   ],
   "source": [
    "SeqDat = Data_Src_Load(Name_Dict)\n",
    "SeqDat.head(3)"
   ]
  },
  {
   "cell_type": "markdown",
   "metadata": {},
   "source": [
    "## Setting of exploration boundaries\n",
    "\n",
    "### Extraction of experimentaly tested sequence positions"
   ]
  },
  {
   "cell_type": "code",
   "execution_count": 4,
   "metadata": {},
   "outputs": [
    {
     "name": "stderr",
     "output_type": "stream",
     "text": [
      "Z:\\Documents\\Biocarb\\models\\data\\1911_ExpressionExpert.ipynb\\ExpressionExpert_Functions.py:111: SettingWithCopyWarning: \n",
      "A value is trying to be set on a copy of a slice from a DataFrame\n",
      "\n",
      "See the caveats in the documentation: http://pandas.pydata.org/pandas-docs/stable/indexing.html#indexing-view-versus-copy\n",
      "  df1.loc[idx]=element\n"
     ]
    }
   ],
   "source": [
    "# removing non-informative positions where no base diversity exists, base one hot encoding\n",
    "SeqDat_Hadj, Positions_removed, PSEntropy = Sequence_Conserved_Adjusted(SeqDat, Name_Dict)\n",
    "\n",
    "# removing non-informative positions where no base diversity exists, based one hot encoding\n",
    "idx = 0\n",
    "Measure_Name = Y_Col_Name[idx]\n",
    "# Expression_Column = '{}_scaled'.format(Measure_Name)\n",
    "Expr_avg = ExpressionStrength_HeatMap(SeqDat_Hadj, Measure_Name)\n",
    "Expr_avg = Insert_row_(Positions_removed, Expr_avg, np.zeros([len(Positions_removed),4])*np.nan)\n",
    "\n",
    "Seq_Pos_Sampled = Expr_avg.notnull().astype('int')\n"
   ]
  },
  {
   "cell_type": "code",
   "execution_count": 5,
   "metadata": {},
   "outputs": [
    {
     "name": "stdout",
     "output_type": "stream",
     "text": [
      "use reference sequence\n",
      "Reference sequence: GCCCATTGACAAGGCTCTCGCGGCCAGGTATAATTGCACG\n",
      "Relevant positions and tested nucleotides\n",
      "     A  C  G  T\n",
      "-31  1  1  1  1\n",
      "-30  1  1  1  1\n",
      "-29  1  1  1  1\n",
      "-28  1  1  1  1\n",
      "-27  1  1  1  1\n",
      "-26  1  1  1  1\n",
      "-25  1  1  1  1\n",
      "-24  1  1  1  1\n",
      "-23  1  1  1  1\n",
      "-22  1  1  1  1\n",
      "-21  1  1  1  1\n",
      "-20  1  1  1  1\n",
      "-19  1  1  1  1\n",
      "-18  1  1  1  1\n",
      "-17  1  1  1  1\n",
      "-16  1  1  1  1\n",
      "-15  1  1  1  1\n",
      "-14  1  1  1  1\n",
      "-13  1  1  1  1\n",
      "-10  1  1  1  1\n",
      "-9   1  1  1  1\n",
      "-8   1  1  1  1\n",
      "Overall number of possible sequences: 17592186044416\n"
     ]
    }
   ],
   "source": [
    "# First the positions for nucleotide exchanges are determined\n",
    "# The maximum sequence distance for experimentaly teste sequences to the reference was four nucleotides (cf. histogram of sequence distance in the statistical analysis notebook)\n",
    "# We require an minimum positional entropy of 0.15 bit to assume sufficient sampling for reasonable prediction accuracy (cf. position entropy in the statistical analysis notebook)\n",
    "# The random forest machine learner has assigned reasonable feature importance only to regions [-35 - -30] and [-12 - -7]\n",
    "# Hence, mutations are only assigned to positions [-35, -34, -30, -10, -9, -8]\n",
    "# For each position the following amount of nucleotides were tested [-35:4, -34:4, -30:3, -10:4, -9:3, -8:4]\n",
    "# In total 2304 combinations are possible, these are further constrained by the maximum nucleotide distance to the reference sequence\n",
    "\n",
    "Sequence_Distance_cutoff = float(Name_Dict['Sequence_Distance_cutoff'])\n",
    "Position_Diversity_cutoff = float(Name_Dict['Position_Diversity_cutoff'])\n",
    "Synth_Seq_MaxNumber = int(Name_Dict['Synth_Seq_MaxNumber'])\n",
    "\n",
    "# Reference promoter sequence\n",
    "if Name_Dict['RefSeq'] is not '':\n",
    "    RefSeq = Name_Dict['RefSeq']\n",
    "    print('use reference sequence')\n",
    "else:    \n",
    "    # using the one-hot encoding the most common nucleotide on each position is calculated.\n",
    "    Alphabet = ['A','C','G','T']\n",
    "    Pos_Nucl_Sum = np.sum(np.dstack(SeqDat['Sequence'].values), axis=2)\n",
    "    RefSeq_list = list([Alphabet[Pos_idx] for Pos_idx in np.argmax(Pos_Nucl_Sum, axis=1)])\n",
    "    RefSeq = ''.join(RefSeq_list)\n",
    "print('Reference sequence:', RefSeq)\n",
    "\n",
    "# Nucleotides that can be randomized because they sampling is above the entropy threshold\n",
    "Pos_random = -1*(len(RefSeq)-np.arange(PSEntropy.shape[0])[PSEntropy>Position_Diversity_cutoff])\n",
    "Base_SequencePosition = Seq_Pos_Sampled.iloc[Pos_random]\n",
    "print('Relevant positions and tested nucleotides')\n",
    "print(Base_SequencePosition)\n",
    "# calculating how many different sequences exist\n",
    "# we check how many bases for each sufficiently sampled position are possible\n",
    "# combinatorics gives the final answer\n",
    "mybases, mycount = np.unique(np.sum(Base_SequencePosition.values, axis=1), return_counts=True)\n",
    "Comb_Numb = np.prod(np.power(mybases, mycount))\n",
    "print('Overall number of possible sequences:', Comb_Numb)\n",
    "\n"
   ]
  },
  {
   "cell_type": "code",
   "execution_count": 6,
   "metadata": {},
   "outputs": [],
   "source": [
    "# if the space of possible sequences is lower than the maximum limit space, each sequences is generated\n",
    "# if the space of possible sequences is larger than the maximum limit space, random sequences within the exploratory space are generated\n",
    "\n",
    "if Comb_Numb < Synth_Seq_MaxNumber:\n",
    "    # Deletion of non-tested nucleotides\n",
    "    Pos_rand_numb = len(Pos_random)\n",
    "    Alphabet = ['A','C','G','T']\n",
    "    Seq_Base = np.tile(Alphabet, [Pos_rand_numb, 1]).tolist()\n",
    "    # identification of positions where not all four nucleotides were tested\n",
    "    Pos_Del, Nucl_Del = np.where(Seq_Pos_Sampled.iloc[Pos_random].values == 0)\n",
    "    # replacing all nucleotides to be replaced by an 'X'\n",
    "    myArr = np.array(Seq_Base)\n",
    "    myArr[tuple([Pos_Del,Nucl_Del])] = 'X'\n",
    "    Position_list = myArr.tolist()\n",
    "    Seq_Base = list()\n",
    "    for Position in Position_list:\n",
    "        Seq_Base.append(list(set(Position).difference(set('X'))))\n",
    "    Seq_Base_comb = list(itertools.product(*Seq_Base))\n",
    "    for index in Pos_random+40: #+40\n",
    "        RefSeq_list[index] = '{}'\n",
    "    RefSeq_base = ''.join(RefSeq_list)\n",
    "    # setting up the final promoter list\n",
    "    Seq_Base_comb = [RefSeq_base.format(*Nucleotide_replace) for Nucleotide_replace in Seq_Base_comb]\n",
    "\n",
    "    print('generated sequences: ',len(Seq_Base_comb))\n",
    "else:\n",
    "    Seq_Base_comb = SequenceRandomizer_Parallel(RefSeq, Base_SequencePosition, n=Synth_Seq_MaxNumber)\n",
    "    \n"
   ]
  },
  {
   "cell_type": "markdown",
   "metadata": {},
   "source": [
    "### Measuring synthetic sequence distance to reference\n",
    "\n",
    "#### Generating arche-type reference\n",
    "The reference is generated as the most commonly tested nucleotides on each position."
   ]
  },
  {
   "cell_type": "code",
   "execution_count": 7,
   "metadata": {},
   "outputs": [
    {
     "name": "stdout",
     "output_type": "stream",
     "text": [
      "use reference sequence\n",
      "Reference sequence: GCCCATTGACAAGGCTCTCGCGGCCAGGTATAATTGCACG\n",
      "Number of sequences with less than 40% nucleotide changes to the reference: 2958\n"
     ]
    },
    {
     "data": {
      "image/png": "[encoded data removed]",
      "text/plain": [
       "<Figure size 432x288 with 1 Axes>"
      ]
     },
     "metadata": {
      "needs_background": "light"
     },
     "output_type": "display_data"
    }
   ],
   "source": [
    "# setting up the full promoters\n",
    "# Reference promoter sequence\n",
    "# using the one-hot encoding the most common nucleotide on each position is calculated.\n",
    "\n",
    "# For histogram of sequence diversity you can either root the distance to the most common nucleotide on each position or provide an external reference\n",
    "if Name_Dict['RefSeq'] is not '':\n",
    "    RefSeq = Name_Dict['RefSeq']\n",
    "    print('use reference sequence')\n",
    "else:    \n",
    "    # using the one-hot encoding the most common nucleotide on each position is calculated.\n",
    "    Alphabet = ['A','C','G','T']\n",
    "    Pos_Nucl_Sum = np.sum(np.dstack(SeqDat['Sequence'].values), axis=2)\n",
    "    RefSeq_list = list([Alphabet[Pos_idx] for Pos_idx in np.argmax(Pos_Nucl_Sum, axis=1)])\n",
    "    RefSeq = ''.join(RefSeq_list)\n",
    "\n",
    "print('Reference sequence:', RefSeq)\n",
    "\n",
    "# # RefSeq = SeqDat['Sequence_letter-encrypted'][0]\n",
    "# # RefSeq_list = list(RefSeq) #int(Pos_random+40)\n",
    "# for index in Pos_random+40: #+40\n",
    "#     RefSeq_list[index] = '{}'\n",
    "# RefSeq_base = ''.join(RefSeq_list)\n",
    "# # setting up the final promoter list\n",
    "# SynMatrix_full = [RefSeq_base.format(*Nucleotide_replace) for Nucleotide_replace in Seq_Base_comb]\n",
    "SynMatrix_full = Seq_Base_comb\n",
    "\n",
    "# determining the amino acid substitutions of the snythetic promoters relative to the reference promoter\n",
    "SeqDat_wRef = SynMatrix_full.copy()\n",
    "SeqDat_wRef.insert(0, RefSeq)\n",
    "RefSeq_Dist = Sequence_Ref_DiffSum(SeqDat_wRef)\n",
    "NearDist_Bool = np.array(RefSeq_Dist)<Sequence_Distance_cutoff\n",
    "\n",
    "RefSeq_NearDist = RefSeq_Dist[NearDist_Bool]\n",
    "SynSeq_NearDist = np.array(SynMatrix_full)[NearDist_Bool]\n",
    "SynSeq_ND_numb = SynSeq_NearDist.shape[0]\n",
    "print('Number of sequences with less than {:.0f}% nucleotide changes to the reference: {}'.format(Sequence_Distance_cutoff*100, SynSeq_ND_numb))\n",
    "\n",
    "plt.hist(RefSeq_NearDist*100) # BG42: [3,6:221]; BG35:[2,222:]\n",
    "plt.xlabel('Sequence distance in %')\n",
    "plt.ylabel('Occurence')\n",
    "plt.tight_layout()\n",
    "Fig_ID = Name_Dict['SampSeqDist_File']\n",
    "SampSeqDist_File = os.path.join(Data_Folder, '{}_{}_{}.{}'.format(time.strftime('%Y%m%d'), File_Base, Fig_ID, Fig_Type))\n",
    "# plt.savefig(SampSeqDist_File, bbox_inches='tight', format=Fig_Type)\n",
    "plt.show()"
   ]
  },
  {
   "cell_type": "markdown",
   "metadata": {},
   "source": [
    "### Removing measured sequences from library"
   ]
  },
  {
   "cell_type": "code",
   "execution_count": 8,
   "metadata": {},
   "outputs": [
    {
     "name": "stdout",
     "output_type": "stream",
     "text": [
      "Number of different promoter sequences measured:  95\n",
      "Library sequences already measured:  []\n",
      "Number of new sequences in exploratory region:  2958\n"
     ]
    },
    {
     "name": "stderr",
     "output_type": "stream",
     "text": [
      "C:\\ProgramData\\Anaconda3\\lib\\site-packages\\ipykernel_launcher.py:11: DeprecationWarning: using a non-integer array as obj in delete will result in an error in the future\n",
      "  # This is added back by InteractiveShellApp.init_path()\n"
     ]
    }
   ],
   "source": [
    "Seq_Measured = np.unique(SeqDat['Sequence_letter-encrypted'].values)\n",
    "print('Number of different promoter sequences measured: ', Seq_Measured.shape[0])\n",
    "\n",
    "MeasSeq_Idx = [list(np.arange(SynSeq_ND_numb)[SynSeq_NearDist == np.array(SeqMeas.upper())]) for SeqMeas in Seq_Measured]\n",
    "MeasSeq_Idx = np.unique(np.asarray(list(filter(None, MeasSeq_Idx))))\n",
    "print('Library sequences already measured: ', MeasSeq_Idx)\n",
    "# Some sequences are often repeatedly measured in the experiments, e.g. sequence 1116 in 'SynSeq_NearDist'\n",
    "# print('Sequence of synthetic sequence 1116 measured 93 times', SynSeq_NearDist[1116])\n",
    "\n",
    "# deletion of measured sequences\n",
    "SynSeq_NearDist = np.delete(SynSeq_NearDist, MeasSeq_Idx)\n",
    "print('Number of new sequences in exploratory region: ', SynSeq_NearDist.shape[0])"
   ]
  },
  {
   "cell_type": "markdown",
   "metadata": {},
   "source": [
    "## Synthetic library expression strength"
   ]
  },
  {
   "cell_type": "code",
   "execution_count": 9,
   "metadata": {},
   "outputs": [
    {
     "name": "stdout",
     "output_type": "stream",
     "text": [
      "Random Forest Regression of Ecol Promoter Activity\n",
      "Random Forest Regression of Ptai Promoter Activity\n"
     ]
    }
   ],
   "source": [
    "Measure_Numb = int(Name_Dict['Library_Expression'])\n",
    "SynSeq_df = pd.DataFrame({'Sequence': SynSeq_NearDist})\n",
    "\n",
    "for Meas_Idx in range(Measure_Numb):\n",
    "    print('Random Forest Regression of', Y_Col_Name[Meas_Idx])\n",
    "    \n",
    "    # loading the random forest model\n",
    "    ML_ID = Name_Dict['RFR_ML_File']\n",
    "    ML_Date = Name_Dict['RFR_Date']\n",
    "    Regressor_File = os.path.join(Data_Folder, '{}_{}_{}_{}.pkl'.format(ML_Date, File_Base, Y_Col_Name[Meas_Idx].replace(' ','-'), ML_ID))\n",
    "    RFR_Best = joblib.load(Regressor_File)\n",
    "    \n",
    "    # loading random forest parameters\n",
    "    Param_ID = Name_Dict['RFR_Params_File']\n",
    "    Parameter_File = os.path.join(Data_Folder, '{}_{}_{}_{}.pkl'.format(ML_Date, File_Base, Y_Col_Name[Meas_Idx].replace(' ','-'), Param_ID))\n",
    "    RFR_Params = pickle.load(open(Parameter_File, 'rb'))\n",
    "    \n",
    "    Positions_removed = RFR_Params['Positions_removed']\n",
    "    Scaler_DictName = '{}_Scaler'.format(Y_Col_Name[Meas_Idx])\n",
    "    Expr_Scaler = RFR_Params[Scaler_DictName]\n",
    "    \n",
    "    # prediction of expression strength\n",
    "    n = len(SynSeq_NearDist)\n",
    "    X_Test = np.array(list_onehot(np.delete(list_integer(SynSeq_NearDist),Positions_removed, axis=1))).reshape(n,-1)  \n",
    "    Y_Test_norm = RFR_Best.predict(X_Test)\n",
    "    Y_Test = Expr_Scaler.inverse_transform(Y_Test_norm)\n",
    "    SynSeq_df[Y_Col_Name[Meas_Idx]] = Y_Test\n",
    "\n",
    "SynSeq_df = SynSeq_df.sort_values(by=Y_Col_Name[0])    \n",
    "Csv_ID = Name_Dict['Csv_ID']\n",
    "SynCsv_File = os.path.join('{}_{}_{}.csv'.format(time.strftime('%Y%m%d'), File_Base, Csv_ID)) #'data-PromLib_EcolPtai\\\\TillTest_predicted.xlsx'     \n",
    "SynSeq_df.to_csv(SynCsv_File, index=None)\n"
   ]
  },
  {
   "cell_type": "markdown",
   "metadata": {},
   "source": [
    "### Generating new config file for analysis of synthetic library"
   ]
  },
  {
   "cell_type": "code",
   "execution_count": 10,
   "metadata": {},
   "outputs": [],
   "source": [
    "# constructing the config_synth.txt file\n",
    "Name_Dict['Data_File'] = SynCsv_File\n",
    "with open('config_synth.txt', 'w') as f:\n",
    "    print('# This file contains the naming conventions for all output files. It is automatically generated when going through step \"0-Workflow\".', file=f)\n",
    "    for key, value in Name_Dict.items():\n",
    "        print('{}: {}'.format(key, value), file=f)"
   ]
  }
 ],
 "metadata": {
  "kernelspec": {
   "display_name": "Python 3",
   "language": "python",
   "name": "python3"
  },
  "language_info": {
   "codemirror_mode": {
    "name": "ipython",
    "version": 3
   },
   "file_extension": ".py",
   "mimetype": "text/x-python",
   "name": "python",
   "nbconvert_exporter": "python",
   "pygments_lexer": "ipython3",
   "version": "3.7.3"
  }
 },
 "nbformat": 4,
 "nbformat_minor": 4
}
