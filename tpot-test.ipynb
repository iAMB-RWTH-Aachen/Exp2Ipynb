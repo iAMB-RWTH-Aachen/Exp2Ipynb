{
 "cells": [
  {
   "cell_type": "code",
   "execution_count": 2,
   "metadata": {},
   "outputs": [
    {
     "name": "stderr",
     "output_type": "stream",
     "text": [
      "/home/ulf/anaconda3/lib/python3.7/importlib/_bootstrap.py:219: RuntimeWarning: numpy.ufunc size changed, may indicate binary incompatibility. Expected 192 from C header, got 216 from PyObject\n",
      "  return f(*args, **kwds)\n",
      "/home/ulf/anaconda3/lib/python3.7/importlib/_bootstrap.py:219: RuntimeWarning: numpy.ufunc size changed, may indicate binary incompatibility. Expected 192 from C header, got 216 from PyObject\n",
      "  return f(*args, **kwds)\n"
     ]
    },
    {
     "data": {
      "application/vnd.jupyter.widget-view+json": {
       "model_id": "3bc2b86eeaf54754b1cabab2cd4cdcec",
       "version_major": 2,
       "version_minor": 0
      },
      "text/plain": [
       "HBox(children=(FloatProgress(value=0.0, description='Optimization Progress', max=300.0, style=ProgressStyle(de…"
      ]
     },
     "metadata": {},
     "output_type": "display_data"
    },
    {
     "name": "stdout",
     "output_type": "stream",
     "text": [
      "Generation 1 - Current best internal CV score: -12.183902552870293\n",
      "Generation 2 - Current best internal CV score: -12.12046613884387\n",
      "Generation 3 - Current best internal CV score: -12.12046613884387\n",
      "Generation 4 - Current best internal CV score: -11.667642174558235\n",
      "Generation 5 - Current best internal CV score: -11.644597394090933\n",
      "\n",
      "Best pipeline: XGBRegressor(input_matrix, learning_rate=0.1, max_depth=6, min_child_weight=11, n_estimators=100, nthread=1, objective=reg:squarederror, subsample=0.7000000000000001)\n",
      "-11.239793783197994\n"
     ]
    }
   ],
   "source": [
    "from tpot import TPOTRegressor\n",
    "from sklearn.datasets import load_boston\n",
    "from sklearn.model_selection import train_test_split\n",
    "\n",
    "housing = load_boston()\n",
    "X_train, X_test, y_train, y_test = train_test_split(housing.data, housing.target,\n",
    "                                                    train_size=0.75, test_size=0.25, random_state=42)\n",
    "\n",
    "tpot = TPOTRegressor(generations=5, population_size=50, verbosity=2, random_state=42)\n",
    "tpot.fit(X_train, y_train)\n",
    "print(tpot.score(X_test, y_test))\n",
    "tpot.export('tpot_boston_pipeline.py')"
   ]
  },
  {
   "cell_type": "code",
   "execution_count": 60,
   "metadata": {},
   "outputs": [
    {
     "data": {
      "text/plain": [
       "(506,)"
      ]
     },
     "execution_count": 60,
     "metadata": {},
     "output_type": "execute_result"
    }
   ],
   "source": [
    "housing.target.shape"
   ]
  },
  {
   "cell_type": "code",
   "execution_count": 3,
   "metadata": {},
   "outputs": [],
   "source": [
    "from tpot import TPOTRegressor\n",
    "from sklearn.datasets import load_boston\n",
    "from sklearn.model_selection import train_test_split\n",
    "import numpy as np\n",
    "import os\n",
    "import joblib\n",
    "import time\n",
    "import timeit\n",
    "import joblib\n",
    "import pickle\n",
    "from ExpressionExpert_Functions import Data_Src_Load, make_DataDir, split_train_test, ExpressionScaler, Sequence_Conserved_Adjusted, Est_Grad_Save, Est_Grad_Feat\n",
    "from sklearn.model_selection import GroupShuffleSplit\n",
    "\n",
    "%matplotlib inline"
   ]
  },
  {
   "cell_type": "code",
   "execution_count": 4,
   "metadata": {},
   "outputs": [
    {
     "name": "stdout",
     "output_type": "stream",
     "text": [
      "Already existent data directory  data-PromLib_EcolPtai .\n"
     ]
    }
   ],
   "source": [
    "Name_Dict = dict()\n",
    "with open('config_EcolPtai.txt') as Conf:\n",
    "    myline = Conf.read().splitlines()\n",
    "    for line in myline:\n",
    "        if not line.startswith('#'):\n",
    "            (key, val) = line.split(':', 1)\n",
    "            Name_Dict[str(key.strip())] = val.strip()\n",
    "        \n",
    "\n",
    "Data_File = Name_Dict['Data_File']\n",
    "# extract the filename for naming of newly generated files\n",
    "File_Base = Name_Dict['File_Base']\n",
    "# the generated files will be stored in a subfolder with custom name\n",
    "Data_Folder = Name_Dict['Data_Folder']\n",
    "# column name of expression values\n",
    "Y_Col_Name = eval(Name_Dict['Y_Col_Name'])\n",
    "# figure file type\n",
    "Fig_Type = Name_Dict['Figure_Type']\n",
    "make_DataDir(Name_Dict)"
   ]
  },
  {
   "cell_type": "code",
   "execution_count": 6,
   "metadata": {},
   "outputs": [
    {
     "data": {
      "text/html": [
       "<div>\n",
       "<style scoped>\n",
       "    .dataframe tbody tr th:only-of-type {\n",
       "        vertical-align: middle;\n",
       "    }\n",
       "\n",
       "    .dataframe tbody tr th {\n",
       "        vertical-align: top;\n",
       "    }\n",
       "\n",
       "    .dataframe thead th {\n",
       "        text-align: right;\n",
       "    }\n",
       "</style>\n",
       "<table border=\"1\" class=\"dataframe\">\n",
       "  <thead>\n",
       "    <tr style=\"text-align: right;\">\n",
       "      <th></th>\n",
       "      <th>Strain ID Ecol</th>\n",
       "      <th>Strain ID Ptai</th>\n",
       "      <th>Sequence</th>\n",
       "      <th>Ecol Promoter Activity</th>\n",
       "      <th>Ptai Promoter Activity</th>\n",
       "      <th>Sequence_label-encrypted</th>\n",
       "      <th>Sequence_letter-encrypted</th>\n",
       "      <th>GC-content</th>\n",
       "    </tr>\n",
       "  </thead>\n",
       "  <tbody>\n",
       "    <tr>\n",
       "      <th>0</th>\n",
       "      <td>SN_rep3 20180122</td>\n",
       "      <td>SynPro35_1</td>\n",
       "      <td>[[0, 0, 0, 1], [0, 0, 0, 1], [0, 0, 0, 1], [1,...</td>\n",
       "      <td>0.043</td>\n",
       "      <td>0.014</td>\n",
       "      <td>[3, 3, 3, 0, 3, 3, 3, 2, 0, 1, 0, 3, 2, 1, 2, ...</td>\n",
       "      <td>TTTATTTGACATGCGTGATGTTTAGAATTATAATTTGGGG</td>\n",
       "      <td>0.3</td>\n",
       "    </tr>\n",
       "    <tr>\n",
       "      <th>1</th>\n",
       "      <td>SN_rep3 20180123</td>\n",
       "      <td>SynPro35_2</td>\n",
       "      <td>[[0, 0, 0, 1], [0, 0, 0, 1], [0, 0, 0, 1], [1,...</td>\n",
       "      <td>0.033</td>\n",
       "      <td>0.015</td>\n",
       "      <td>[3, 3, 3, 0, 3, 3, 3, 2, 0, 1, 0, 3, 2, 1, 2, ...</td>\n",
       "      <td>TTTATTTGACATGCGTGATGTTTAGAATTATAATTTGGGG</td>\n",
       "      <td>0.3</td>\n",
       "    </tr>\n",
       "    <tr>\n",
       "      <th>2</th>\n",
       "      <td>SN_rep3 20180124</td>\n",
       "      <td>SynPro35_3</td>\n",
       "      <td>[[0, 0, 0, 1], [0, 0, 0, 1], [0, 0, 0, 1], [1,...</td>\n",
       "      <td>0.036</td>\n",
       "      <td>0.018</td>\n",
       "      <td>[3, 3, 3, 0, 3, 3, 3, 2, 0, 1, 0, 3, 2, 1, 2, ...</td>\n",
       "      <td>TTTATTTGACATGCGTGATGTTTAGAATTATAATTTGGGG</td>\n",
       "      <td>0.3</td>\n",
       "    </tr>\n",
       "  </tbody>\n",
       "</table>\n",
       "</div>"
      ],
      "text/plain": [
       "     Strain ID Ecol  ... GC-content\n",
       "0  SN_rep3 20180122  ...        0.3\n",
       "1  SN_rep3 20180123  ...        0.3\n",
       "2  SN_rep3 20180124  ...        0.3\n",
       "\n",
       "[3 rows x 8 columns]"
      ]
     },
     "execution_count": 6,
     "metadata": {},
     "output_type": "execute_result"
    }
   ],
   "source": [
    "SeqDat = Data_Src_Load(Name_Dict)\n",
    "SeqDat.head(3)"
   ]
  },
  {
   "cell_type": "code",
   "execution_count": 75,
   "metadata": {},
   "outputs": [],
   "source": [
    "# SeqTrain, SeqTest = split_train_test(SeqDat)\n",
    "train_size = 1 - eval(Name_Dict['TestRatio'])\n",
    "# split number '1' because we only use one final test set. Cross validation comes later\n",
    "gss = GroupShuffleSplit(n_splits=1, train_size=train_size)\n",
    "X = SeqDat['Sequence']\n",
    "y = SeqDat[Y_Col_Name]\n",
    "groups = SeqDat['Sequence_letter-encrypted'].str.upper()\n",
    "Train_Idx, Test_Idx = list(gss.split(X, y, groups))[0]\n",
    "SeqTest = SeqDat.iloc[Test_Idx].reset_index(drop=True)\n",
    "SeqTrain = SeqDat.iloc[Train_Idx].reset_index(drop=True)\n",
    "\n",
    "TrainTest_Data = {'Train': SeqTrain, 'Test': SeqTest}\n",
    "TrainTest_File = os.path.join(Data_Folder, '{}_{}_TrainTest-Data.pkl'.format(time.strftime('%Y%m%d'), File_Base))\n",
    "pickle.dump(TrainTest_Data, open(TrainTest_File, 'wb'))\n"
   ]
  },
  {
   "cell_type": "markdown",
   "metadata": {},
   "source": [
    "### test 2"
   ]
  },
  {
   "cell_type": "code",
   "execution_count": 76,
   "metadata": {},
   "outputs": [],
   "source": [
    "SeqTrain, Expr_Scaler = ExpressionScaler(SeqTrain, Name_Dict)\n",
    "# removing non-informative positions where no base diversity exists, base one hot encoding\n",
    "SeqTrain_Hadj, Positions_removed, PSEntropy = Sequence_Conserved_Adjusted(SeqTrain, Name_Dict, n=1)\n",
    "SeqOH = SeqTrain_Hadj"
   ]
  },
  {
   "cell_type": "code",
   "execution_count": 86,
   "metadata": {},
   "outputs": [
    {
     "name": "stdout",
     "output_type": "stream",
     "text": [
      "(258, 85) (258,)\n"
     ]
    }
   ],
   "source": [
    "Sequence_Samples, Sequence_Positions, Sequence_Bases = np.array(SeqOH['OneHot'].values.tolist()).shape\n",
    "X_pref = np.array(SeqTrain_Hadj['OneHot'].values.tolist()).reshape(Sequence_Samples,Sequence_Positions*Sequence_Bases)\n",
    "# adding rows to x for additional features\n",
    "X_pref = np.append(X_pref,np.array([SeqTrain_Hadj['GC-content']]).T, axis=1)\n",
    "Y_pref = SeqTrain_Hadj['Ptai Promoter Activity_scaled'].values\n",
    "print(X_pref.shape, Y_pref.shape)"
   ]
  },
  {
   "cell_type": "code",
   "execution_count": 87,
   "metadata": {},
   "outputs": [
    {
     "name": "stdout",
     "output_type": "stream",
     "text": [
      "(30, 85) (30, 1)\n"
     ]
    }
   ],
   "source": [
    "from ExpressionExpert_Functions import list_onehot\n",
    "X_pref_tmp = list_onehot(list(np.delete(np.array(list(SeqTest['Sequence_label-encrypted'])),Positions_removed, axis=1)))\n",
    "X_pref_test = np.array(X_pref_tmp).reshape(len(SeqTest.index),-1)\n",
    "# adding the additional feature, here GC-content\n",
    "X_pref_test = np.append(X_pref_test,np.array([SeqTest['GC-content']]).T, axis=1)\n",
    "# activity prediction of training set with best random forest estimator\n",
    "Y_pref_test = Expr_Scaler['Ptai Promoter Activity_Scaler'].transform(SeqTest['Ptai Promoter Activity'].values.reshape(-1, 1))\n",
    "print(X_pref_test.shape, Y_pref_test.shape)"
   ]
  },
  {
   "cell_type": "code",
   "execution_count": null,
   "metadata": {},
   "outputs": [
    {
     "data": {
      "application/vnd.jupyter.widget-view+json": {
       "model_id": "0aa31fbd90d440abadcaa69bf2de13e7",
       "version_major": 2,
       "version_minor": 0
      },
      "text/plain": [
       "HBox(children=(FloatProgress(value=0.0, description='Optimization Progress', max=10100.0, style=ProgressStyle(…"
      ]
     },
     "metadata": {},
     "output_type": "display_data"
    },
    {
     "name": "stdout",
     "output_type": "stream",
     "text": [
      "Generation 1 - Current best internal CV score: 0.056048201942740586\n",
      "Generation 2 - Current best internal CV score: 0.08588242685934318\n",
      "Generation 3 - Current best internal CV score: 0.08588242685934318\n",
      "Generation 4 - Current best internal CV score: 0.14797724990096114\n",
      "Generation 5 - Current best internal CV score: 0.17026771800568657\n",
      "Generation 6 - Current best internal CV score: 0.17715583578544075\n",
      "Generation 7 - Current best internal CV score: 0.17715583578544075\n",
      "Generation 8 - Current best internal CV score: 0.1952274197201026\n",
      "Generation 9 - Current best internal CV score: 0.1952274197201026\n"
     ]
    }
   ],
   "source": [
    "tpot_pref = TPOTRegressor(generations=100, population_size=100, verbosity=2, random_state=42, scoring='r2', n_jobs=-1)\n",
    "tpot.fit(X_pref, Y_pref)\n",
    "print(tpot.score(X_pref_test, Y_pref_test))\n",
    "tpot.export('tpot_Ecol-Expression-pref_pipeline.py')"
   ]
  },
  {
   "cell_type": "markdown",
   "metadata": {},
   "source": [
    "### test 1"
   ]
  },
  {
   "cell_type": "code",
   "execution_count": 66,
   "metadata": {},
   "outputs": [
    {
     "data": {
      "application/vnd.jupyter.widget-view+json": {
       "model_id": "9f44dabc41ec450983cda303af47f809",
       "version_major": 2,
       "version_minor": 0
      },
      "text/plain": [
       "HBox(children=(FloatProgress(value=0.0, description='Optimization Progress', max=10100.0, style=ProgressStyle(…"
      ]
     },
     "metadata": {},
     "output_type": "display_data"
    },
    {
     "name": "stdout",
     "output_type": "stream",
     "text": [
      "Generation 1 - Current best internal CV score: -1.0351032131709141\n",
      "Generation 2 - Current best internal CV score: -0.9881700473801219\n",
      "Generation 3 - Current best internal CV score: -0.6766508313209397\n",
      "Generation 4 - Current best internal CV score: -0.61686015193781\n",
      "Generation 5 - Current best internal CV score: -0.5964712294488393\n",
      "Generation 6 - Current best internal CV score: -0.5964712294488393\n",
      "Generation 7 - Current best internal CV score: -0.594258207667911\n",
      "Generation 8 - Current best internal CV score: -0.594258207667911\n",
      "Generation 9 - Current best internal CV score: -0.5763823917261137\n",
      "Generation 10 - Current best internal CV score: -0.5763823917261137\n",
      "Generation 11 - Current best internal CV score: -0.550528536749485\n",
      "Generation 12 - Current best internal CV score: -0.42849524293863767\n",
      "Generation 13 - Current best internal CV score: -0.42849524293863767\n",
      "Generation 14 - Current best internal CV score: -0.21357629171917739\n",
      "Generation 15 - Current best internal CV score: -0.20736082001378717\n",
      "Generation 16 - Current best internal CV score: -0.20736082001378717\n",
      "Generation 17 - Current best internal CV score: -0.20736082001378717\n",
      "Generation 18 - Current best internal CV score: -0.20736082001378717\n",
      "Generation 19 - Current best internal CV score: -0.20736082001378717\n",
      "Generation 20 - Current best internal CV score: -0.09974280438519531\n",
      "Generation 21 - Current best internal CV score: -0.09974280438519531\n",
      "Generation 22 - Current best internal CV score: -0.09974280438519531\n",
      "Generation 23 - Current best internal CV score: -0.09974280438519531\n",
      "Generation 24 - Current best internal CV score: -0.09027776086884294\n",
      "Generation 25 - Current best internal CV score: -0.09027776086884294\n",
      "Generation 26 - Current best internal CV score: -0.09027776086884294\n",
      "Generation 27 - Current best internal CV score: -0.09027776086884294\n",
      "Generation 28 - Current best internal CV score: -0.09027776086882752\n",
      "Generation 29 - Current best internal CV score: -0.09027776086882752\n",
      "Generation 30 - Current best internal CV score: -0.09027776086882752\n",
      "Generation 31 - Current best internal CV score: -0.09027776086882752\n",
      "Generation 32 - Current best internal CV score: -0.04333234678389404\n",
      "Generation 33 - Current best internal CV score: -0.04333234678389404\n",
      "Generation 34 - Current best internal CV score: -0.04333123642380139\n",
      "Generation 35 - Current best internal CV score: -0.04333123642380139\n",
      "Generation 36 - Current best internal CV score: -0.04333123642380077\n",
      "Generation 37 - Current best internal CV score: -0.04333123642380077\n",
      "Generation 38 - Current best internal CV score: -0.04333123642380077\n",
      "Generation 39 - Current best internal CV score: -0.04333123642380077\n",
      "Generation 40 - Current best internal CV score: -0.04333123642380077\n",
      "Generation 41 - Current best internal CV score: -0.04333123642380077\n",
      "Generation 42 - Current best internal CV score: -0.04333123642380077\n",
      "Generation 43 - Current best internal CV score: -0.04333123642380077\n",
      "Generation 44 - Current best internal CV score: -0.04333123642380077\n",
      "Generation 45 - Current best internal CV score: -0.04333123642380077\n",
      "Generation 46 - Current best internal CV score: -0.04333123642380077\n",
      "Generation 47 - Current best internal CV score: -0.04333123642380077\n",
      "Generation 48 - Current best internal CV score: -0.04333123642380077\n",
      "Generation 49 - Current best internal CV score: -0.0393493021059403\n",
      "Generation 50 - Current best internal CV score: -0.0393493021059403\n",
      "Generation 51 - Current best internal CV score: -0.0393493021059403\n",
      "Generation 52 - Current best internal CV score: 0.041870891615513293\n",
      "Generation 53 - Current best internal CV score: 0.041870891615513293\n",
      "Generation 54 - Current best internal CV score: 0.041870891615513293\n",
      "Generation 55 - Current best internal CV score: 0.041870891615513293\n",
      "Generation 56 - Current best internal CV score: 0.041870891615513293\n",
      "Generation 57 - Current best internal CV score: 0.041870891615513293\n",
      "Generation 58 - Current best internal CV score: 0.041870891615513293\n",
      "Generation 59 - Current best internal CV score: 0.06013521823049357\n",
      "Generation 60 - Current best internal CV score: 0.06013521823049357\n",
      "Generation 61 - Current best internal CV score: 0.06013521823049357\n",
      "Generation 62 - Current best internal CV score: 0.06013521823049357\n",
      "Generation 63 - Current best internal CV score: 0.0669913471975909\n",
      "Generation 64 - Current best internal CV score: 0.0669913471975909\n",
      "Generation 65 - Current best internal CV score: 0.0669913471975909\n",
      "Generation 66 - Current best internal CV score: 0.0669913471975909\n",
      "Generation 67 - Current best internal CV score: 0.0669913471975909\n",
      "Generation 68 - Current best internal CV score: 0.08074804046655235\n",
      "Generation 69 - Current best internal CV score: 0.08074804046655235\n",
      "Generation 70 - Current best internal CV score: 0.08074804046655235\n",
      "Generation 71 - Current best internal CV score: 0.08074804046655235\n",
      "Generation 72 - Current best internal CV score: 0.08074804046655235\n",
      "Generation 73 - Current best internal CV score: 0.08074804046655235\n",
      "Generation 74 - Current best internal CV score: 0.08074804046655235\n",
      "Generation 75 - Current best internal CV score: 0.08074804046655235\n",
      "Generation 76 - Current best internal CV score: 0.08074804046655235\n",
      "Generation 77 - Current best internal CV score: 0.08074804046655235\n",
      "Generation 78 - Current best internal CV score: 0.08074804046655235\n",
      "Generation 79 - Current best internal CV score: 0.08074804046655235\n",
      "Generation 80 - Current best internal CV score: 0.08074804046655468\n",
      "Generation 81 - Current best internal CV score: 0.08074804046655468\n",
      "Generation 82 - Current best internal CV score: 0.08074804046655468\n",
      "Generation 83 - Current best internal CV score: 0.08226380288964394\n",
      "Generation 84 - Current best internal CV score: 0.08226380288964394\n",
      "Generation 85 - Current best internal CV score: 0.08226380288964394\n",
      "Generation 86 - Current best internal CV score: 0.08226380288964394\n",
      "Generation 87 - Current best internal CV score: 0.08226380288964394\n",
      "Generation 88 - Current best internal CV score: 0.08226380288964394\n",
      "Generation 89 - Current best internal CV score: 0.08226380288964394\n",
      "Generation 90 - Current best internal CV score: 0.08226380288964394\n",
      "Generation 91 - Current best internal CV score: 0.08226380288964394\n",
      "Generation 92 - Current best internal CV score: 0.08226380288964394\n",
      "Generation 93 - Current best internal CV score: 0.08226380288964394\n",
      "Generation 94 - Current best internal CV score: 0.08226380288964394\n",
      "Generation 95 - Current best internal CV score: 0.08226380288964394\n",
      "Generation 96 - Current best internal CV score: 0.08226380288964394\n",
      "Generation 97 - Current best internal CV score: 0.08226380288964394\n",
      "Generation 98 - Current best internal CV score: 0.08226380288964394\n",
      "Generation 99 - Current best internal CV score: 0.08226380288964394\n",
      "Generation 100 - Current best internal CV score: 0.08226380288964394\n",
      "\n",
      "Best pipeline: LassoLarsCV(Nystroem(SelectFwe(CombineDFs(Normalizer(PCA(Binarizer(input_matrix, threshold=1.0), iterated_power=2, svd_solver=randomized), norm=l1), input_matrix), alpha=0.003), gamma=0.4, kernel=laplacian, n_components=3), normalize=False)\n",
      "0.7974010117281058\n"
     ]
    },
    {
     "name": "stderr",
     "output_type": "stream",
     "text": [
      "/home/ulf/anaconda3/lib/python3.7/site-packages/sklearn/feature_selection/_univariate_selection.py:721: RuntimeWarning: invalid value encountered in less\n",
      "  return (self.pvalues_ < self.alpha / len(self.pvalues_))\n"
     ]
    }
   ],
   "source": [
    "X_train = np.append(np.array(SeqTrain['Sequence_label-encrypted'].values.tolist()), SeqTrain['GC-content'].values.reshape(-1,1), axis=1)\n",
    "Y_train = SeqTrain['Ecol Promoter Activity'].values\n",
    "\n",
    "X_test = np.append(np.array(SeqTest['Sequence_label-encrypted'].values.tolist()), SeqTest['GC-content'].values.reshape(-1,1), axis=1)\n",
    "Y_test = SeqTest['Ecol Promoter Activity'].values\n",
    "\n",
    "tpot = TPOTRegressor(generations=100, population_size=100, verbosity=2, random_state=42, scoring='r2', n_jobs=-1)\n",
    "tpot.fit(X_train, Y_train)\n",
    "print(tpot.score(X_test, Y_test))\n",
    "tpot.export('tpot_Ecol-Expression_pipeline.py')"
   ]
  }
 ],
 "metadata": {
  "kernelspec": {
   "display_name": "Python 3",
   "language": "python",
   "name": "python3"
  },
  "language_info": {
   "codemirror_mode": {
    "name": "ipython",
    "version": 3
   },
   "file_extension": ".py",
   "mimetype": "text/x-python",
   "name": "python",
   "nbconvert_exporter": "python",
   "pygments_lexer": "ipython3",
   "version": "3.7.6"
  }
 },
 "nbformat": 4,
 "nbformat_minor": 4
}
