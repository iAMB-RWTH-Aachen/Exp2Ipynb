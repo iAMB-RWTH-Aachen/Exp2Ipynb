{
 "cells": [
  {
   "cell_type": "markdown",
   "metadata": {},
   "source": [
    "# Performance analysis across libraries"
   ]
  },
  {
   "cell_type": "markdown",
   "metadata": {},
   "source": [
    "## Libraries and definitions"
   ]
  },
  {
   "cell_type": "code",
   "execution_count": 1,
   "metadata": {},
   "outputs": [],
   "source": [
    "import pandas as pd\n",
    "import numpy as np\n",
    "import matplotlib.pyplot as plt\n",
    "%matplotlib inline\n",
    "\n",
    "FType = 'svg'\n",
    "\n",
    "axessize=18\n",
    "ticksize=14\n",
    "legendsize=14"
   ]
  },
  {
   "cell_type": "markdown",
   "metadata": {},
   "source": [
    "## Data loading and variable assignment"
   ]
  },
  {
   "cell_type": "code",
   "execution_count": 2,
   "metadata": {},
   "outputs": [],
   "source": [
    "myxls = '2010_ExpressionAnalysisCompare.xlsx'\n",
    "x1 = pd.ExcelFile(myxls)\n",
    "mydf = x1.parse('RFClassComp')\n",
    "Ori_Label = ['a','b','c','d','e','f','g']\n",
    "Tst_Label = ['h','i','k']\n",
    "mytst = 3\n",
    "myunpub = 2\n",
    "\n",
    "XName = '# Train'\n",
    "Y1Name = 'f1 CrossV Mean'\n",
    "Y2Name = 'f1 CrossV Std'\n",
    "Y3Name = 'coefficient Var.'\n",
    "\n",
    "TrainSet = mydf[XName][:-mytst-myunpub].astype(float).values\n",
    "f1Mean = mydf[Y1Name][:-mytst-myunpub].astype(float).values\n",
    "f1Std = mydf[Y2Name][:-mytst-myunpub].astype(float).values\n",
    "f1CV = mydf[Y3Name][:-mytst-myunpub].astype(float).values\n",
    "\n",
    "Tst_TrainSet = mydf[XName][-mytst-myunpub:-myunpub].astype(float).values\n",
    "Tst_f1Mean = mydf[Y1Name][-mytst-myunpub:-myunpub].astype(float).values\n",
    "Tst_f1Std = mydf[Y2Name][-mytst-myunpub:-myunpub].astype(float).values\n",
    "Tst_f1CV = mydf[Y3Name][-mytst-myunpub:-myunpub].astype(float).values\n",
    "\n",
    "unp_TrainSet = mydf[XName][-myunpub:].astype(float).values\n",
    "unp_f1Mean = mydf[Y1Name][-myunpub:].astype(float).values\n",
    "unp_f1Std = mydf[Y2Name][-myunpub:].astype(float).values\n",
    "unp_f1CV = mydf[Y3Name][-myunpub:].astype(float).values\n",
    "\n",
    "YName = 'Sum Top 3 FI'\n",
    "XName = 'Avg Seq Dist'\n",
    "\n",
    "AvSqDist = mydf[XName][:-mytst-myunpub].astype(float).values\n",
    "Tst_AvSqDist = mydf[XName][-mytst-myunpub:-myunpub].astype(float).values\n",
    "unp_AvSqDist = mydf[XName][-myunpub:].astype(float).values\n",
    "\n",
    "XName = '# Features'\n",
    "FNum = mydf[XName][:-mytst-myunpub].values\n",
    "FImp = mydf[YName][:-mytst-myunpub].values \n",
    "Tst_FNum = mydf[XName][-mytst-myunpub:-myunpub].values \n",
    "Tst_FImp = mydf[YName][-mytst-myunpub:-myunpub].values \n",
    "unp_FNum = mydf[XName][-myunpub:].values \n",
    "unp_FImp = mydf[YName][-myunpub:].values \n",
    "\n"
   ]
  },
  {
   "cell_type": "markdown",
   "metadata": {},
   "source": [
    "## Figure generation\n",
    "### Subfigure A"
   ]
  },
  {
   "cell_type": "code",
   "execution_count": 3,
   "metadata": {},
   "outputs": [
    {
     "data": {
      "image/png": "[encoded data removed]",
      "text/plain": [
       "<Figure size 432x288 with 1 Axes>"
      ]
     },
     "metadata": {
      "needs_background": "light"
     },
     "output_type": "display_data"
    }
   ],
   "source": [
    "plt.rc('axes', labelsize=axessize) \n",
    "plt.rc('xtick', labelsize=ticksize) \n",
    "plt.rc('ytick', labelsize=ticksize) \n",
    "plt.rc('legend', fontsize=legendsize) \n",
    "\n",
    "# plt.scatter(Feat_Num, f1Mean, s=100, marker='X')\n",
    "plt.errorbar(FNum, f1Mean, f1Std, fmt='X', color='b', ecolor='lightblue', elinewidth=5, capsize=0)\n",
    "xshift = [5,5,5,5,3,3,5] # [5,5,-80,5,-120,-135,-66]\n",
    "yshift = [0,0,0,0,-.03,0,0] # [0,-0.01,.01,0,-.0075,-.01,-.025]\n",
    "for Indx,Source in enumerate(Ori_Label): # mydf.columns[1:-mytst]\n",
    "    plt.text(FNum[Indx]+xshift[Indx], f1Mean[Indx]+yshift[Indx], Source)\n",
    "\n",
    "# plt.scatter(TstF_Num, Tst_f1Mean, s=100, c='r', marker='x')\n",
    "plt.errorbar(Tst_FNum, Tst_f1Mean, Tst_f1Std, fmt='X', color='r', ecolor='pink', elinewidth=5, capsize=0)\n",
    "tstxshift = [5,5,5] # [5,5,-80]\n",
    "tstyshift = [0,0,0] # [0,-0.01,.01]\n",
    "for Indx,Source in enumerate(Tst_Label): #mydf.columns[-mytst:]\n",
    "    plt.text(Tst_FNum[Indx]+tstxshift[Indx], Tst_f1Mean[Indx]+tstyshift[Indx], Source)\n",
    "\n",
    "plt.errorbar(unp_FNum, unp_f1Mean, unp_f1Std, fmt='X', color='k', ecolor='gray', elinewidth=5, capsize=0)\n",
    "    \n",
    "plt.xlabel('Feature Number')\n",
    "plt.ylabel('F1 Score')\n",
    "R2legend_orig = 'Published libraries'\n",
    "R2legend_test = 'Library cuts'\n",
    "plt.legend([R2legend_orig, R2legend_test], loc='upper right')\n",
    "\n",
    "FigName = 'FeatNum-vs-F1Avg.{}'.format(FType)\n",
    "# plt.savefig(FigName, bbox_inches='tight', format=FType)\n",
    "plt.show()"
   ]
  },
  {
   "cell_type": "markdown",
   "metadata": {},
   "source": [
    "### Subfigure B"
   ]
  },
  {
   "cell_type": "code",
   "execution_count": null,
   "metadata": {},
   "outputs": [],
   "source": [
    "# extracting feature number and importance\n",
    "PCorr = np.corrcoef(FNum, FImp)[0,1]\n",
    "m,n = np.polyfit(FNum, FImp, 1)\n",
    "\n",
    "plt.rc('axes', labelsize=axessize) \n",
    "plt.rc('xtick', labelsize=ticksize) \n",
    "plt.rc('ytick', labelsize=ticksize) \n",
    "plt.rc('legend', fontsize=legendsize) \n",
    "X = np.linspace(np.min(FNum),np.max(FNum),100)\n",
    "\n",
    "# plt.plot(X, X*m+n, 'k:')\n",
    "plt.scatter(FNum, FImp, s=100, marker='X')\n",
    "# annotating scatter\n",
    "xshift = [10,-25,-25,15,-25,-25,-25] # [5,5,-80,5,-120,-135,-66]\n",
    "yshift = [0,0,.01,0,0,-.01,0] # [0,-0.01,.01,0,-.0075,-.01,-.025]\n",
    "for Indx,Source in enumerate(Ori_Label): # mydf.columns[1:-mytst]\n",
    "    plt.text(FNum[Indx]+xshift[Indx], FImp[Indx]+yshift[Indx], Source)\n",
    "\n",
    "# adding sequence subsets\n",
    "plt.scatter(Tst_FNum, Tst_FImp, s=100, c='r', marker='x')\n",
    "tstxshift = [15,15,15] # [5,5,-80]\n",
    "tstyshift = [0,-.02,0] # [0,-0.01,.01]\n",
    "for Indx,Source in enumerate(Tst_Label): #mydf.columns[-mytst:]\n",
    "    plt.text(Tst_FNum[Indx]+tstxshift[Indx], Tst_FImp[Indx]+tstyshift[Indx], Source)\n",
    "\n",
    "plt.scatter(unp_FNum, unp_FImp, s=100, c='k', marker='x')\n",
    "\n",
    "plt.xlabel('Feature Number')\n",
    "plt.ylabel('Sum of Top 3 FI')\n",
    "# R2Legend = 'y={:.3f}x+{:.1f}, R$^2$={:.2f}'.format(m,n,PCorr)\n",
    "# RegrForm = r'$\\sum_{i=0}^\\infty x_i$'\n",
    "# plt.legend([R2Legend])\n",
    "plt.style.use('seaborn-paper')\n",
    "FigName = 'Feature_Number-vs-Importance.{}'.format(FType)\n",
    "# plt.savefig(FigName, bbox_inches='tight', format=FType)"
   ]
  },
  {
   "cell_type": "markdown",
   "metadata": {},
   "source": [
    "### Subfigure C"
   ]
  },
  {
   "cell_type": "code",
   "execution_count": null,
   "metadata": {},
   "outputs": [],
   "source": [
    "plt.rc('axes', labelsize=axessize) \n",
    "plt.rc('xtick', labelsize=ticksize) \n",
    "plt.rc('ytick', labelsize=ticksize) \n",
    "plt.rc('legend', fontsize=legendsize) \n",
    "\n",
    "plt.scatter(TrainSet, f1CV, s=100, marker='X')\n",
    "xshift = [-110,50,75,-110,50,50,50]\n",
    "yshift = [-0.01,0,0,0,-.0075,0,-.025]\n",
    "for Indx,Source in enumerate(Ori_Label):\n",
    "    plt.text(TrainSet[Indx]+xshift[Indx], f1CV[Indx]+yshift[Indx], Source)\n",
    "\n",
    "plt.scatter(Tst_TrainSet, Tst_f1CV, c='r', s=100, marker='x')\n",
    "tstxshift = [-125,75,50]\n",
    "tstyshift = [-0.01,-.01,0]\n",
    "for Indx,Source in enumerate(Tst_Label):\n",
    "    plt.text(Tst_TrainSet[Indx]+tstxshift[Indx], Tst_f1CV[Indx]+tstyshift[Indx], Source)\n",
    "\n",
    "plt.scatter(unp_TrainSet, unp_f1CV, c='k', s=100, marker='x')\n",
    "\n",
    "plt.xlabel('Training Samples')\n",
    "plt.ylabel('F1 coefficient of variation')\n",
    "R2legend_orig = 'Published libraries'\n",
    "R2legend_test = 'Library cuts'\n",
    "# RegrForm = r'$\\sum_{i=0}^\\infty x_i$'\n",
    "# plt.legend([R2legend_orig, R2legend_test])\n",
    "plt.style.use('seaborn-paper')\n",
    "FigName = 'SampleTrain-vs-f1CV.{}'.format(FType)\n",
    "# plt.savefig(FigName, bbox_inches='tight', format=FType)\n",
    "\n",
    "plt.show()\n"
   ]
  },
  {
   "cell_type": "markdown",
   "metadata": {},
   "source": [
    "### Subfigure D"
   ]
  },
  {
   "cell_type": "code",
   "execution_count": null,
   "metadata": {},
   "outputs": [],
   "source": [
    "plt.rc('axes', labelsize=axessize) \n",
    "plt.rc('xtick', labelsize=ticksize) \n",
    "plt.rc('ytick', labelsize=ticksize) \n",
    "plt.rc('legend', fontsize=legendsize) \n",
    "\n",
    "plt.scatter(AvSqDist, f1CV, s=100, marker='X')\n",
    "xshift = [.01,.01,.01,.01,.01,.01,.01]\n",
    "yshift = [0,0,0,0,0,0,0]\n",
    "for Indx,Source in enumerate(Ori_Label):\n",
    "    plt.text(AvSqDist[Indx]+xshift[Indx], f1CV[Indx]+yshift[Indx], Source)\n",
    "\n",
    "plt.scatter(Tst_AvSqDist, Tst_f1CV, c='r', s=100, marker='x')\n",
    "tstxshift = [.01,.01,.01]\n",
    "tstyshift = [0,0,0]\n",
    "for Indx,Source in enumerate(Tst_Label):\n",
    "    plt.text(Tst_AvSqDist[Indx]+tstxshift[Indx], Tst_f1CV[Indx]+tstyshift[Indx], Source)\n",
    "\n",
    "plt.scatter(unp_AvSqDist, unp_f1CV, c='k', s=100, marker='x')\n",
    "\n",
    "plt.xlabel('Sequence diversity')\n",
    "plt.ylabel('F1 coefficient of variation')\n",
    "R2legend_orig = 'Published libraries'\n",
    "R2legend_test = 'Library cuts'\n",
    "# RegrForm = r'$\\sum_{i=0}^\\infty x_i$'\n",
    "# plt.legend([R2legend_orig, R2legend_test])\n",
    "plt.style.use('seaborn-paper')\n",
    "FigName = 'SeqDiv-vs-f1CV.{}'.format(FType)\n",
    "# plt.savefig(FigName, bbox_inches='tight', format=FType)\n",
    "\n",
    "plt.show()\n",
    "# print('F1 CoV change d-k: {:.2f}%'.format(Tst_f1CV[2]/f1CV[3]*100))\n",
    "# print('SeqDist change d-k: {:.2f}%'.format(Tst_AvSqDist[2]/AvSqDist[3]*100))\n",
    "# print('SampSize change d-k: {:.2f}%'.format(Tst_TrainSet[2]/TrainSet[3]*100))"
   ]
  },
  {
   "cell_type": "markdown",
   "metadata": {},
   "source": [
    "## Multivariate linear regression"
   ]
  },
  {
   "cell_type": "code",
   "execution_count": null,
   "metadata": {},
   "outputs": [],
   "source": [
    "X = np.transpose([TrainSet,FNum,AvSqDist])\n",
    "Y = np.transpose([f1Mean,f1CV])\n",
    "df = pd.DataFrame(np.hstack([X,Y]), columns=['TrainSet','Features','SeqDist','F1Mean','F1CoV'])\n",
    "pd.plotting.scatter_matrix(df)"
   ]
  },
  {
   "cell_type": "code",
   "execution_count": null,
   "metadata": {},
   "outputs": [],
   "source": [
    "from sklearn.linear_model import LinearRegression\n",
    "OLS = sm.OLS(f1CV, X).fit()\n",
    "OLS.summary()\n"
   ]
  },
  {
   "cell_type": "markdown",
   "metadata": {},
   "source": [
    "### Plot of F1-Avg and StDev for each library"
   ]
  },
  {
   "cell_type": "code",
   "execution_count": null,
   "metadata": {},
   "outputs": [],
   "source": [
    "plt.rc('axes', labelsize=14) \n",
    "plt.rc('xtick', labelsize=12) \n",
    "plt.rc('ytick', labelsize=12) \n",
    "plt.rc('legend', fontsize=14) \n",
    "\n",
    "plt.errorbar(Ori_Label, f1Mean, f1Std, fmt='o', color='b', ecolor='lightblue', elinewidth=5, capsize=0)\n",
    "plt.errorbar(Tst_Label, Tst_f1Mean, Tst_f1Std, fmt='o', color='r', ecolor='pink', elinewidth=5, capsize=0)\n",
    "plt.xlabel('Promoter library')\n",
    "plt.ylabel('F1 avg and std with cross val.')\n",
    "R2legend_orig = 'Published libraries'\n",
    "R2legend_test = 'Library cuts'\n",
    "plt.legend([R2legend_orig, R2legend_test])\n",
    "\n",
    "FigName = 'Libr-vs-f1AvgStd.{}'.format(FType)\n",
    "# plt.savefig(FigName, bbox_inches='tight', format=FType)\n",
    "\n",
    "plt.show()"
   ]
  }
 ],
 "metadata": {
  "kernelspec": {
   "display_name": "exp2ipynb",
   "language": "python",
   "name": "exp2ipynb"
  },
  "language_info": {
   "codemirror_mode": {
    "name": "ipython",
    "version": 3
   },
   "file_extension": ".py",
   "mimetype": "text/x-python",
   "name": "python",
   "nbconvert_exporter": "python",
   "pygments_lexer": "ipython3",
   "version": "3.9.1"
  }
 },
 "nbformat": 4,
 "nbformat_minor": 4
}
