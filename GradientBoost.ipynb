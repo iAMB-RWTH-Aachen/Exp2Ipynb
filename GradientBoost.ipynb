{
 "cells": [
  {
   "cell_type": "code",
   "execution_count": 1,
   "metadata": {},
   "outputs": [],
   "source": [
    "import numpy as np\n",
    "import matplotlib.pyplot as plt\n",
    "\n",
    "from sklearn import ensemble\n",
    "from sklearn import datasets\n",
    "from sklearn.utils import shuffle\n",
    "from sklearn.metrics import mean_squared_error"
   ]
  },
  {
   "cell_type": "markdown",
   "metadata": {},
   "source": [
    "## my code"
   ]
  },
  {
   "cell_type": "code",
   "execution_count": 2,
   "metadata": {},
   "outputs": [],
   "source": [
    "import os\n",
    "import joblib\n",
    "import time\n",
    "import timeit\n",
    "import joblib\n",
    "import pickle\n",
    "from ExpressionExpert_Functions import Data_Src_Load, make_DataDir, split_train_test, ExpressionScaler, Sequence_Conserved_Adjusted, Est_Grad_Save, Est_Grad_Feat\n",
    "from sklearn.model_selection import GroupShuffleSplit\n",
    "\n",
    "%matplotlib inline"
   ]
  },
  {
   "cell_type": "code",
   "execution_count": 3,
   "metadata": {},
   "outputs": [
    {
     "name": "stdout",
     "output_type": "stream",
     "text": [
      "Already existent data directory  data-PromLib_EcolPtai .\n"
     ]
    }
   ],
   "source": [
    "Name_Dict = dict()\n",
    "with open('config_EcolPtai.txt') as Conf:\n",
    "    myline = Conf.read().splitlines()\n",
    "    for line in myline:\n",
    "        if not line.startswith('#'):\n",
    "            (key, val) = line.split(':', 1)\n",
    "            Name_Dict[str(key.strip())] = val.strip()\n",
    "        \n",
    "\n",
    "Data_File = Name_Dict['Data_File']\n",
    "# extract the filename for naming of newly generated files\n",
    "File_Base = Name_Dict['File_Base']\n",
    "# the generated files will be stored in a subfolder with custom name\n",
    "Data_Folder = Name_Dict['Data_Folder']\n",
    "# column name of expression values\n",
    "Y_Col_Name = eval(Name_Dict['Y_Col_Name'])\n",
    "# figure file type\n",
    "Fig_Type = Name_Dict['Figure_Type']\n",
    "make_DataDir(Name_Dict)"
   ]
  },
  {
   "cell_type": "code",
   "execution_count": 4,
   "metadata": {},
   "outputs": [
    {
     "data": {
      "text/html": [
       "<div>\n",
       "<style scoped>\n",
       "    .dataframe tbody tr th:only-of-type {\n",
       "        vertical-align: middle;\n",
       "    }\n",
       "\n",
       "    .dataframe tbody tr th {\n",
       "        vertical-align: top;\n",
       "    }\n",
       "\n",
       "    .dataframe thead th {\n",
       "        text-align: right;\n",
       "    }\n",
       "</style>\n",
       "<table border=\"1\" class=\"dataframe\">\n",
       "  <thead>\n",
       "    <tr style=\"text-align: right;\">\n",
       "      <th></th>\n",
       "      <th>Strain ID Ecol</th>\n",
       "      <th>Strain ID Ptai</th>\n",
       "      <th>Sequence</th>\n",
       "      <th>Ecol Promoter Activity</th>\n",
       "      <th>Ptai Promoter Activity</th>\n",
       "      <th>Sequence_label-encrypted</th>\n",
       "      <th>Sequence_letter-encrypted</th>\n",
       "      <th>GC-content</th>\n",
       "    </tr>\n",
       "  </thead>\n",
       "  <tbody>\n",
       "    <tr>\n",
       "      <th>0</th>\n",
       "      <td>SN_rep3 20180122</td>\n",
       "      <td>SynPro35_1</td>\n",
       "      <td>[[0, 0, 0, 1], [0, 0, 0, 1], [0, 0, 0, 1], [1,...</td>\n",
       "      <td>0.043</td>\n",
       "      <td>0.014</td>\n",
       "      <td>[3, 3, 3, 0, 3, 3, 3, 2, 0, 1, 0, 3, 2, 1, 2, ...</td>\n",
       "      <td>TTTATTTGACATGCGTGATGTTTAGAATTATAATTTGGGG</td>\n",
       "      <td>0.3</td>\n",
       "    </tr>\n",
       "    <tr>\n",
       "      <th>1</th>\n",
       "      <td>SN_rep3 20180123</td>\n",
       "      <td>SynPro35_2</td>\n",
       "      <td>[[0, 0, 0, 1], [0, 0, 0, 1], [0, 0, 0, 1], [1,...</td>\n",
       "      <td>0.033</td>\n",
       "      <td>0.015</td>\n",
       "      <td>[3, 3, 3, 0, 3, 3, 3, 2, 0, 1, 0, 3, 2, 1, 2, ...</td>\n",
       "      <td>TTTATTTGACATGCGTGATGTTTAGAATTATAATTTGGGG</td>\n",
       "      <td>0.3</td>\n",
       "    </tr>\n",
       "    <tr>\n",
       "      <th>2</th>\n",
       "      <td>SN_rep3 20180124</td>\n",
       "      <td>SynPro35_3</td>\n",
       "      <td>[[0, 0, 0, 1], [0, 0, 0, 1], [0, 0, 0, 1], [1,...</td>\n",
       "      <td>0.036</td>\n",
       "      <td>0.018</td>\n",
       "      <td>[3, 3, 3, 0, 3, 3, 3, 2, 0, 1, 0, 3, 2, 1, 2, ...</td>\n",
       "      <td>TTTATTTGACATGCGTGATGTTTAGAATTATAATTTGGGG</td>\n",
       "      <td>0.3</td>\n",
       "    </tr>\n",
       "  </tbody>\n",
       "</table>\n",
       "</div>"
      ],
      "text/plain": [
       "     Strain ID Ecol Strain ID Ptai  \\\n",
       "0  SN_rep3 20180122     SynPro35_1   \n",
       "1  SN_rep3 20180123     SynPro35_2   \n",
       "2  SN_rep3 20180124     SynPro35_3   \n",
       "\n",
       "                                            Sequence  Ecol Promoter Activity  \\\n",
       "0  [[0, 0, 0, 1], [0, 0, 0, 1], [0, 0, 0, 1], [1,...                   0.043   \n",
       "1  [[0, 0, 0, 1], [0, 0, 0, 1], [0, 0, 0, 1], [1,...                   0.033   \n",
       "2  [[0, 0, 0, 1], [0, 0, 0, 1], [0, 0, 0, 1], [1,...                   0.036   \n",
       "\n",
       "   Ptai Promoter Activity                           Sequence_label-encrypted  \\\n",
       "0                   0.014  [3, 3, 3, 0, 3, 3, 3, 2, 0, 1, 0, 3, 2, 1, 2, ...   \n",
       "1                   0.015  [3, 3, 3, 0, 3, 3, 3, 2, 0, 1, 0, 3, 2, 1, 2, ...   \n",
       "2                   0.018  [3, 3, 3, 0, 3, 3, 3, 2, 0, 1, 0, 3, 2, 1, 2, ...   \n",
       "\n",
       "                  Sequence_letter-encrypted  GC-content  \n",
       "0  TTTATTTGACATGCGTGATGTTTAGAATTATAATTTGGGG         0.3  \n",
       "1  TTTATTTGACATGCGTGATGTTTAGAATTATAATTTGGGG         0.3  \n",
       "2  TTTATTTGACATGCGTGATGTTTAGAATTATAATTTGGGG         0.3  "
      ]
     },
     "execution_count": 4,
     "metadata": {},
     "output_type": "execute_result"
    }
   ],
   "source": [
    "SeqDat = Data_Src_Load(Name_Dict)\n",
    "SeqDat.head(3)"
   ]
  },
  {
   "cell_type": "code",
   "execution_count": 5,
   "metadata": {},
   "outputs": [],
   "source": [
    "# SeqTrain, SeqTest = split_train_test(SeqDat)\n",
    "train_size = 1 - eval(Name_Dict['TestRatio'])\n",
    "# split number '1' because we only use one final test set. Cross validation comes later\n",
    "gss = GroupShuffleSplit(n_splits=1, train_size=train_size)\n",
    "X = SeqDat['Sequence']\n",
    "y = SeqDat[Y_Col_Name]\n",
    "groups = SeqDat['Sequence_letter-encrypted'].str.upper()\n",
    "Train_Idx, Test_Idx = list(gss.split(X, y, groups))[0]\n",
    "SeqTest = SeqDat.iloc[Test_Idx].reset_index(drop=True)\n",
    "SeqTrain = SeqDat.iloc[Train_Idx].reset_index(drop=True)\n",
    "\n",
    "TrainTest_Data = {'Train': SeqTrain, 'Test': SeqTest}\n",
    "TrainTest_File = os.path.join(Data_Folder, '{}_{}_TrainTest-Data.pkl'.format(time.strftime('%Y%m%d'), File_Base))\n",
    "pickle.dump(TrainTest_Data, open(TrainTest_File, 'wb'))\n"
   ]
  },
  {
   "cell_type": "code",
   "execution_count": 6,
   "metadata": {},
   "outputs": [],
   "source": [
    "SeqTrain, Expr_Scaler = ExpressionScaler(SeqTrain, Name_Dict)\n",
    "# removing non-informative positions where no base diversity exists, base one hot encoding\n",
    "SeqTrain_Hadj, Positions_removed, PSEntropy = Sequence_Conserved_Adjusted(SeqTrain, Name_Dict, n=1)\n",
    "SeqOH = SeqTrain_Hadj"
   ]
  },
  {
   "cell_type": "code",
   "execution_count": 8,
   "metadata": {},
   "outputs": [
    {
     "name": "stdout",
     "output_type": "stream",
     "text": [
      "(258, 89) (258,)\n"
     ]
    }
   ],
   "source": [
    "Sequence_Samples, Sequence_Positions, Sequence_Bases = np.array(SeqOH['OneHot'].values.tolist()).shape\n",
    "X = np.array(SeqTrain_Hadj['OneHot'].values.tolist()).reshape(Sequence_Samples,Sequence_Positions*Sequence_Bases)\n",
    "# adding rows to x for additional features\n",
    "X = np.append(X,np.array([SeqTrain_Hadj['GC-content']]).T, axis=1)\n",
    "Y = SeqTrain_Hadj['Ptai Promoter Activity_scaled'].values\n",
    "print(X.shape, Y.shape)"
   ]
  },
  {
   "cell_type": "code",
   "execution_count": 9,
   "metadata": {},
   "outputs": [],
   "source": [
    "from ExpressionExpert_Functions import list_onehot\n",
    "X_tmp = list_onehot(list(np.delete(np.array(list(SeqTest['Sequence_label-encrypted'])),Positions_removed, axis=1)))\n",
    "X_test = np.array(X_tmp).reshape(len(SeqTest.index),-1)\n",
    "# adding the additional feature, here GC-content\n",
    "X_test = np.append(X_test,np.array([SeqTest['GC-content']]).T, axis=1)\n",
    "# activity prediction of training set with best random forest estimator\n",
    "Y_test = Expr_Scaler['Ptai Promoter Activity_Scaler'].transform(SeqTest['Ptai Promoter Activity'].values.reshape(-1, 1))\n",
    "print(X.shape, Y.shape)"
   ]
  },
  {
   "cell_type": "code",
   "execution_count": 10,
   "metadata": {},
   "outputs": [
    {
     "name": "stdout",
     "output_type": "stream",
     "text": [
      "MSE: 0.1278\n"
     ]
    }
   ],
   "source": [
    "# #############################################################################\n",
    "# Fit regression model\n",
    "params = {'n_estimators': 500, 'max_depth': 4, 'min_samples_split': 2,\n",
    "          'learning_rate': 0.01, 'loss': 'ls'}\n",
    "clf = ensemble.GradientBoostingRegressor(**params)\n",
    "\n",
    "clf.fit(X, Y)\n",
    "mse = mean_squared_error(Y_test, clf.predict(X_test))\n",
    "print(\"MSE: %.4f\" % mse)"
   ]
  },
  {
   "cell_type": "code",
   "execution_count": 11,
   "metadata": {},
   "outputs": [
    {
     "data": {
      "image/png": "[encoded data removed]",
      "text/plain": [
       "<Figure size 864x432 with 1 Axes>"
      ]
     },
     "metadata": {
      "needs_background": "light"
     },
     "output_type": "display_data"
    }
   ],
   "source": [
    "# #############################################################################\n",
    "# Plot training deviance\n",
    "\n",
    "# compute test set deviance\n",
    "test_score = np.zeros((params['n_estimators'],), dtype=np.float64)\n",
    "\n",
    "for i, y_pred in enumerate(clf.staged_predict(X_test)):\n",
    "    test_score[i] = clf.loss_(Y_test, y_pred)\n",
    "\n",
    "plt.figure(figsize=(12, 6))\n",
    "plt.subplot(1, 2, 1)\n",
    "plt.title('Deviance')\n",
    "plt.plot(np.arange(params['n_estimators']) + 1, clf.train_score_, 'b-',\n",
    "         label='Training Set Deviance')\n",
    "plt.plot(np.arange(params['n_estimators']) + 1, test_score, 'r-',\n",
    "         label='Test Set Deviance')\n",
    "plt.legend(loc='upper right')\n",
    "plt.xlabel('Boosting Iterations')\n",
    "plt.ylabel('Deviance')\n",
    "plt.savefig('GradBoost_Deviance.png', bbox_inches='tight', format='png')"
   ]
  },
  {
   "cell_type": "code",
   "execution_count": null,
   "metadata": {},
   "outputs": [],
   "source": [
    "def list_sequence(IntegerList):\n",
    "    '''define input values'''\n",
    "    import numpy as np\n",
    "    alphabet = 'ACGT'\n",
    "    int_to_char = dict((i,c) for i,c in enumerate(alphabet))\n",
    "    SequenceList = list()\n",
    "    for IntRow in IntegerList:    \n",
    "        # integer encode input data\n",
    "        sequence_encoded = [int_to_char[int(myint)] for myint in np.nditer(IntRow)]\n",
    "        SequenceList.append(sequence_encoded)\n",
    "    return SequenceList\n",
    "\n"
   ]
  },
  {
   "cell_type": "code",
   "execution_count": null,
   "metadata": {},
   "outputs": [],
   "source": [
    "# def Est_Grad_Save(SeqOH, Validation_cutoff=.1, Num=100, Y_Col_Name='promoter activity'):\n",
    "#     '''\n",
    "#     This function performs gradient search for optimal parameters with shuffle shift and stores it.\n",
    "    \n",
    "#     Input:\n",
    "#         DataArray\n",
    "#     '''\n",
    "#     from sklearn.ensemble import RandomForestRegressor\n",
    "#     from sklearn.model_selection import GroupShuffleSplit, GridSearchCV\n",
    "# #    from sklearn.metrics import r2_score\n",
    "#     import numpy as np\n",
    "\n",
    "#     Sequence_Samples, Sequence_Positions, Sequence_Bases = np.array(SeqOH['OneHot'].values.tolist()).shape\n",
    "#     X = np.array(SeqOH['OneHot'].values.tolist()).reshape(Sequence_Samples,Sequence_Positions*Sequence_Bases)\n",
    "#     Y = SeqOH[Y_Col_Name].values\n",
    "#     groups = SeqOH['Sequence_letter-encrypted']\n",
    "#     Number_Estimators = np.arange(20,50,2)\n",
    "#     Max_Features = np.arange(9,15,1)\n",
    "#     param_grid = [{'bootstrap':[False], 'n_estimators': Number_Estimators, 'max_features': Max_Features}]\n",
    "#     # Group shuffle split removes groups with identical sequences from the development set\n",
    "#     # This is more realistic for parameter estimation\n",
    "#     cv = GroupShuffleSplit(n_splits=Num, test_size=Validation_cutoff, random_state=42)\n",
    "\n",
    "#     forest_grid = RandomForestRegressor()\n",
    "#     grid_forest = GridSearchCV(forest_grid, param_grid, cv=cv, n_jobs=-1)\n",
    "#     grid_forest.fit(X, Y, groups)\n",
    "    \n",
    "#     Feature_Importance = np.array(grid_forest.best_estimator_.feature_importances_).reshape(-1,4)\n",
    "\n",
    "#     return grid_forest, Feature_Importance"
   ]
  },
  {
   "cell_type": "code",
   "execution_count": null,
   "metadata": {},
   "outputs": [],
   "source": [
    "#     # remember to extract the features before rearranging the feature importance to a sequence position matrix form\n",
    "#     if AddFeat != None:\n",
    "#         Feat_num = len(AddFeat)\n",
    "#         Feature_Importance_Nucl = np.array(grid_forest.best_estimator_.feature_importances_[0:-Feat_num]).reshape(-1,4)\n",
    "#         Feature_Importance_Eng = grid_forest.best_estimator_.feature_importances_[-Feat_num]\n",
    "#     else:\n",
    "#         Feature_Importance_Nucl = np.array(grid_forest.best_estimator_.feature_importances_).reshape(-1,4)\n",
    "#         Feature_Importance_Eng = []"
   ]
  }
 ],
 "metadata": {
  "kernelspec": {
   "display_name": "Python 3",
   "language": "python",
   "name": "python3"
  },
  "language_info": {
   "codemirror_mode": {
    "name": "ipython",
    "version": 3
   },
   "file_extension": ".py",
   "mimetype": "text/x-python",
   "name": "python",
   "nbconvert_exporter": "python",
   "pygments_lexer": "ipython3",
   "version": "3.7.6"
  }
 },
 "nbformat": 4,
 "nbformat_minor": 4
}
