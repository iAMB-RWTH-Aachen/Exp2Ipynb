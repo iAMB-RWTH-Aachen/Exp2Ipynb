{
 "cells": [
  {
   "cell_type": "markdown",
   "metadata": {},
   "source": [
    "# 0) User Input"
   ]
  },
  {
   "cell_type": "code",
   "execution_count": null,
   "metadata": {},
   "outputs": [],
   "source": [
    "Regressor_File = 'data-PromLib_EcolPtai/00000000_PromLib_EcolPtai_Ecol-Promoter-Activity_SVR-Regressor.pkl'#'RegressorTests/SVR-Regressor-Standard.pkl'\n",
    "Scaler_File = 'data-PromLib_EcolPtai/00000000_PromLib_EcolPtai_Ecol-Promoter-Activity_SVR-Params.pkl'#'RegressorTests/SVR-Scaler.pkl'\n",
    "\n",
    "output_filepath = \"modelfile\"\n",
    "output_filename = \"gene-svr\""
   ]
  },
  {
   "cell_type": "markdown",
   "metadata": {},
   "source": [
    "# 1) Generate Model file"
   ]
  },
  {
   "cell_type": "code",
   "execution_count": null,
   "metadata": {},
   "outputs": [],
   "source": [
    "import joblib\n",
    "import utils\n",
    "import timeit\n"
   ]
  },
  {
   "cell_type": "code",
   "execution_count": null,
   "metadata": {},
   "outputs": [],
   "source": [
    "# Unpickle regressor and scaler\n",
    "myRegr = joblib.load(Regressor_File)\n",
    "myScaler = joblib.load(Scaler_File)\n",
    "\n",
    "# Create dictionary containing the output scaler\n",
    "scaler = {'output': myScaler['Ecol Promoter Activity_Scaler']} #Ecol Promoter Activity_Scaler, Promoter Activity_ML_Scaler\n",
    "\n",
    "# Create model file\n",
    "utils.save_model_to_json(output_filepath, output_filename + '.json', myRegr, scaler)"
   ]
  },
  {
   "cell_type": "code",
   "execution_count": null,
   "metadata": {},
   "outputs": [],
   "source": [
    "# Save number of nukleotides the regressor uses as input, this is required to specifiy the number \n",
    "# of optimization variables\n",
    "nNukleotides = myRegr.support_vectors_.shape[1] - 1\n",
    "print('Input vector: {}, nucleotides: {}'.format(nNukleotides, nNukleotides/4))"
   ]
  },
  {
   "cell_type": "markdown",
   "metadata": {},
   "source": [
    "# 2) Optimize Model"
   ]
  },
  {
   "cell_type": "markdown",
   "metadata": {},
   "source": [
    "## Imports"
   ]
  },
  {
   "cell_type": "code",
   "execution_count": null,
   "metadata": {},
   "outputs": [],
   "source": [
    "from _pymaingo import *\n",
    "from pymelon import *"
   ]
  },
  {
   "cell_type": "markdown",
   "metadata": {},
   "source": [
    "## Define Problem"
   ]
  },
  {
   "cell_type": "code",
   "execution_count": null,
   "metadata": {},
   "outputs": [],
   "source": [
    "# To specify the optimization problem to be solved by MAiNGO\n",
    "# we need to implement a specialization of the abstract MAiNGOmodel class.\n",
    "# In particular, we need to implement the get_variables and evaluate functions.\n",
    "# In total, this model needs to implement an (MI)NLP optimization problem of the format\n",
    "# min_{x \\in X} f(x)\n",
    "#      s.t.     h(x)  = 0\n",
    "#               g(x) <= 0,\n",
    "# where X (the host set) is a compact hyperrectangle in R^n (or, optionally,\n",
    "# some entries of x can be restricted to integer values).\n",
    "class Model(MAiNGOmodel):\n",
    "\n",
    "    #####################################\n",
    "    # This function defines the optimization variables in the problem. In the above (MI)NLP, this corresponds to the x \\in X part.\n",
    "    # A variable typically needs bounds to define the host set X and can optionally have a variable type (VT_CONTINUOUS, VT_INTEGER, VT_BINARY)\n",
    "    # and a name (and a branching priority, which is an algorithmic parameter and usually not relevant).\n",
    "    # Note that the name is used *only* in the screen or log output of MAiNGO. In particular, it can not be used for modelling...\n",
    "    def get_variables(self):\n",
    "        # Add a binary variable for each of the nuleotides\n",
    "        return [OptimizationVariable(VT_BINARY, \"x_\" + str(i)) for i in range(nNukleotides)]\n",
    "\n",
    "    #####################################\n",
    "    # This function essentially needs to implement the functions f(x), h(x), and g(x) in the aove (MI)NLP.\n",
    "    # Unfortunaley, right now we cannot use the variable objects defined in the get_variables function above\n",
    "    # directly for modeling (nor other variable types defined elsewhere) for technical reasons.\n",
    "    # Instead, the \"vars\" list that MAiNGO hands to this evaluate function contains the same number of elements as the\n",
    "    # list that we returned in the get_variables function, and it is only through their position in this list that we can\n",
    "    # map the variables used herein to the ones we defined in get_variables.\n",
    "    def evaluate(self,vars):\n",
    "        \n",
    "        # Load support vector regressor from file\n",
    "        svr = SupportVectorRegression(output_filepath, output_filename)\n",
    "\n",
    "        # Calculate the vc share and append it to the \n",
    "        gc_share =0\n",
    "        for i in range(0,nNukleotides,4):\n",
    "            gc_share += vars[i+1] + vars[i+2]\n",
    "            \n",
    "        gc_share /= nNukleotides\n",
    "        \n",
    "        vars.append(gc_share)\n",
    "        \n",
    "        # Assign the evaluation of the regressor as the objective\n",
    "        expr = svr.calculate_prediction_reduced_space(vars)\n",
    "        \n",
    "        # Add constraint that ensures that at each position only one nukleotide is active\n",
    "        constraints = []\n",
    "        for i in range(0,nNukleotides,4):\n",
    "            constraints.append(vars[i+1] + vars[i+2] + vars[i+3] + vars[i] - 1)\n",
    "        \n",
    "\n",
    "        # Create a evaluation container with the defined objective and constraint functions\n",
    "        result = EvaluationContainer()\n",
    "        result.eq = constraints\n",
    "#         result.objective = -expr;    # Maingo minimizes by default, to maximize we have to pass the objective as negative\n",
    "        target = .3\n",
    "        result.objective = (expr-target)**2;    # Maingo minimizes by default, to maximize we have to pass the objective as negative\n",
    "\n",
    "        # Optionally, we can define OutputVariables. These are things that we would like to have\n",
    "        # evaluated at the optimal solution but that do not form part of the (MI)NLP itself.\n",
    "        # \n",
    "        result.output = [ OutputVariable('Expression: ', expr)]\n",
    "        return result"
   ]
  },
  {
   "cell_type": "markdown",
   "metadata": {},
   "source": [
    "## Perform Optimization"
   ]
  },
  {
   "cell_type": "code",
   "execution_count": null,
   "metadata": {},
   "outputs": [],
   "source": [
    "# To actually solve the problem, we instantiate a model, hand it to a MAiNGO instance.\n",
    "myModel = Model()\n",
    "myMAiNGO = MAiNGO(myModel)"
   ]
  },
  {
   "cell_type": "code",
   "execution_count": null,
   "metadata": {},
   "outputs": [],
   "source": [
    "\n",
    "start_time = timeit.default_timer()\n",
    "# There are lots of settings regarding algorithmic details, subsolvers, and output.\n",
    "# E.g., to disable screen output:\n",
    "myMAiNGO.set_option(\"outstreamVerbosity\", 1)\n",
    "myMAiNGO.set_option(\"maxTime\", 360)\n",
    "myMAiNGO.set_option(\"PRE_maxLocalSearches\", 50)\n",
    "\n",
    "# Actually solve the problem\n",
    "myMAiNGO.solve()\n",
    "\n",
    "# Query results\n",
    "optimalObjective = myMAiNGO.get_objective_value()\n",
    "print(\"\\nOptimal objective value: {}\".format(-optimalObjective))\n",
    "optimalSolutionPoint = myMAiNGO.get_solution_point()\n",
    "run_time = timeit.default_timer() - start_time\n",
    "\n",
    "print('Optimization run time: {:.0f} sec'.format(run_time))\n",
    "print(\"Optimal solution point: {}\\n\".format(optimalSolutionPoint))\n"
   ]
  },
  {
   "cell_type": "code",
   "execution_count": null,
   "metadata": {},
   "outputs": [],
   "source": [
    "import numpy as np\n",
    "gc_share =0\n",
    "for i in range(0,nNukleotides,4):\n",
    "    gc_share += optimalSolutionPoint[i+1] + optimalSolutionPoint[i+2]\n",
    "\n",
    "gc_share /= nNukleotides\n",
    "\n",
    "newstr = np.append(optimalSolutionPoint[:-2],gc_share)\n",
    "OptExpr_stand = myRegr.predict([newstr])\n",
    "Scaler = myScaler['Ecol Promoter Activity_Scaler']\n",
    "myResult = Scaler.inverse_transform(OptExpr_stand)\n"
   ]
  },
  {
   "cell_type": "code",
   "execution_count": null,
   "metadata": {},
   "outputs": [],
   "source": [
    "OptExpr_stand = myRegr.predict([optimalSolutionPoint])\n",
    "Scaler = myScaler['Ecol Promoter Activity_Scaler']\n",
    "myResult = Scaler.inverse_transform(OptExpr_stand)\n",
    "\n",
    "print('result: {}'.format(myResult))"
   ]
  }
 ],
 "metadata": {
  "kernelspec": {
   "display_name": "Python 3",
   "language": "python",
   "name": "python3"
  },
  "language_info": {
   "codemirror_mode": {
    "name": "ipython",
    "version": 3
   },
   "file_extension": ".py",
   "mimetype": "text/x-python",
   "name": "python",
   "nbconvert_exporter": "python",
   "pygments_lexer": "ipython3",
   "version": "3.7.6"
  }
 },
 "nbformat": 4,
 "nbformat_minor": 4
}
