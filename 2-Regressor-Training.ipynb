{
 "cells": [
  {
   "cell_type": "markdown",
   "metadata": {},
   "source": [
    "# Regressor Training"
   ]
  },
  {
   "cell_type": "markdown",
   "metadata": {},
   "source": [
    "## Introduction\n",
    "\n",
    "This notebook guides through the training of a random forest machine learning regressor. The data is split into a training and a test set, by default with a relation of 9:1. The expression values are scaled to zero mean and unit variance based on the training set. Positions that are non-informative because no alternative nucleotides have been tested are deleted. The performance evaluation is based on the R^2 score from sklearn. The correlation of measured and predicted expression values is plotted. The feature importance from the random forest regression represent the contributions of each nucleotide-position to the prediction. They are extracted and visualized with a Logo-plot.\n",
    "\n",
    "If you generate a new regressor with new train-test set division, make sure you put the current date on the `ML_Date parameter` in your `config.txt`.\n",
    "\n",
    "If you generate a new regressor based on an existing train-test set division, use the date of the existing train-test set division on the `ML_Date parameter` in your `config.txt`. \n",
    "\n",
    "Make sure the `ML_Regressor` parameter in the `config.txt` file represents your favorit ML-approach and the parameter `Data_Standard` is set to `True` for SVR."
   ]
  },
  {
   "cell_type": "markdown",
   "metadata": {},
   "source": [
    "## System initiation\n",
    "\n",
    "Loading all necessary libraries."
   ]
  },
  {
   "cell_type": "code",
   "execution_count": 1,
   "metadata": {},
   "outputs": [],
   "source": [
    "import os\n",
    "import time\n",
    "import timeit\n",
    "import joblib\n",
    "import pickle\n",
    "from Exp2Ipynb import init_Exp2, Data_Src_Load, make_DataDir, split_train_test, ExpressionScaler, Sequence_Conserved_Adjusted, MyRF, MySV, MyGB\n",
    "from sklearn.model_selection import GroupShuffleSplit"
   ]
  },
  {
   "cell_type": "markdown",
   "metadata": {},
   "source": [
    "### Variable setting\n",
    "\n",
    "We load the naming conventions and parameters for statistical analysis and regression from 'config.txt'"
   ]
  },
  {
   "cell_type": "code",
   "execution_count": 2,
   "metadata": {},
   "outputs": [
    {
     "name": "stdout",
     "output_type": "stream",
     "text": [
      "Already existent data directory  data-Example1-Pput .\n"
     ]
    }
   ],
   "source": [
    "Name_Dict = init_Exp2('config_Pput.txt')\n",
    "\n",
    "ML_Date = Name_Dict['ML_Date']\n",
    "File_Base = Name_Dict['Data_File'].split('.')[0]\n",
    "Data_Folder = 'data-{}'.format(File_Base) \n",
    "Measure_Numb = int(Name_Dict['Library_Expression'])\n",
    "ML_Regressor = Name_Dict['ML_Regressor'][:-1]\n",
    "ML_Type = Name_Dict['ML_Regressor'][-1]\n",
    "Y_Col_Name = eval(Name_Dict['Y_Col_Name'])\n",
    "Response_Value = eval(Name_Dict['Response_Value'])\n"
   ]
  },
  {
   "cell_type": "markdown",
   "metadata": {},
   "source": [
    "## Data loading\n",
    "\n",
    "General information on the data source csv-file is stored in the 'config.txt' file generated in the '0-Workflow' notebook. The sequence and expression data is stored in a csv file with an identifier in column 'ID' (not used for anything), the DNA-sequence in column 'Sequence', and the expression strength in column 'promoter activity'. While loading, the sequence is converted to a label encrypted sequence, ['A','C','G','T'] replaced by [0,1,2,3], and a one-hot encoding."
   ]
  },
  {
   "cell_type": "code",
   "execution_count": 3,
   "metadata": {},
   "outputs": [
    {
     "name": "stdout",
     "output_type": "stream",
     "text": [
      "Following outliers were detected: ID: ['BGSPL14g_19_a'], Value: [[50.13234789]]\n",
      "Categorization of expression.\n",
      "The expression values were sorted into the following bins: [ 0.2178722  16.5660553  24.76999231 35.15239853]\n"
     ]
    },
    {
     "data": {
      "text/html": [
       "<div>\n",
       "<style scoped>\n",
       "    .dataframe tbody tr th:only-of-type {\n",
       "        vertical-align: middle;\n",
       "    }\n",
       "\n",
       "    .dataframe tbody tr th {\n",
       "        vertical-align: top;\n",
       "    }\n",
       "\n",
       "    .dataframe thead th {\n",
       "        text-align: right;\n",
       "    }\n",
       "</style>\n",
       "<table border=\"1\" class=\"dataframe\">\n",
       "  <thead>\n",
       "    <tr style=\"text-align: right;\">\n",
       "      <th></th>\n",
       "      <th>level_0</th>\n",
       "      <th>index</th>\n",
       "      <th>Strain ID</th>\n",
       "      <th>Sequence</th>\n",
       "      <th>Promoter Activity</th>\n",
       "      <th>Sequence_label-encrypted</th>\n",
       "      <th>Sequence_letter-encrypted</th>\n",
       "      <th>GC-content</th>\n",
       "      <th>Promoter Activity_ML</th>\n",
       "    </tr>\n",
       "  </thead>\n",
       "  <tbody>\n",
       "    <tr>\n",
       "      <th>0</th>\n",
       "      <td>0</td>\n",
       "      <td>0</td>\n",
       "      <td>BG14g</td>\n",
       "      <td>[[0, 0, 1, 0], [0, 1, 0, 0], [0, 1, 0, 0], [0,...</td>\n",
       "      <td>35.057893</td>\n",
       "      <td>[2, 1, 1, 1, 0, 3, 3, 2, 0, 1, 0, 0, 2, 2, 1, ...</td>\n",
       "      <td>GCCCATTGACAAGGCTCTCGCGGCCAGGTATAATTGCACG</td>\n",
       "      <td>0.575</td>\n",
       "      <td>2</td>\n",
       "    </tr>\n",
       "    <tr>\n",
       "      <th>1</th>\n",
       "      <td>12</td>\n",
       "      <td>12</td>\n",
       "      <td>BGSPL14g_01_a</td>\n",
       "      <td>[[0, 0, 1, 0], [0, 1, 0, 0], [0, 1, 0, 0], [0,...</td>\n",
       "      <td>2.185554</td>\n",
       "      <td>[2, 1, 1, 1, 0, 0, 3, 2, 0, 1, 0, 0, 2, 2, 1, ...</td>\n",
       "      <td>GCCCAATGACAAGGCTCTCGCGGCCAGGTATAATTGCACG</td>\n",
       "      <td>0.575</td>\n",
       "      <td>0</td>\n",
       "    </tr>\n",
       "    <tr>\n",
       "      <th>2</th>\n",
       "      <td>22</td>\n",
       "      <td>22</td>\n",
       "      <td>BGSPL14g_01_c</td>\n",
       "      <td>[[0, 0, 1, 0], [0, 1, 0, 0], [0, 1, 0, 0], [0,...</td>\n",
       "      <td>1.383577</td>\n",
       "      <td>[2, 1, 1, 1, 0, 1, 3, 2, 0, 1, 0, 0, 2, 2, 1, ...</td>\n",
       "      <td>GCCCACTGACAAGGCTCTCGCGGCCAGGTATAATTGCACG</td>\n",
       "      <td>0.600</td>\n",
       "      <td>0</td>\n",
       "    </tr>\n",
       "  </tbody>\n",
       "</table>\n",
       "</div>"
      ],
      "text/plain": [
       "   level_0  index      Strain ID  \\\n",
       "0        0      0          BG14g   \n",
       "1       12     12  BGSPL14g_01_a   \n",
       "2       22     22  BGSPL14g_01_c   \n",
       "\n",
       "                                            Sequence  Promoter Activity  \\\n",
       "0  [[0, 0, 1, 0], [0, 1, 0, 0], [0, 1, 0, 0], [0,...          35.057893   \n",
       "1  [[0, 0, 1, 0], [0, 1, 0, 0], [0, 1, 0, 0], [0,...           2.185554   \n",
       "2  [[0, 0, 1, 0], [0, 1, 0, 0], [0, 1, 0, 0], [0,...           1.383577   \n",
       "\n",
       "                            Sequence_label-encrypted  \\\n",
       "0  [2, 1, 1, 1, 0, 3, 3, 2, 0, 1, 0, 0, 2, 2, 1, ...   \n",
       "1  [2, 1, 1, 1, 0, 0, 3, 2, 0, 1, 0, 0, 2, 2, 1, ...   \n",
       "2  [2, 1, 1, 1, 0, 1, 3, 2, 0, 1, 0, 0, 2, 2, 1, ...   \n",
       "\n",
       "                  Sequence_letter-encrypted  GC-content Promoter Activity_ML  \n",
       "0  GCCCATTGACAAGGCTCTCGCGGCCAGGTATAATTGCACG       0.575                    2  \n",
       "1  GCCCAATGACAAGGCTCTCGCGGCCAGGTATAATTGCACG       0.575                    0  \n",
       "2  GCCCACTGACAAGGCTCTCGCGGCCAGGTATAATTGCACG       0.600                    0  "
      ]
     },
     "execution_count": 3,
     "metadata": {},
     "output_type": "execute_result"
    }
   ],
   "source": [
    "SeqDat = Data_Src_Load(Name_Dict)\n",
    "SeqDat.head(3)"
   ]
  },
  {
   "cell_type": "markdown",
   "metadata": {},
   "source": [
    "## Data manipulation\n",
    "\n",
    "For the machine learning the data is first separated into training and test sets. The training set is used to generate a standard scaler for expression standardization to zero mean and unit variance. On each position the entropy is calculated to assess how much nucleotide diversity has been sampled on each position. If at any position the entropy is zero, i.e. only one nucleotide is present in all samples, this position is removed because it is non-informative for further analysis (Position entropy analysis). \n",
    "\n",
    "### Split data to train and test set"
   ]
  },
  {
   "cell_type": "code",
   "execution_count": 4,
   "metadata": {},
   "outputs": [
    {
     "name": "stdout",
     "output_type": "stream",
     "text": [
      "Load existing Train-Test split data-Example1-Pput/20210430_Example1-Pput_3_TrainTest-Data.pkl.\n"
     ]
    }
   ],
   "source": [
    "# You can generate a new train-test split or use an existing file. \n",
    "# If the ML_Date is from the current date, it is assumed you generate a new regressor\n",
    "# If another ML_Date than the current date is chosen, an existing train-test division is loaded\n",
    "# The identifier is based on the date from the corresponding machine learning training.\n",
    "# True generates a new split, False loads an existing split\n",
    "TrainTest_File = os.path.join(Data_Folder, '{}_{}_{}_TrainTest-Data.pkl'.format(ML_Date, File_Base, Response_Value))\n",
    "GenSplit = True if ML_Date == time.strftime('%Y%m%d') and not os.path.isfile(TrainTest_File) else False\n",
    "if GenSplit:\n",
    "    print('new train-test')\n",
    "    Measure_Name = ['{}_ML'.format(MeasName) for MeasName in Y_Col_Name]\n",
    "\n",
    "    train_size = 1 - eval(Name_Dict['TestRatio'])\n",
    "    # split number '1' because we only use one final test set. Cross validation comes later\n",
    "    gss = GroupShuffleSplit(n_splits=1, train_size=train_size)\n",
    "    X = SeqDat['Sequence']\n",
    "#     if ML_Type=='C':\n",
    "#         y = SeqDat['ExprCat']\n",
    "#     else:\n",
    "    y = SeqDat[Measure_Name]\n",
    "    groups = SeqDat['Sequence_letter-encrypted'].str.upper()\n",
    "    Train_Idx, Test_Idx = list(gss.split(X, y, groups))[0]\n",
    "    SeqTest = SeqDat.iloc[Test_Idx].reset_index(drop=True)\n",
    "    SeqTrain = SeqDat.iloc[Train_Idx].reset_index(drop=True)\n",
    "\n",
    "    TrainTest_Data = {'Train': SeqTrain, 'Test': SeqTest}\n",
    "    TrainTest_File = os.path.join(Data_Folder, '{}_{}_{}_TrainTest-Data.pkl'.format(time.strftime('%Y%m%d'), File_Base, Response_Value))\n",
    "    pickle.dump(TrainTest_Data, open(TrainTest_File, 'wb'))\n",
    "\n",
    "    print('Train and test data stored as: {}'.format(TrainTest_File))\n",
    "else:\n",
    "    TrainTest_Data = pickle.load(open(TrainTest_File,'rb'))\n",
    "    SeqTrain, SeqTest = TrainTest_Data['Train'], TrainTest_Data['Test']\n",
    "    print('Load existing Train-Test split {}.'.format(TrainTest_File))"
   ]
  },
  {
   "cell_type": "markdown",
   "metadata": {},
   "source": [
    "### Data engineering\n",
    "\n",
    "Normalization of the data improves training for kernel and artificial neural network based strategies. However, omit this step for correlation and regression tree (CART) approaches. \n",
    "\n",
    "If at any position the entropy is below a threshold (`Entropy_cutoff`) because too few nucleotides are sampled, this position is removed because it is non-informative for further analysis (Position entropy analysis)."
   ]
  },
  {
   "cell_type": "code",
   "execution_count": 5,
   "metadata": {},
   "outputs": [
    {
     "name": "stdout",
     "output_type": "stream",
     "text": [
      "Normalization: False\n"
     ]
    }
   ],
   "source": [
    "# standardization step, omit for CART approaches by setting variable 'Data_Standard' to 'False'\n",
    "# Target for classification cannot be normalized\n",
    "# The standardization is performed on the original data, not the data from previous standardization\n",
    "# Previous standardization results are overwritten\n",
    "Data_Standard = False\n",
    "if eval(Name_Dict['Response_Value'])==0:\n",
    "    print('New standardization of observed expression values.')\n",
    "    Data_Standard = True\n",
    "    SeqTrain, Expr_Scaler = ExpressionScaler(SeqTrain, Name_Dict)\n",
    "    # storing scaler\n",
    "    Scaler_File = os.path.join(Data_Folder, '{}_{}_{}-Scaler.pkl'.format(time.strftime('%Y%m%d'), File_Base, Name_Dict['ML_Regressor']))\n",
    "    pickle.dump(Expr_Scaler, open(Scaler_File, 'wb'))\n",
    "\n",
    "# removing non-informative positions where no base diversity exists, base one hot encoding\n",
    "SeqTrain_Hadj, Positions_removed, PSEntropy = Sequence_Conserved_Adjusted(SeqTrain, Name_Dict, Entropy_cutoff=float(Name_Dict['Entropy_cutoff']))\n",
    "\n",
    "print('Normalization: {}'.format(Data_Standard))"
   ]
  },
  {
   "cell_type": "markdown",
   "metadata": {},
   "source": [
    "## Regression with grid search on shuffle split\n",
    "\n",
    "You can either choose to start a new training of a random forest regressor or load an existing regressor. If you load an existing random-forest regressor the parameters of the standard scaler are loaded based on names in the config-file. For the estimation the training set is dynamically separated into a new training and test set with a 9:1 ratio (parameter 'test_ratio') with 1000 random shuffle splits (parameter 'split_number'). The training takes about 5 minutes on 16 cpu-cores.\n",
    "\n",
    "**User input:** <br>\n",
    " * Decision whether a new random-forest training is started or an existing regressor is loaded.\n",
    " \n",
    "*Example:*<br>\n",
    " Start new random-forest training by setting:<br>\n",
    " RFR_File = 0<br>\n",
    " otherwise, insert the file adress:<br>\n",
    " RFR_File = 'data-Example1-Pput\\\\20191106_Example1-Pput_RFR_ML-File.pkl'"
   ]
  },
  {
   "cell_type": "code",
   "execution_count": 6,
   "metadata": {},
   "outputs": [
    {
     "name": "stdout",
     "output_type": "stream",
     "text": [
      "Starting new SV-ML training with Classification for Promoter Activity_ML\n",
      "Training run time: 111 sec\n",
      "Estimator hyperparameter:  <bound method BaseEstimator.get_params of SVC(C=1000.0, gamma=0.20691380811147903)>\n"
     ]
    }
   ],
   "source": [
    "# Number of independent promoter library measurements\n",
    "Regressor_Best = dict()\n",
    "# ML Random Forest training for number of independent promoter library measurements\n",
    "for Meas_Idx in range(Measure_Numb):\n",
    "    # starting the machine learning\n",
    "    # This can take a while\n",
    "    start_time = timeit.default_timer()\n",
    "    test_ratio = .1\n",
    "    split_number = 100\n",
    "    # If the data is standardized we have to extract it from the separate column, otherwise we use the original data column\n",
    "    # If Categorization is targeted, we take the category data frame column\n",
    "    Measure_Name = '{}_ML'.format(Y_Col_Name[Meas_Idx])\n",
    "#     if eval(Name_Dict['Data_Standard']):\n",
    "#         Meas_Name = '{}_scaled'.format(Y_Col_Name[Meas_Idx]) \n",
    "#     elif ML_Type == 'C':\n",
    "#         Meas_Name = '{}_Cat'.format(Y_Col_Name[Meas_Idx])\n",
    "#     else: \n",
    "#         Meas_Name = Y_Col_Name[Meas_Idx]\n",
    "    AddFeat = eval(Name_Dict['Add_Feat'])\n",
    "    MLType = 'Classification' if Response_Value > 1 else 'Regression'\n",
    "    print('Starting new {}-ML training with {} for {}'.format(ML_Regressor, MLType, Measure_Name))\n",
    "    # starting regression with regressor type defined in the config file\n",
    "    # RFR: random forest regression\n",
    "    if ML_Regressor == 'RF':\n",
    "        MyML = MyRF(SeqTrain_Hadj, test_ratio, split_number, Measure_Name, Response_Value, AddFeat)\n",
    "    # SVR: support vector regression\n",
    "    elif ML_Regressor == 'SV':\n",
    "        MyML = MySV(SeqTrain_Hadj, test_ratio, split_number, Measure_Name, Response_Value, AddFeat)\n",
    "    # TPOT: TPOT automated tree regression\n",
    "    elif ML_Regressor == 'GB':\n",
    "        MyML = MyGB(SeqTrain_Hadj, test_ratio, split_number, Measure_Name, Response_Value, AddFeat)\n",
    "#     elif ML_Type == 'TPOT':\n",
    "#         print('TPOT')\n",
    "    else:\n",
    "        print('Machine Learning type not recognized, choose:')\n",
    "        print('\"RF<R/C>\": random forest')\n",
    "        print('\"GB<R/C>\": gradient boosting')\n",
    "        print('\"SV<R/C>\": support vector')\n",
    "#         print('\"TPOT\": automated tree regression pipeline (requires TPOT installation)')\n",
    "        break\n",
    "        \n",
    "    run_time = timeit.default_timer() - start_time\n",
    "    print('Training run time: {:.0f} sec'.format(run_time))\n",
    "    print('Estimator hyperparameter: ', MyML.best_estimator_.get_params)\n",
    "    \n",
    "    # getting the best estimator\n",
    "    ML_Best = MyML.best_estimator_\n",
    "\n",
    "    # saving the best estimator\n",
    "    Regressor_File = os.path.join(Data_Folder, '{}_{}_{}_{}{}-Regressor.pkl'.format(time.strftime('%Y%m%d'), File_Base, Measure_Name.replace(' ','-'), ML_Regressor, Response_Value))\n",
    "    joblib.dump(ML_Best, Regressor_File)\n",
    "    # conserved positions not used as input for the regressor\n",
    "    Data_Prep_Params = {'Positions_removed': Positions_removed}\n",
    "    # Mean and standard deviation of training set expression used for normalizing\n",
    "    if eval(Name_Dict['Response_Value'])==0:\n",
    "        # The standard scaler default name is the name of the expression measurement column with suffix: '_Scaler'    \n",
    "        Scaler_DictName = '{}_Scaler'.format(Measure_Name)\n",
    "        Data_Prep_Params[Scaler_DictName] = Expr_Scaler[Scaler_DictName]\n",
    "\n",
    "    Parameter_File = os.path.join(Data_Folder, '{}_{}_{}_{}{}-Params.pkl'.format(time.strftime('%Y%m%d'), File_Base, Measure_Name.replace(' ','-'), ML_Regressor, Response_Value))\n",
    "    pickle.dump(Data_Prep_Params, open(Parameter_File, 'wb'))"
   ]
  }
 ],
 "metadata": {
  "kernelspec": {
   "display_name": "exp2ipynb",
   "language": "python",
   "name": "exp2ipynb"
  },
  "language_info": {
   "codemirror_mode": {
    "name": "ipython",
    "version": 3
   },
   "file_extension": ".py",
   "mimetype": "text/x-python",
   "name": "python",
   "nbconvert_exporter": "python",
   "pygments_lexer": "ipython3",
   "version": "3.9.1"
  }
 },
 "nbformat": 4,
 "nbformat_minor": 4
}
