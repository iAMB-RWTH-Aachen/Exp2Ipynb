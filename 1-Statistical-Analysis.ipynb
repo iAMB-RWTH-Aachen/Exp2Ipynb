{
 "cells": [
  {
   "cell_type": "markdown",
   "metadata": {},
   "source": [
    "# Statistical properties of the promoter library\n",
    "## Introduction\n",
    "\n",
    "The statistical analysis generates visualizations for sequence specific properties like the histogram of sequence distance with respect to nucleotide exchanges, and the diversity of position specific sampling using entropy. The expression for the expression is given by a histogram of the expression strength distribution. The joint information of sequence and expression is visualized with heat-maps on average and variance of expression.\n",
    "\n",
    "The visualizations are stored in a subdirectory with a naming corresponding to the input file, see 'config.txt'.\n",
    "\n",
    "---\n",
    "\n",
    "**Author: Ulf W. Liebal** <br>\n",
    "**Contact: ulf.liebal@rwth-aachen.de** <br>\n",
    "\n",
    "---"
   ]
  },
  {
   "cell_type": "markdown",
   "metadata": {},
   "source": [
    "## System initiation\n",
    "\n",
    "Loading all necessary libraries."
   ]
  },
  {
   "cell_type": "code",
   "execution_count": null,
   "metadata": {},
   "outputs": [],
   "source": [
    "import time\n",
    "import os\n",
    "import numpy as np\n",
    "import pandas as pd\n",
    "import matplotlib.pyplot as plt\n",
    "from ExpressionExpert_Functions import Data_Src_Load, make_DataDir, ExpressionScaler, Sequence_Conserved_Adjusted, Insert_row_, ExpressionStrength_HeatMap, df_HeatMaps, ExpressionVariation_HeatMap, Sequence_Ref_DiffSum, Sequence_Dist_DiffSum, generate_distances\n",
    "%matplotlib inline"
   ]
  },
  {
   "cell_type": "markdown",
   "metadata": {},
   "source": [
    "### Variable setting\n",
    "\n",
    "We load the naming conventions from 'config.txt'"
   ]
  },
  {
   "cell_type": "code",
   "execution_count": null,
   "metadata": {},
   "outputs": [],
   "source": [
    "Name_Dict = dict()\n",
    "with open('config_EcoPtai.txt') as Conf:\n",
    "    myline = Conf.read().splitlines()\n",
    "    for line in myline:\n",
    "        if not line.startswith('#'):\n",
    "            (key, val) = line.split(':', 1)\n",
    "            Name_Dict[str(key.strip())] = val.strip()\n",
    "        \n",
    "\n",
    "Data_File = Name_Dict['Data_File']\n",
    "# extract the filename for naming of newly generated files\n",
    "File_Base = Name_Dict['File_Base']\n",
    "# the generated files will be stored in a subfolder with custom name\n",
    "Data_Folder = Name_Dict['Data_Folder']\n",
    "# column name of expression values\n",
    "Y_Col_Name = eval(Name_Dict['Y_Col_Name'])\n",
    "# Extracting entropy cutoff for removal of non-informative positions\n",
    "Entropy_cutoff = float(Name_Dict['Entropy_cutoff'])\n",
    "# figure file type\n",
    "Fig_Type = Name_Dict['Figure_Type']\n",
    "make_DataDir(Name_Dict)"
   ]
  },
  {
   "cell_type": "markdown",
   "metadata": {},
   "source": [
    "## Data loading\n",
    "\n",
    "General information on the data source csv-file, like the target variable name and units, are stored in the 'config.txt' file generated in the '0-Workflow' notebook. The sequence and expression data is stored in a csv file with a column with IDs for each sequence (user defined), the DNA-sequence in column 'Sequence' (obligatory), and the expression strength in column with a name define in the `config.txt`. While loading, the sequence is converted to a label encrypted sequence, ['A','C','G','T'] replaced by [0,1,2,3], and a one-hot encoding and the GC content is calculated. "
   ]
  },
  {
   "cell_type": "code",
   "execution_count": null,
   "metadata": {},
   "outputs": [],
   "source": [
    "SeqDat = Data_Src_Load(Name_Dict)\n",
    "SeqDat['Sequence_letter-encrypted'] = SeqDat['Sequence_letter-encrypted'].str.upper()\n",
    "SeqDat.head(3)"
   ]
  },
  {
   "cell_type": "markdown",
   "metadata": {},
   "source": [
    "## Data manipulation\n",
    "\n",
    "### Position entropy analysis\n",
    "\n",
    "On each position the entropy is calculated to assess how much nucleotide diversity has been sampled on each position. If at any position the entropy is below a threshold (`Entropy_cutoff`) because too few nucleotides are sampled, this position is removed because it is non-informative for further analysis (Position entropy analysis). \n"
   ]
  },
  {
   "cell_type": "code",
   "execution_count": null,
   "metadata": {},
   "outputs": [],
   "source": [
    "# removing non-informative positions where no base diversity exists, base one hot encoding\n",
    "SeqDat_Hadj, Positions_removed, PSEntropy = Sequence_Conserved_Adjusted(SeqDat, Name_Dict, Entropy_cutoff=Entropy_cutoff)"
   ]
  },
  {
   "cell_type": "markdown",
   "metadata": {},
   "source": [
    "## Visualization of statistical properties\n",
    "\n",
    "The standardized expression is used for visualization of the average and variance of expression for each nucleotide on each position (Heat map visualization of nucleotide-position expression). A histogram of the sequence differences is generated. Here, the frequency of sequences with a given number of nucleotide exchanges (in %) relative to the first sequence is plotted (Histogram of sequence distances). The sampled nucleotide diversity on each sequence position is plotted (Position entropy lollipop). A histogram showing the number of sequences over the expression range with a binning of ten is shown (Expression strength histogram).\n",
    "\n",
    "### Heat map visualization of nucleotide-position expression\n",
    "\n",
    "The heat maps are visualized only and not saved. Visualization of variation is suppressed."
   ]
  },
  {
   "cell_type": "code",
   "execution_count": null,
   "metadata": {},
   "outputs": [],
   "source": [
    "# we loop over all independent expression measurements\n",
    "for idx in range(int(Name_Dict['Library_Expression'])):\n",
    "    Measure_Name = Y_Col_Name[idx]\n",
    "#     Expression_Column = '{}_scaled'.format(Measure_Name)\n",
    "# # removing non-informative positions where no base diversity exists, base one hot encoding\n",
    "    Expr_avg = ExpressionStrength_HeatMap(SeqDat_Hadj, Measure_Name) #Expression_Column)\n",
    "    Expr_avg = Insert_row_(Positions_removed, Expr_avg, np.zeros([len(Positions_removed),4])*np.nan)\n",
    "# visualization of variation is commented\n",
    "#     Expr_var_Pput = ExpressionVariation_HeatMap(SeqDat_Hadj, Measure_Name)\n",
    "#     Expr_var_Pput = Insert_row_(Positions_removed, Expr_var_Pput, np.zeros([len(Positions_removed),4])*np.nan)\n",
    "    Fig_ID = Name_Dict['HM_File']\n",
    "    HM_File = os.path.join(Data_Folder, '{}_{}_{}_{}_{{}}.{}'.format(time.strftime('%Y%m%d'), File_Base, Fig_ID, Measure_Name.replace(' ',''), Fig_Type))   \n",
    "\n",
    "    # if you want to store the heat-maps switch the argument 'False' to 'True'\n",
    "    df_HeatMaps(Expr_avg, 'norm. expression average', True, HM_File.format('Average'))\n",
    "#     df_HeatMaps(Expr_var_Pput, 'norm. expression variance', False, HM_File.format('Variance'))\n"
   ]
  },
  {
   "cell_type": "markdown",
   "metadata": {},
   "source": [
    "### Histogram of sequence distances\n",
    "\n",
    "The histograms can be calculated in two ways:\n",
    " * sequence distances relative to a reference sequence\n",
    " * sequence distances among all sequences\n",
    "The sequence distance relative to a reference sequence makes sense if the library is generated from a single reference promoter set-up. The calculation is fast. If the library is very heterogeneous and different reference promoters have been used, then it is more appropriate to compare all sequences against each other to identify the overall sampled sequence diversity. The occurence takes high values because all sequences are mutually paired. This takes longer to compute (still less than a minute for fewer than 1000 samples of sequence length 50).\n",
    "\n",
    "**User input:** <br>\n",
    " * Decision for sequence distance with respect to reference seuqence or among all sequences.\n",
    " * Optional decision of saving the histogram by uncommenting the 'savefig' command.\n",
    " \n",
    "*Example:*<br>\n",
    "In the *P. putida* example, a single reference promoter sequence is used. Therefore, the reference based sequence distance meter is appropriate:<br>\n",
    "mydist = Sequence_Ref_DiffSum(SeqDat['Sequence_letter-encrypted'])\n",
    "\n",
    "A generic file name for figure export is set, but figure-export to svg is commented.\n"
   ]
  },
  {
   "cell_type": "code",
   "execution_count": null,
   "metadata": {},
   "outputs": [],
   "source": [
    "# For histogram of sequence diversity you can either root the distance to the most common nucleotide on each position or provide an external reference\n",
    "mydist = generate_distances(SeqDat, Name_Dict, Hist_Type=1)\n",
    "    \n",
    "# plt.rc('text', usetex=False)\n",
    "plt.hist(mydist*100, bins=20) # BG42: [3,6:221]; BG35:[2,222:]\n",
    "plt.xlabel('Sequence distance in %')\n",
    "plt.ylabel('Occurence')\n",
    "plt.tight_layout()\n",
    "Fig_ID = Name_Dict['SampSeqDist_File']\n",
    "SampSeqDist_File = os.path.join(Data_Folder, '{}_{}_{}.{}'.format(time.strftime('%Y%m%d'), File_Base, Fig_ID, Fig_Type))\n",
    "plt.savefig(SampSeqDist_File, bbox_inches='tight', format=Fig_Type)\n",
    "plt.show()"
   ]
  },
  {
   "cell_type": "markdown",
   "metadata": {},
   "source": [
    "### Position sampling and entropy lollipop\n",
    "\n",
    "**User input:** <br>\n",
    " * Optional decision of saving the histogram by uncommenting the 'savefig' command.\n"
   ]
  },
  {
   "cell_type": "code",
   "execution_count": null,
   "metadata": {},
   "outputs": [],
   "source": [
    "# stacked histogram of number of each nucleotide per position\n",
    "OH_matrix = np.stack(SeqDat_Hadj['OneHot'].values)\n",
    "OH_df = pd.DataFrame(np.sum(OH_matrix, axis=0), columns=['A','C','G','T'])\n",
    "OH_df = Insert_row_(Positions_removed, OH_df, np.zeros([len(Positions_removed),4]))\n",
    "OH_df[['A','C','G','T']].plot(kind='bar', stacked=True)\n",
    "plt.xlabel('Position')\n",
    "plt.ylabel('Samples')\n",
    "Fig_ID = Name_Dict['SamplingDiv_File']\n",
    "SamplingDiv_File = os.path.join(Data_Folder, '{}_{}_{}.{}'.format(time.strftime('%Y%m%d'), File_Base, Fig_ID, Fig_Type))\n",
    "plt.savefig(SamplingDiv_File, bbox_inches='tight', format=Fig_Type)\n",
    "plt.show()\n",
    "\n",
    "# entropy on each position\n",
    "plt.stem(np.arange(-len(PSEntropy),0,1), PSEntropy, basefmt=' ', use_line_collection=True)\n",
    "plt.xlabel('Position on sequence')\n",
    "plt.ylabel('Information content in bits (max=2)')\n",
    "Fig_ID = Name_Dict['Entropy_File']\n",
    "Entropy_File = os.path.join(Data_Folder, '{}_{}_{}.{}'.format(time.strftime('%Y%m%d'), File_Base, Fig_ID, Fig_Type))\n",
    "# plt.savefig(Entropy_File, bbox_inches='tight', format=Fig_Type)\n",
    "plt.show()"
   ]
  },
  {
   "cell_type": "markdown",
   "metadata": {},
   "source": [
    "### Expression strength histogram\n",
    "\n",
    "**User input:** <br>\n",
    " * Optional decision of saving the histogram by uncommenting the 'savefig' command.\n"
   ]
  },
  {
   "cell_type": "code",
   "execution_count": null,
   "metadata": {},
   "outputs": [],
   "source": [
    "plt.hist(SeqDat[Y_Col_Name].values)\n",
    "plt.xlabel(Name_Dict['Expression_Unit'])\n",
    "plt.ylabel('Occurence')\n",
    "plt.legend(Y_Col_Name)\n",
    "Fig_ID = Name_Dict['ExprHist_File']\n",
    "ExprHist_File = os.path.join(Data_Folder, '{}_{}_{}.{}'.format(time.strftime('%Y%m%d'), File_Base, Fig_ID, Fig_Type))\n",
    "# plt.savefig(ExprHist_File, bbox_inches='tight', format=Fig_Type)\n",
    "plt.show()"
   ]
  },
  {
   "cell_type": "markdown",
   "metadata": {},
   "source": [
    "## Promoter cross-host expression (optional)\n",
    "\n",
    "In case the promoter library was constructed such that a sequence library was tested in different organisms (transcription factors) then it is instructive to compare cross-host (cross-transcription factor) expression strength. Here, this is only done for two measurements."
   ]
  },
  {
   "cell_type": "code",
   "execution_count": null,
   "metadata": {},
   "outputs": [],
   "source": [
    "if len(Y_Col_Name) == 2:\n",
    "    ExprRange_1 = SeqDat[Y_Col_Name[0]]#/SeqDat[Y_Col_Name[0]].max()*100\n",
    "    ExprRange_2 = SeqDat[Y_Col_Name[1]]#/SeqDat[Y_Col_Name[1]].max()*100\n",
    "\n",
    "    fig = plt.figure()\n",
    "#     ax = fig.gca()\n",
    "#     ax.set_xticks(np.arange(0, 100, 10))\n",
    "#     ax.set_yticks(np.arange(0, 100, 10))\n",
    "\n",
    "\n",
    "    plt.plot(ExprRange_1, ExprRange_2, 'xk')\n",
    "    plt.xlabel('{}, in {}'.format(Y_Col_Name[0], Name_Dict['Expression_Unit']))\n",
    "    plt.ylabel('{}, in {}'.format(Y_Col_Name[1], Name_Dict['Expression_Unit']))\n",
    "    plt.title('Cross Expression Translation')\n",
    "    plt.grid()\n",
    "    plt.tight_layout()\n",
    "    Fig_ID = Name_Dict['X_Expr']\n",
    "    XExpr_File = os.path.join(Data_Folder, '{}_{}_{}.{}'.format(time.strftime('%Y%m%d'), File_Base, Fig_ID, Fig_Type))\n",
    "    plt.savefig(XExpr_File, bbox_inches='tight', format=Fig_Type)\n",
    "    plt.show()"
   ]
  }
 ],
 "metadata": {
  "kernelspec": {
   "display_name": "Python 3",
   "language": "python",
   "name": "python3"
  },
  "language_info": {
   "codemirror_mode": {
    "name": "ipython",
    "version": 3
   },
   "file_extension": ".py",
   "mimetype": "text/x-python",
   "name": "python",
   "nbconvert_exporter": "python",
   "pygments_lexer": "ipython3",
   "version": "3.7.6"
  }
 },
 "nbformat": 4,
 "nbformat_minor": 4
}
