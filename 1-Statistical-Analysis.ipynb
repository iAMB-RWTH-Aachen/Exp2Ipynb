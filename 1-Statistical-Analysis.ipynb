{
 "cells": [
  {
   "cell_type": "markdown",
   "metadata": {},
   "source": [
    "# Statistical properties of the promoter library\n",
    "## Introduction\n",
    "\n",
    "The statistical analysis generates visualizations for sequence specific properties like the histogram of sequence distance with respect to nucleotide exchanges, and the diversity of position specific sampling using entropy. The expression for the expression is given by a histogram of the expression strength distribution. The joint information of sequence and expression is visualized with heat-maps on average and variance of expression.\n",
    "\n",
    "The visualizations are stored in a subdirectory with a naming corresponding to the input file, see 'config.txt'.\n",
    "\n",
    "---\n",
    "\n",
    "**Author: Ulf W. Liebal** <br>\n",
    "**Contact: ulf.liebal@rwth-aachen.de** <br>\n",
    "\n",
    "---"
   ]
  },
  {
   "cell_type": "markdown",
   "metadata": {},
   "source": [
    "## System initiation\n",
    "\n",
    "Loading all necessary libraries."
   ]
  },
  {
   "cell_type": "code",
   "execution_count": 1,
   "metadata": {},
   "outputs": [],
   "source": [
    "import time\n",
    "import os\n",
    "import numpy as np\n",
    "import pandas as pd\n",
    "import matplotlib.pyplot as plt\n",
    "from ExpressionExpert_Functions import init_Exp2, Data_Src_Load, make_DataDir, ExpressionScaler, Sequence_Conserved_Adjusted, Insert_row_, ExpressionStrength_HeatMap, df_HeatMaps, ExpressionVariation_HeatMap, Sequence_Ref_DiffSum, Sequence_Dist_DiffSum, generate_distances, ExpressionMean_ttest\n",
    "%matplotlib inline"
   ]
  },
  {
   "cell_type": "markdown",
   "metadata": {},
   "source": [
    "### Variable setting\n",
    "\n",
    "We load the naming conventions and parameters for statistical analysis and regression from 'config.txt'"
   ]
  },
  {
   "cell_type": "code",
   "execution_count": 2,
   "metadata": {},
   "outputs": [
    {
     "name": "stdout",
     "output_type": "stream",
     "text": [
      "Already existent data directory  data-Example1-Pput .\n"
     ]
    }
   ],
   "source": [
    "Name_Dict = init_Exp2('config_Pput.txt')\n",
    "\n",
    "ML_Date = Name_Dict['ML_Date']\n",
    "File_Base = Name_Dict['Data_File'].split('.')[0]\n",
    "Data_Folder = 'data-{}'.format(File_Base) \n",
    "Measure_Numb = int(Name_Dict['Library_Expression'])\n",
    "ML_Regressor = Name_Dict['ML_Regressor'][:-1]\n",
    "ML_Type = Name_Dict['ML_Regressor'][-1]\n",
    "Y_Col_Name = eval(Name_Dict['Y_Col_Name'])\n",
    "Response_Value = eval(Name_Dict['Response_Value'])\n",
    "Entropy_cutoff = eval(Name_Dict['Entropy_cutoff'])\n",
    "Fig_Type = Name_Dict['Figure_Type']\n",
    "FigFontSize = Name_Dict['Figure_Font_Size']\n"
   ]
  },
  {
   "cell_type": "markdown",
   "metadata": {},
   "source": [
    "## Data loading\n",
    "\n",
    "General information on the data source csv-file, like the target variable name and units, are stored in the 'config.txt' file generated in the '0-Workflow' notebook. The sequence and expression data is stored in a csv file with a column with IDs for each sequence (user defined), the DNA-sequence in column 'Sequence' (obligatory), and the expression strength in column with a name define in the `config.txt`. While loading, the sequence is converted to a label encrypted sequence, ['A','C','G','T'] replaced by [0,1,2,3], and a one-hot encoding and the GC content is calculated. "
   ]
  },
  {
   "cell_type": "code",
   "execution_count": 3,
   "metadata": {},
   "outputs": [
    {
     "name": "stdout",
     "output_type": "stream",
     "text": [
      "Following outliers were detected: ID: ['BGSPL14g_19_a'], Value: [[50.13234789]]\n",
      "Categorization of expression.\n",
      "The expression values were sorted into the following bins: [ 0.2178722  16.5660553  24.76999231 35.15239853]\n",
      "Statistical information of input sequence:\n",
      "Unique samples: 63\n",
      "Number of replicates: min: 1 - median: 1.0 - max: 1\n"
     ]
    },
    {
     "data": {
      "text/html": [
       "<div>\n",
       "<style scoped>\n",
       "    .dataframe tbody tr th:only-of-type {\n",
       "        vertical-align: middle;\n",
       "    }\n",
       "\n",
       "    .dataframe tbody tr th {\n",
       "        vertical-align: top;\n",
       "    }\n",
       "\n",
       "    .dataframe thead th {\n",
       "        text-align: right;\n",
       "    }\n",
       "</style>\n",
       "<table border=\"1\" class=\"dataframe\">\n",
       "  <thead>\n",
       "    <tr style=\"text-align: right;\">\n",
       "      <th></th>\n",
       "      <th>level_0</th>\n",
       "      <th>index</th>\n",
       "      <th>Strain ID</th>\n",
       "      <th>Sequence</th>\n",
       "      <th>Promoter Activity</th>\n",
       "      <th>Sequence_label-encrypted</th>\n",
       "      <th>Sequence_letter-encrypted</th>\n",
       "      <th>GC-content</th>\n",
       "      <th>Promoter Activity_ML</th>\n",
       "    </tr>\n",
       "  </thead>\n",
       "  <tbody>\n",
       "    <tr>\n",
       "      <th>0</th>\n",
       "      <td>0</td>\n",
       "      <td>0</td>\n",
       "      <td>BG14g</td>\n",
       "      <td>[[0, 0, 1, 0], [0, 1, 0, 0], [0, 1, 0, 0], [0,...</td>\n",
       "      <td>35.057893</td>\n",
       "      <td>[2, 1, 1, 1, 0, 3, 3, 2, 0, 1, 0, 0, 2, 2, 1, ...</td>\n",
       "      <td>GCCCATTGACAAGGCTCTCGCGGCCAGGTATAATTGCACG</td>\n",
       "      <td>0.575</td>\n",
       "      <td>2</td>\n",
       "    </tr>\n",
       "    <tr>\n",
       "      <th>1</th>\n",
       "      <td>12</td>\n",
       "      <td>12</td>\n",
       "      <td>BGSPL14g_01_a</td>\n",
       "      <td>[[0, 0, 1, 0], [0, 1, 0, 0], [0, 1, 0, 0], [0,...</td>\n",
       "      <td>2.185554</td>\n",
       "      <td>[2, 1, 1, 1, 0, 0, 3, 2, 0, 1, 0, 0, 2, 2, 1, ...</td>\n",
       "      <td>GCCCAATGACAAGGCTCTCGCGGCCAGGTATAATTGCACG</td>\n",
       "      <td>0.575</td>\n",
       "      <td>0</td>\n",
       "    </tr>\n",
       "    <tr>\n",
       "      <th>2</th>\n",
       "      <td>22</td>\n",
       "      <td>22</td>\n",
       "      <td>BGSPL14g_01_c</td>\n",
       "      <td>[[0, 0, 1, 0], [0, 1, 0, 0], [0, 1, 0, 0], [0,...</td>\n",
       "      <td>1.383577</td>\n",
       "      <td>[2, 1, 1, 1, 0, 1, 3, 2, 0, 1, 0, 0, 2, 2, 1, ...</td>\n",
       "      <td>GCCCACTGACAAGGCTCTCGCGGCCAGGTATAATTGCACG</td>\n",
       "      <td>0.600</td>\n",
       "      <td>0</td>\n",
       "    </tr>\n",
       "  </tbody>\n",
       "</table>\n",
       "</div>"
      ],
      "text/plain": [
       "   level_0  index      Strain ID  \\\n",
       "0        0      0          BG14g   \n",
       "1       12     12  BGSPL14g_01_a   \n",
       "2       22     22  BGSPL14g_01_c   \n",
       "\n",
       "                                            Sequence  Promoter Activity  \\\n",
       "0  [[0, 0, 1, 0], [0, 1, 0, 0], [0, 1, 0, 0], [0,...          35.057893   \n",
       "1  [[0, 0, 1, 0], [0, 1, 0, 0], [0, 1, 0, 0], [0,...           2.185554   \n",
       "2  [[0, 0, 1, 0], [0, 1, 0, 0], [0, 1, 0, 0], [0,...           1.383577   \n",
       "\n",
       "                            Sequence_label-encrypted  \\\n",
       "0  [2, 1, 1, 1, 0, 3, 3, 2, 0, 1, 0, 0, 2, 2, 1, ...   \n",
       "1  [2, 1, 1, 1, 0, 0, 3, 2, 0, 1, 0, 0, 2, 2, 1, ...   \n",
       "2  [2, 1, 1, 1, 0, 1, 3, 2, 0, 1, 0, 0, 2, 2, 1, ...   \n",
       "\n",
       "                  Sequence_letter-encrypted  GC-content Promoter Activity_ML  \n",
       "0  GCCCATTGACAAGGCTCTCGCGGCCAGGTATAATTGCACG       0.575                    2  \n",
       "1  GCCCAATGACAAGGCTCTCGCGGCCAGGTATAATTGCACG       0.575                    0  \n",
       "2  GCCCACTGACAAGGCTCTCGCGGCCAGGTATAATTGCACG       0.600                    0  "
      ]
     },
     "execution_count": 3,
     "metadata": {},
     "output_type": "execute_result"
    }
   ],
   "source": [
    "SeqDat = Data_Src_Load(Name_Dict)\n",
    "# some statistical information of the samples\n",
    "Samples_ValCount = SeqDat['Sequence_letter-encrypted'].value_counts()\n",
    "Num_UniqueSamples = len(Samples_ValCount)\n",
    "Median_ReplicateNumber = np.median(list(dict(Samples_ValCount).values()))\n",
    "Min_ReplicateNumber = np.min(list(dict(Samples_ValCount).values()))\n",
    "Max_ReplicateNumber = np.max(list(dict(Samples_ValCount).values()))\n",
    "\n",
    "print('Statistical information of input sequence:')\n",
    "print('Unique samples: {}'.format(Num_UniqueSamples))\n",
    "print('Number of replicates: min: {} - median: {} - max: {}'.format(Min_ReplicateNumber, Median_ReplicateNumber, Max_ReplicateNumber))\n",
    "SeqDat.head(3)"
   ]
  },
  {
   "cell_type": "markdown",
   "metadata": {},
   "source": [
    "## Data manipulation\n",
    "\n",
    "### Position entropy analysis\n",
    "\n",
    "On each position the entropy is calculated to assess how much nucleotide diversity has been sampled on each position.  \n"
   ]
  },
  {
   "cell_type": "code",
   "execution_count": 4,
   "metadata": {},
   "outputs": [],
   "source": [
    "# standardization step, omit for CART approaches by setting variable 'Data_Standard' to 'False'\n",
    "# if eval(Name_Dict['Data_Standard']):\n",
    "#     SeqDat, Expr_Scaler = ExpressionScaler(SeqDat, Name_Dict)\n",
    "\n",
    "# removing non-informative positions where no base diversity exists, base one hot encoding\n",
    "SeqDat_Hadj, Positions_removed, PSEntropy = Sequence_Conserved_Adjusted(SeqDat, Name_Dict, Entropy_cutoff=0)"
   ]
  },
  {
   "cell_type": "markdown",
   "metadata": {},
   "source": [
    "## Visualization of statistical properties\n",
    "\n",
    "The standardized expression is used for visualization of the average and variance of expression for each nucleotide on each position (Heat map visualization of nucleotide-position expression). A histogram of the sequence differences is generated. Here, the frequency of sequences with a given number of nucleotide exchanges (in %) relative to the first sequence is plotted (Histogram of sequence distances). The sampled nucleotide diversity on each sequence position is plotted (Position entropy lollipop). A histogram showing the number of sequences over the expression range with a binning of ten is shown (Expression strength histogram).\n",
    "\n",
    "### Heat map visualization of nucleotide-position expression\n",
    "\n",
    "The heat maps are visualized only and not saved. Visualization of variation is suppressed."
   ]
  },
  {
   "cell_type": "code",
   "execution_count": 5,
   "metadata": {},
   "outputs": [
    {
     "name": "stdout",
     "output_type": "stream",
     "text": [
      "Promoter Activity_ML\n"
     ]
    },
    {
     "name": "stderr",
     "output_type": "stream",
     "text": [
      "/home/ulf/anaconda3/lib/python3.7/site-packages/pandas/core/indexing.py:670: SettingWithCopyWarning: \n",
      "A value is trying to be set on a copy of a slice from a DataFrame\n",
      "\n",
      "See the caveats in the documentation: https://pandas.pydata.org/pandas-docs/stable/user_guide/indexing.html#returning-a-view-versus-a-copy\n",
      "  self._setitem_with_indexer(indexer, value)\n"
     ]
    },
    {
     "data": {
      "image/png": "[encoded data removed]",
      "text/plain": [
       "<Figure size 432x288 with 2 Axes>"
      ]
     },
     "metadata": {
      "needs_background": "light"
     },
     "output_type": "display_data"
    }
   ],
   "source": [
    "Measurements = int(Name_Dict['Library_Expression'])\n",
    "SeqPos = len(PSEntropy)\n",
    "# The mean values of position dependent expression contribution are stored in an array to compute the standard deviation among all measurements\n",
    "# The standard deviation is a metric how similar the effect is of a base at a position\n",
    "Expr_array = np.empty([SeqPos, 4, Measurements], dtype=float)\n",
    "\n",
    "# we loop over all independent expression measurements\n",
    "for idx in range(Measurements):\n",
    "#     if eval(Name_Dict['Data_Standard']):\n",
    "    Measure_Name = '{}_ML'.format(Y_Col_Name[idx])    \n",
    "#     else:\n",
    "#         Measure_Name = Y_Col_Name[idx]\n",
    "    print(Measure_Name)\n",
    "# # removing non-informative positions where no base diversity exists, base one hot encoding\n",
    "    Expr_avg = ExpressionStrength_HeatMap(SeqDat_Hadj, Measure_Name) #Expression_Column)\n",
    "    Expr_avg = Insert_row_(Positions_removed, Expr_avg, np.zeros([len(Positions_removed),4])*np.nan)\n",
    "    Expr_array[:,:,idx] = Expr_avg.values\n",
    "# visualization of variation is commented\n",
    "    Expr_var = ExpressionVariation_HeatMap(SeqDat_Hadj, Measure_Name)\n",
    "#     Expr_var = Insert_row_(Positions_removed, Expr_var, np.zeros([len(Positions_removed),4])*np.nan)\n",
    "    Fig_ID = Name_Dict['HM_File']\n",
    "    HM_File = os.path.join(Data_Folder, '{}_{}_{}_{}_{{}}.{}'.format(time.strftime('%Y%m%d'), File_Base, Fig_ID, Measure_Name.replace(' ',''), Fig_Type))   \n",
    "\n",
    "    # if you want to store the heat-maps switch the argument 'False' to 'True'\n",
    "    df_HeatMaps(Expr_avg, 'Expression average', True, HM_File.format('Average'), cbar_lab=None, FigFontSize=Name_Dict['Figure_Font_Size'])\n",
    "#     df_HeatMaps(Expr_var, 'Expression variance', True, HM_File.format('Variance'), cbar_lab=None, FigFontSize=FigFontSize)\n",
    "\n",
    "Expr_array = np.delete(Expr_array, Positions_removed, axis=0)\n",
    "if eval(Name_Dict['Response_Value']) == 0 and len(Y_Col_Name) == 2:\n",
    "    print('The variance plot identifies the positions on which bases have a statistically divergent effect on activity.')\n",
    "    print('Only positions are shown that display a significant difference of the mean based on a Student\\'s t-test.')\n",
    "    Measure_Name = ['{}_ML'.format(MeasName) for MeasName in Y_Col_Name]\n",
    "    #performing Students t-test for significant differences in the mean value of expression for each base on all positions\n",
    "    AllDat = np.array([SeqDat_Hadj[lookup].values for lookup in Measure_Name])\n",
    "    Ttest_result = ExpressionMean_ttest(AllDat[0,:], AllDat[1,:], list(SeqDat_Hadj['OneHot']))\n",
    "    # Calculating the variance between multi-library measurements\n",
    "    # A large cv shows divergent effects of bases on defined positions\n",
    "    Expression_var = pd.DataFrame(np.var(Expr_array, axis=2), columns=['A','C','G','T'])\n",
    "    # removing elements with insignificant mean separation\n",
    "    Expression_var_sig = Expression_var.div(Ttest_result.values, level=1, fill_value=0)\n",
    "    Expr_var_sig = Insert_row_(Positions_removed, Expression_var_sig, np.empty([len(Positions_removed),4]))\n",
    "    HM_File = os.path.join(Data_Folder, '{}_{}_{}_{{}}.{}'.format(time.strftime('%Y%m%d'), File_Base, Fig_ID, Fig_Type))   \n",
    "    df_HeatMaps(Expr_var_sig, 'Variance', Plot_Save=True, Plot_File=HM_File.format('Variance'))\n",
    "    "
   ]
  },
  {
   "cell_type": "markdown",
   "metadata": {},
   "source": [
    "### Histogram of sequence distances\n",
    "\n",
    "The histograms can be calculated in two ways:\n",
    " * sequence distances relative to a reference sequence\n",
    " * sequence distances among all sequences\n",
    "The sequence distance relative to a reference sequence makes sense if the library is generated from a single reference promoter set-up. The calculation is fast. If the library is very heterogeneous and different reference promoters have been used, then it is more appropriate to compare all sequences against each other to identify the overall sampled sequence diversity. The occurence takes high values because all sequences are mutually paired. This takes longer to compute (still less than a minute for fewer than 1000 samples of sequence length 50).\n",
    "\n",
    "**User input:** <br>\n",
    " * Decision for sequence distance with respect to reference seuqence or among all sequences.\n",
    " * Optional decision of saving the histogram by uncommenting the 'savefig' command.\n",
    " \n",
    "*Example:*<br>\n",
    "In the *P. putida* example, a single reference promoter sequence is used. Therefore, the reference based sequence distance meter is appropriate:<br>\n",
    "mydist = Sequence_Ref_DiffSum(SeqDat['Sequence_letter-encrypted'])\n",
    "\n",
    "A generic file name for figure export is set, but figure-export to svg is commented.\n"
   ]
  },
  {
   "cell_type": "code",
   "execution_count": 6,
   "metadata": {},
   "outputs": [
    {
     "name": "stdout",
     "output_type": "stream",
     "text": [
      "Complete sequence distances.\n"
     ]
    },
    {
     "data": {
      "image/png": "[encoded data removed]",
      "text/plain": [
       "<Figure size 432x288 with 1 Axes>"
      ]
     },
     "metadata": {
      "needs_background": "light"
     },
     "output_type": "display_data"
    }
   ],
   "source": [
    "# For histogram of sequence diversity you can either root the distance to the most common nucleotide on each position or provide an external reference\n",
    "mydist = generate_distances(SeqDat, Name_Dict, Hist_Type=0)\n",
    "    \n",
    "# plt.rc('text', usetex=False)\n",
    "plt.hist(mydist*100, bins=18, weights=np.zeros_like(mydist) + 1. / mydist.size) # BG42: [3,6:221]; BG35:[2,222:]\n",
    "plt.xlabel('Sequence distance in %', fontsize=FigFontSize)\n",
    "plt.ylabel('Frequency', fontsize=FigFontSize)\n",
    "plt.tight_layout()\n",
    "Fig_ID = Name_Dict['SampSeqDist_File']\n",
    "SampSeqDist_File = os.path.join(Data_Folder, '{}_{}_{}.{}'.format(time.strftime('%Y%m%d'), File_Base, Fig_ID, Fig_Type))\n",
    "plt.savefig(SampSeqDist_File, bbox_inches='tight', format=Fig_Type)\n",
    "plt.show()"
   ]
  },
  {
   "cell_type": "markdown",
   "metadata": {},
   "source": [
    "### Position sampling and entropy lollipop\n",
    "\n",
    "**User input:** <br>\n",
    " * Optional decision of saving the histogram by uncommenting the 'savefig' command.\n"
   ]
  },
  {
   "cell_type": "code",
   "execution_count": 7,
   "metadata": {},
   "outputs": [
    {
     "data": {
      "image/png": "[encoded data removed]",
      "text/plain": [
       "<Figure size 432x288 with 1 Axes>"
      ]
     },
     "metadata": {
      "needs_background": "light"
     },
     "output_type": "display_data"
    },
    {
     "data": {
      "image/png": "[encoded data removed]",
      "text/plain": [
       "<Figure size 432x288 with 1 Axes>"
      ]
     },
     "metadata": {
      "needs_background": "light"
     },
     "output_type": "display_data"
    }
   ],
   "source": [
    "# stacked histogram of number of each nucleotide per position\n",
    "OH_matrix = np.stack(SeqDat_Hadj['OneHot'].values)\n",
    "OH_df = pd.DataFrame(np.sum(OH_matrix, axis=0)/len(SeqDat_Hadj), columns=['A','C','G','T'])\n",
    "OH_df = Insert_row_(Positions_removed, OH_df, np.zeros([len(Positions_removed),4]))\n",
    "OH_df[['A','C','G','T']].plot(kind='bar', stacked=True)\n",
    "# ax.set_xticklabels(rotation=0, fontsize=16)\n",
    "# plt.tick_params(axis='x', labelsize=18)\n",
    "plt.xlabel('Position', fontsize=FigFontSize)\n",
    "plt.ylabel('Frequency', fontsize=FigFontSize)\n",
    "\n",
    "Fig_ID = Name_Dict['SamplingDiv_File']\n",
    "SamplingDiv_File = os.path.join(Data_Folder, '{}_{}_{}.{}'.format(time.strftime('%Y%m%d'), File_Base, Fig_ID, Fig_Type))\n",
    "plt.savefig(SamplingDiv_File, bbox_inches='tight', format=Fig_Type)\n",
    "plt.show()\n",
    "\n",
    "# entropy on each position\n",
    "plt.stem(np.arange(-len(PSEntropy),0,1), PSEntropy, basefmt=' ', use_line_collection=True)\n",
    "plt.xlabel('Position', fontsize=FigFontSize)\n",
    "plt.ylabel('Diversity, bits (max=2)', fontsize=FigFontSize)\n",
    "Fig_ID = Name_Dict['Entropy_File']\n",
    "Entropy_File = os.path.join(Data_Folder, '{}_{}_{}.{}'.format(time.strftime('%Y%m%d'), File_Base, Fig_ID, Fig_Type))\n",
    "plt.savefig(Entropy_File, bbox_inches='tight', format=Fig_Type)\n",
    "plt.show()"
   ]
  },
  {
   "cell_type": "markdown",
   "metadata": {},
   "source": [
    "### Expression strength histogram\n",
    "\n",
    "**User input:** <br>\n",
    " * Optional decision of saving the histogram by uncommenting the 'savefig' command.\n"
   ]
  },
  {
   "cell_type": "code",
   "execution_count": 8,
   "metadata": {},
   "outputs": [
    {
     "data": {
      "image/png": "[encoded data removed]",
      "text/plain": [
       "<Figure size 432x288 with 1 Axes>"
      ]
     },
     "metadata": {
      "needs_background": "light"
     },
     "output_type": "display_data"
    }
   ],
   "source": [
    "# deciding whether to plot histogram of measured expression or categorized values\n",
    "# if ML_Type == 'C':\n",
    "#     Measures = ['{}_Cat'.format(Meas) for Meas in Y_Col_Name]\n",
    "# else:\n",
    "#     Measures = Y_Col_Name\n",
    "import seaborn as sns\n",
    "\n",
    "Measures = ['{}_ML'.format(Meas) for Meas in Y_Col_Name]\n",
    "ExprData = SeqDat[Measures].values\n",
    "\n",
    "plt.hist(ExprData)\n",
    "plt.xlabel(Name_Dict['Expression_Unit'], fontsize=FigFontSize)\n",
    "if Response_Value > 1:\n",
    "    plt.xticks([0,1,2], ['Level {}'.format(myval) for myval in range(Response_Value)])\n",
    "plt.ylabel('Frequency', fontsize=FigFontSize)\n",
    "plt.legend(Y_Col_Name)\n",
    "Fig_ID = Name_Dict['ExprHist_File']\n",
    "ExprHist_File = os.path.join(Data_Folder, '{}_{}_{}.{}'.format(time.strftime('%Y%m%d'), File_Base, Fig_ID, Fig_Type))\n",
    "plt.savefig(ExprHist_File, bbox_inches='tight', format=Fig_Type)\n",
    "plt.show()"
   ]
  },
  {
   "cell_type": "markdown",
   "metadata": {},
   "source": [
    "## Promoter cross-host expression (optional)\n",
    "\n",
    "In case the promoter library was constructed such that a sequence library was tested in different organisms (transcription factors) then it is instructive to compare cross-host (cross-transcription factor) expression strength. Here, this is only done for two measurements."
   ]
  },
  {
   "cell_type": "code",
   "execution_count": 9,
   "metadata": {},
   "outputs": [
    {
     "name": "stdout",
     "output_type": "stream",
     "text": [
      "Cross-host expression visualization not possible.\n"
     ]
    }
   ],
   "source": [
    "if len(Y_Col_Name) == 2:\n",
    "    Measure_Name = ['{}_ML'.format(MeasName) for MeasName in Y_Col_Name]\n",
    "    ExprRange_1 = SeqDat[Measure_Name[0]]#/SeqDat[Y_Col_Name[0]].max()*100\n",
    "    ExprRange_2 = SeqDat[Measure_Name[1]]#/SeqDat[Y_Col_Name[1]].max()*100\n",
    "\n",
    "    fig = plt.figure()\n",
    "#     ax = fig.gca()\n",
    "#     ax.set_xticks(np.arange(0, 100, 10))\n",
    "#     ax.set_yticks(np.arange(0, 100, 10))\n",
    "\n",
    "\n",
    "    plt.plot(ExprRange_1, ExprRange_2, 'xk')\n",
    "    plt.xlabel('{}, {}'.format(Measure_Name[0], Name_Dict['Expression_Unit']), fontsize=FigFontSize)\n",
    "    plt.ylabel('{}, {}'.format(Measure_Name[1], Name_Dict['Expression_Unit']), fontsize=FigFontSize)\n",
    "    plt.title('Cross Expression Translation')\n",
    "    plt.grid()\n",
    "    plt.tight_layout()\n",
    "    Fig_ID = Name_Dict['X_Expr']\n",
    "    XExpr_File = os.path.join(Data_Folder, '{}_{}_{}.{}'.format(time.strftime('%Y%m%d'), File_Base, Fig_ID, Fig_Type))\n",
    "    plt.savefig(XExpr_File, bbox_inches='tight', format=Fig_Type)\n",
    "    plt.show()\n",
    "else:\n",
    "    print('Cross-host expression visualization not possible.')"
   ]
  }
 ],
 "metadata": {
  "kernelspec": {
   "display_name": "Python 3",
   "language": "python",
   "name": "python3"
  },
  "language_info": {
   "codemirror_mode": {
    "name": "ipython",
    "version": 3
   },
   "file_extension": ".py",
   "mimetype": "text/x-python",
   "name": "python",
   "nbconvert_exporter": "python",
   "pygments_lexer": "ipython3",
   "version": "3.7.6"
  }
 },
 "nbformat": 4,
 "nbformat_minor": 4
}
