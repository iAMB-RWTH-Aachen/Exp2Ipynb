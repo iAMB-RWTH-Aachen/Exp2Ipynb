{
 "cells": [
  {
   "cell_type": "markdown",
   "metadata": {},
   "source": [
    "# Statistical properties of the promoter library\n",
    "## Introduction\n",
    "\n",
    "The statistical analysis generates visualizations for sequence specific properties like the histogram of sequence distance with respect to nucleotide exchanges, and the diversity of position specific sampling using entropy. The expression for the expression is given by a histogram of the expression strength distribution. The joint information of sequence and expression is visualized with heat-maps on average and variance of expression.\n",
    "\n",
    "The visualizations are stored in a subdirectory with a naming corresponding to the input file, see 'config.txt'.\n",
    "\n",
    "---\n",
    "\n",
    "**Author: Ulf W. Liebal** <br>\n",
    "**Contact: ulf.liebal@rwth-aachen.de** <br>\n",
    "\n",
    "---"
   ]
  },
  {
   "cell_type": "markdown",
   "metadata": {},
   "source": [
    "## System initiation\n",
    "\n",
    "Loading all necessary libraries."
   ]
  },
  {
   "cell_type": "code",
   "execution_count": 1,
   "metadata": {},
   "outputs": [],
   "source": [
    "import time\n",
    "import os\n",
    "import numpy as np\n",
    "import pandas as pd\n",
    "import matplotlib.pyplot as plt\n",
    "from ExpressionExpert_Functions import Data_Src_Load, make_DataDir, ExpressionScaler, Sequence_Conserved_Adjusted, Insert_row_, ExpressionStrength_HeatMap, df_HeatMaps, ExpressionVariation_HeatMap, Sequence_Ref_DiffSum, Sequence_Dist_DiffSum\n",
    "%matplotlib inline"
   ]
  },
  {
   "cell_type": "markdown",
   "metadata": {},
   "source": [
    "### Variable setting\n",
    "\n",
    "We load the naming conventions from 'config.txt'"
   ]
  },
  {
   "cell_type": "code",
   "execution_count": 2,
   "metadata": {},
   "outputs": [
    {
     "name": "stdout",
     "output_type": "stream",
     "text": [
      "Already existent data directory  data-Example1-Pput .\n"
     ]
    }
   ],
   "source": [
    "Name_Dict = dict()\n",
    "with open('config_Pput.txt') as Conf:\n",
    "    myline = Conf.read().splitlines()\n",
    "    for line in myline:\n",
    "        if not line.startswith('#'):\n",
    "            (key, val) = line.split(':', 1)\n",
    "            Name_Dict[str(key.strip())] = val.strip()\n",
    "        \n",
    "\n",
    "Data_File = Name_Dict['Data_File']\n",
    "# extract the filename for naming of newly generated files\n",
    "File_Base = Name_Dict['File_Base']\n",
    "# the generated files will be stored in a subfolder with custom name\n",
    "Data_Folder = Name_Dict['Data_Folder']\n",
    "# column name of expression values\n",
    "Y_Col_Name = eval(Name_Dict['Y_Col_Name'])\n",
    "# figure file type\n",
    "Fig_Type = Name_Dict['Figure_Type']\n",
    "make_DataDir(Name_Dict)"
   ]
  },
  {
   "cell_type": "markdown",
   "metadata": {},
   "source": [
    "## Data loading\n",
    "\n",
    "General information on the data source csv-file is stored in the 'config.txt' file generated in the '0-Workflow' notebook. The sequence and expression data is stored in a csv file with an identifier in column 'ID' (not used for anything), the DNA-sequence in column 'Sequence', and the expression strength in column 'promoter activity'. While loading, the sequence is converted to a label encrypted sequence, ['A','C','G','T'] replaced by [0,1,2,3], and a one-hot encoding."
   ]
  },
  {
   "cell_type": "code",
   "execution_count": 3,
   "metadata": {},
   "outputs": [
    {
     "data": {
      "text/html": [
       "<div>\n",
       "<style scoped>\n",
       "    .dataframe tbody tr th:only-of-type {\n",
       "        vertical-align: middle;\n",
       "    }\n",
       "\n",
       "    .dataframe tbody tr th {\n",
       "        vertical-align: top;\n",
       "    }\n",
       "\n",
       "    .dataframe thead th {\n",
       "        text-align: right;\n",
       "    }\n",
       "</style>\n",
       "<table border=\"1\" class=\"dataframe\">\n",
       "  <thead>\n",
       "    <tr style=\"text-align: right;\">\n",
       "      <th></th>\n",
       "      <th>Strain ID</th>\n",
       "      <th>Sequence</th>\n",
       "      <th>Promoter Activity</th>\n",
       "      <th>Sequence_label-encrypted</th>\n",
       "      <th>Sequence_letter-encrypted</th>\n",
       "    </tr>\n",
       "  </thead>\n",
       "  <tbody>\n",
       "    <tr>\n",
       "      <th>0</th>\n",
       "      <td>BG14g</td>\n",
       "      <td>[[0, 0, 1, 0], [0, 1, 0, 0], [0, 1, 0, 0], [0,...</td>\n",
       "      <td>35.057893</td>\n",
       "      <td>[2, 1, 1, 1, 0, 3, 3, 2, 0, 1, 0, 0, 2, 2, 1, ...</td>\n",
       "      <td>GCCCATTGACAAGGCTCTCGCGGCCAGGTATAATTGCACG</td>\n",
       "    </tr>\n",
       "    <tr>\n",
       "      <th>1</th>\n",
       "      <td>BG14g</td>\n",
       "      <td>[[0, 0, 1, 0], [0, 1, 0, 0], [0, 1, 0, 0], [0,...</td>\n",
       "      <td>33.579982</td>\n",
       "      <td>[2, 1, 1, 1, 0, 3, 3, 2, 0, 1, 0, 0, 2, 2, 1, ...</td>\n",
       "      <td>GCCCATTGACAAGGCTCTCGCGGCCAGGTATAATTGCACG</td>\n",
       "    </tr>\n",
       "    <tr>\n",
       "      <th>2</th>\n",
       "      <td>BG14g</td>\n",
       "      <td>[[0, 0, 1, 0], [0, 1, 0, 0], [0, 1, 0, 0], [0,...</td>\n",
       "      <td>31.523439</td>\n",
       "      <td>[2, 1, 1, 1, 0, 3, 3, 2, 0, 1, 0, 0, 2, 2, 1, ...</td>\n",
       "      <td>GCCCATTGACAAGGCTCTCGCGGCCAGGTATAATTGCACG</td>\n",
       "    </tr>\n",
       "  </tbody>\n",
       "</table>\n",
       "</div>"
      ],
      "text/plain": [
       "  Strain ID                                           Sequence  \\\n",
       "0     BG14g  [[0, 0, 1, 0], [0, 1, 0, 0], [0, 1, 0, 0], [0,...   \n",
       "1     BG14g  [[0, 0, 1, 0], [0, 1, 0, 0], [0, 1, 0, 0], [0,...   \n",
       "2     BG14g  [[0, 0, 1, 0], [0, 1, 0, 0], [0, 1, 0, 0], [0,...   \n",
       "\n",
       "   Promoter Activity                           Sequence_label-encrypted  \\\n",
       "0          35.057893  [2, 1, 1, 1, 0, 3, 3, 2, 0, 1, 0, 0, 2, 2, 1, ...   \n",
       "1          33.579982  [2, 1, 1, 1, 0, 3, 3, 2, 0, 1, 0, 0, 2, 2, 1, ...   \n",
       "2          31.523439  [2, 1, 1, 1, 0, 3, 3, 2, 0, 1, 0, 0, 2, 2, 1, ...   \n",
       "\n",
       "                  Sequence_letter-encrypted  \n",
       "0  GCCCATTGACAAGGCTCTCGCGGCCAGGTATAATTGCACG  \n",
       "1  GCCCATTGACAAGGCTCTCGCGGCCAGGTATAATTGCACG  \n",
       "2  GCCCATTGACAAGGCTCTCGCGGCCAGGTATAATTGCACG  "
      ]
     },
     "execution_count": 3,
     "metadata": {},
     "output_type": "execute_result"
    }
   ],
   "source": [
    "SeqDat = Data_Src_Load(Name_Dict)\n",
    "SeqDat['Sequence_letter-encrypted'] = SeqDat['Sequence_letter-encrypted'].str.upper()\n",
    "SeqDat.head(3)"
   ]
  },
  {
   "cell_type": "markdown",
   "metadata": {},
   "source": [
    "## Data manipulation\n",
    "\n",
    "Data manipulation includes the steps of expression standardization to zero mean and unit variance. On each position the entropy is calculated to assess how much nucleotide diversity has been sampled on each position. If at any position the entropy is zero, i.e. only one nucleotide is present in all samples, this position is removed because it is non-informative for further analysis (Position entropy analysis). \n",
    "\n",
    "### Normalization of variables"
   ]
  },
  {
   "cell_type": "code",
   "execution_count": 4,
   "metadata": {},
   "outputs": [],
   "source": [
    "SeqDat, Expr_Scaler_new = ExpressionScaler(SeqDat, Name_Dict)"
   ]
  },
  {
   "cell_type": "markdown",
   "metadata": {},
   "source": [
    "### Position entropy analysis"
   ]
  },
  {
   "cell_type": "code",
   "execution_count": 5,
   "metadata": {},
   "outputs": [],
   "source": [
    "# removing non-informative positions where no base diversity exists, base one hot encoding\n",
    "SeqDat_Hadj, Positions_removed, PSEntropy = Sequence_Conserved_Adjusted(SeqDat, Name_Dict)"
   ]
  },
  {
   "cell_type": "markdown",
   "metadata": {},
   "source": [
    "## Visualization of statistical properties\n",
    "\n",
    "The standardized expression is used for visualization of the average and variance of expression for each nucleotide on each position (Heat map visualization of nucleotide-position expression). A histogram of the sequence differences is generated. Here, the frequency of sequences with a given number of nucleotide exchanges (in %) relative to the first sequence is plotted (Histogram of sequence distances). The sampled nucleotide diversity on each sequence position is plotted (Position entropy lollipop). A histogram showing the number of sequences over the expression range with a binning of ten is shown (Expression strength histogram).\n",
    "\n",
    "### Heat map visualization of nucleotide-position expression\n",
    "\n",
    "The heat maps are visualized only and not saved. Visualization of variation is suppressed."
   ]
  },
  {
   "cell_type": "code",
   "execution_count": 6,
   "metadata": {},
   "outputs": [
    {
     "name": "stderr",
     "output_type": "stream",
     "text": [
      "Z:\\Documents\\Biocarb\\models\\data\\1911_ExpressionExpert.ipynb\\ExpressionExpert_Functions.py:111: SettingWithCopyWarning: \n",
      "A value is trying to be set on a copy of a slice from a DataFrame\n",
      "\n",
      "See the caveats in the documentation: http://pandas.pydata.org/pandas-docs/stable/indexing.html#indexing-view-versus-copy\n",
      "  df1.loc[idx]=element\n"
     ]
    },
    {
     "data": {
      "image/png": "[encoded data removed]",
      "text/plain": [
       "<Figure size 432x288 with 2 Axes>"
      ]
     },
     "metadata": {
      "needs_background": "light"
     },
     "output_type": "display_data"
    }
   ],
   "source": [
    "# we loop over all independent expression measurements\n",
    "for idx in range(int(Name_Dict['Library_Expression'])):\n",
    "    Measure_Name = Y_Col_Name[idx]\n",
    "    Expression_Column = '{}_scaled'.format(Measure_Name)\n",
    "# # removing non-informative positions where no base diversity exists, base one hot encoding\n",
    "    Expr_avg = ExpressionStrength_HeatMap(SeqDat_Hadj, Expression_Column)\n",
    "    Expr_avg = Insert_row_(Positions_removed, Expr_avg, np.zeros([len(Positions_removed),4])*np.nan)\n",
    "# visualization of variation is commented\n",
    "#     Expr_var_Pput = ExpressionVariation_HeatMap(SeqDat_Hadj, Expression_Column)\n",
    "#     Expr_var_Pput = Insert_row_(Positions_removed, Expr_var_Pput, np.zeros([len(Positions_removed),4])*np.nan)\n",
    "    Fig_ID = Name_Dict['HM_File']\n",
    "    HM_File = os.path.join(Data_Folder, '{}_{}_{}_{}_{{}}.{}'.format(time.strftime('%Y%m%d'), File_Base, Fig_ID, Measure_Name.replace(' ',''), Fig_Type))   \n",
    "\n",
    "    # if you want to store the heat-maps switch the argument 'False' to 'True'\n",
    "    df_HeatMaps(Expr_avg, 'norm. expression average', True, HM_File.format('Average'))\n",
    "#     df_HeatMaps(Expr_var_Pput, 'norm. expression variance', False, HM_File.format('Variance'))\n"
   ]
  },
  {
   "cell_type": "markdown",
   "metadata": {},
   "source": [
    "### Histogram of sequence distances\n",
    "\n",
    "The histograms can be calculated in two ways:\n",
    " * sequence distances relative to a reference sequence\n",
    " * sequence distances among all sequences\n",
    "The sequence distance relative to a reference sequence makes sense if the library is generated from a single reference promoter set-up. The calculation is fast. If the library is very heterogeneous and different reference promoters have been used, then it is more appropriate to compare all sequences against each other to identify the overall sampled sequence diversity. The occurence takes high values because all sequences are mutually paired. This takes longer to compute (still less than a minute for fewer than 1000 samples of sequence length 50).\n",
    "\n",
    "**User input:** <br>\n",
    " * Decision for sequence distance with respect to reference seuqence or among all sequences.\n",
    " * Optional decision of saving the histogram by uncommenting the 'savefig' command.\n",
    " \n",
    "*Example:*<br>\n",
    "In the *P. putida* example, a single reference promoter sequence is used. Therefore, the reference based sequence distance meter is appropriate:<br>\n",
    "mydist = Sequence_Ref_DiffSum(SeqDat['Sequence_letter-encrypted'])\n",
    "\n",
    "A generic file name for figure export is set, but figure-export to svg is commented.\n"
   ]
  },
  {
   "cell_type": "code",
   "execution_count": 7,
   "metadata": {},
   "outputs": [
    {
     "name": "stdout",
     "output_type": "stream",
     "text": [
      "Distance reference sequence: GCCCATTGACAAGGCTCTCGCGGCCAGGTATAATTGCACG\n"
     ]
    },
    {
     "data": {
      "image/png": "[encoded data removed]",
      "text/plain": [
       "<Figure size 432x288 with 1 Axes>"
      ]
     },
     "metadata": {
      "needs_background": "light"
     },
     "output_type": "display_data"
    }
   ],
   "source": [
    "# For histogram of sequence diversity you can either root the distance to the most common nucleotide on each position or provide an external reference\n",
    "if Name_Dict['RefSeq'] is not '':\n",
    "    RefSeq = Name_Dict['RefSeq']\n",
    "    print('use reference sequence')\n",
    "else:    \n",
    "    # using the one-hot encoding the most common nucleotide on each position is calculated.\n",
    "    Alphabet = ['A','C','G','T']\n",
    "    Pos_Nucl_Sum = np.sum(np.dstack(SeqDat['Sequence'].values), axis=2)\n",
    "    RefSeq_list = list([Alphabet[Pos_idx] for Pos_idx in np.argmax(Pos_Nucl_Sum, axis=1)])\n",
    "    RefSeq = ''.join(RefSeq_list)\n",
    "\n",
    "print('Distance reference sequence:', RefSeq)\n",
    "SeqDat_wRef = list(SeqDat['Sequence_letter-encrypted'])\n",
    "SeqDat_wRef.insert(0, RefSeq)\n",
    "\n",
    "dist_tmp = Sequence_Ref_DiffSum(SeqDat_wRef)\n",
    "if len(dist_tmp.shape) == 2:\n",
    "    mydist = dist_tmp[np.triu_indices(dist_tmp.shape[1], k=1)]\n",
    "else:\n",
    "    mydist = dist_tmp\n",
    "    \n",
    "# plt.rc('text', usetex=False)\n",
    "plt.hist(mydist*100, bins=20) # BG42: [3,6:221]; BG35:[2,222:]\n",
    "plt.xlabel('Sequence distance in %')\n",
    "plt.ylabel('Occurence')\n",
    "plt.tight_layout()\n",
    "Fig_ID = Name_Dict['SampSeqDist_File']\n",
    "SampSeqDist_File = os.path.join(Data_Folder, '{}_{}_{}.{}'.format(time.strftime('%Y%m%d'), File_Base, Fig_ID, Fig_Type))\n",
    "plt.savefig(SampSeqDist_File, bbox_inches='tight', format=Fig_Type)\n",
    "plt.show()"
   ]
  },
  {
   "cell_type": "markdown",
   "metadata": {},
   "source": [
    "### Position sampling and entropy lollipop\n",
    "\n",
    "**User input:** <br>\n",
    " * Optional decision of saving the histogram by uncommenting the 'savefig' command.\n"
   ]
  },
  {
   "cell_type": "code",
   "execution_count": 8,
   "metadata": {},
   "outputs": [
    {
     "data": {
      "image/png": "[encoded data removed]",
      "text/plain": [
       "<Figure size 432x288 with 1 Axes>"
      ]
     },
     "metadata": {
      "needs_background": "light"
     },
     "output_type": "display_data"
    },
    {
     "data": {
      "image/png": "[encoded data removed]",
      "text/plain": [
       "<Figure size 432x288 with 1 Axes>"
      ]
     },
     "metadata": {
      "needs_background": "light"
     },
     "output_type": "display_data"
    }
   ],
   "source": [
    "OH_matrix = np.stack(SeqDat_Hadj['OneHot'].values)\n",
    "OH_df = pd.DataFrame(np.sum(OH_matrix, axis=0), columns=['A','C','G','T'])\n",
    "OH_df = Insert_row_(Positions_removed, OH_df, np.zeros([len(Positions_removed),4]))\n",
    "OH_df[['A','C','G','T']].plot(kind='bar', stacked=True)\n",
    "plt.xlabel('Position')\n",
    "plt.ylabel('Samples')\n",
    "Fig_ID = Name_Dict['SamplingDiv_File']\n",
    "SamplingDiv_File = os.path.join(Data_Folder, '{}_{}_{}.{}'.format(time.strftime('%Y%m%d'), File_Base, Fig_ID, Fig_Type))\n",
    "plt.savefig(SamplingDiv_File, bbox_inches='tight', format=Fig_Type)\n",
    "plt.show()\n",
    "\n",
    "plt.stem(np.arange(-len(PSEntropy),0,1), PSEntropy, basefmt=' ', use_line_collection=True)\n",
    "plt.xlabel('Position on sequence')\n",
    "plt.ylabel('Information content in bits (max=2)')\n",
    "Fig_ID = Name_Dict['Entropy_File']\n",
    "Entropy_File = os.path.join(Data_Folder, '{}_{}_{}.{}'.format(time.strftime('%Y%m%d'), File_Base, Fig_ID, Fig_Type))\n",
    "# plt.savefig(Entropy_File, bbox_inches='tight', format=Fig_Type)\n",
    "plt.show()"
   ]
  },
  {
   "cell_type": "markdown",
   "metadata": {},
   "source": [
    "### Expression strength histogram\n",
    "\n",
    "**User input:** <br>\n",
    " * Optional decision of saving the histogram by uncommenting the 'savefig' command.\n"
   ]
  },
  {
   "cell_type": "code",
   "execution_count": 9,
   "metadata": {},
   "outputs": [
    {
     "data": {
      "image/png": "[encoded data removed]",
      "text/plain": [
       "<Figure size 432x288 with 1 Axes>"
      ]
     },
     "metadata": {
      "needs_background": "light"
     },
     "output_type": "display_data"
    }
   ],
   "source": [
    "plt.hist(SeqDat[Y_Col_Name].values)\n",
    "plt.xlabel(Name_Dict['Expression_Unit'])\n",
    "plt.ylabel('Occurence')\n",
    "plt.legend(Y_Col_Name)\n",
    "Fig_ID = Name_Dict['ExprHist_File']\n",
    "ExprHist_File = os.path.join(Data_Folder, '{}_{}_{}.{}'.format(time.strftime('%Y%m%d'), File_Base, Fig_ID, Fig_Type))\n",
    "# plt.savefig(ExprHist_File, bbox_inches='tight', format=Fig_Type)\n",
    "plt.show()"
   ]
  },
  {
   "cell_type": "markdown",
   "metadata": {},
   "source": [
    "## Promoter cross-host expression (optional)\n",
    "\n",
    "In case the promoter library was constructed such that a sequence library was tested in different organisms (transcription factors) then it is instructive to compare cross-host (cross-transcription factor) expression strength. Here, this is only done for two measurements."
   ]
  },
  {
   "cell_type": "code",
   "execution_count": null,
   "metadata": {},
   "outputs": [],
   "source": [
    "if len(Y_Col_Name) == 2:\n",
    "    ExprRange_1 = SeqDat[Y_Col_Name[0]]#/SeqDat[Y_Col_Name[0]].max()*100\n",
    "    ExprRange_2 = SeqDat[Y_Col_Name[1]]#/SeqDat[Y_Col_Name[1]].max()*100\n",
    "\n",
    "    fig = plt.figure()\n",
    "#     ax = fig.gca()\n",
    "#     ax.set_xticks(np.arange(0, 100, 10))\n",
    "#     ax.set_yticks(np.arange(0, 100, 10))\n",
    "\n",
    "\n",
    "    plt.plot(ExprRange_1, ExprRange_2, 'xk')\n",
    "    plt.xlabel('{}, in {}'.format(Y_Col_Name[0], Name_Dict['Expression_Unit']))\n",
    "    plt.ylabel('{}, in {}'.format(Y_Col_Name[1], Name_Dict['Expression_Unit']))\n",
    "    plt.title('Cross Expression Translation')\n",
    "    plt.grid()\n",
    "    plt.tight_layout()\n",
    "    Fig_ID = Name_Dict['X_Expr']\n",
    "    XExpr_File = os.path.join(Data_Folder, '{}_{}_{}.{}'.format(time.strftime('%Y%m%d'), File_Base, Fig_ID, Fig_Type))\n",
    "    plt.savefig(XExpr_File, bbox_inches='tight', format=Fig_Type)\n",
    "    plt.show()"
   ]
  }
 ],
 "metadata": {
  "kernelspec": {
   "display_name": "Python 3",
   "language": "python",
   "name": "python3"
  },
  "language_info": {
   "codemirror_mode": {
    "name": "ipython",
    "version": 3
   },
   "file_extension": ".py",
   "mimetype": "text/x-python",
   "name": "python",
   "nbconvert_exporter": "python",
   "pygments_lexer": "ipython3",
   "version": "3.7.3"
  }
 },
 "nbformat": 4,
 "nbformat_minor": 4
}
