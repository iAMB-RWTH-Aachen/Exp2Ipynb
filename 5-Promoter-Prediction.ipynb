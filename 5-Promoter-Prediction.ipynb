{
 "cells": [
  {
   "cell_type": "markdown",
   "metadata": {},
   "source": [
    "# Target Promoter extraction\n",
    "\n",
    "## Introduction\n",
    "\n",
    "We have generated a synthetic promoter library that includes all sequences within the exploratory space, i.e. sequences with representative samples in the training set of the random forest machine learner. Here we evaluate their performance with the random forest machine learner and select six sequences spanning the expression strength, two samples for each low, medium and high expression. "
   ]
  },
  {
   "cell_type": "markdown",
   "metadata": {},
   "source": [
    "## System initiation\n",
    "\n",
    "Loading all necessary libraries."
   ]
  },
  {
   "cell_type": "code",
   "execution_count": null,
   "metadata": {},
   "outputs": [],
   "source": [
    "import os\n",
    "import time\n",
    "import pandas as pd\n",
    "import numpy as np\n",
    "from ExpressionExpert_Functions import Data_Src_Load, Extract_MultLibSeq, Find_Near_Seq\n",
    "%matplotlib inline"
   ]
  },
  {
   "cell_type": "markdown",
   "metadata": {},
   "source": [
    "### Variable setting\n",
    "\n",
    "We load the naming conventions from 'config.txt'"
   ]
  },
  {
   "cell_type": "code",
   "execution_count": null,
   "metadata": {},
   "outputs": [],
   "source": [
    "Name_Dict = dict()\n",
    "with open('config_EcolPtai.txt') as Conf:\n",
    "    myline = Conf.read().splitlines()\n",
    "    for line in myline:\n",
    "        if not line.startswith('#'):\n",
    "            (key, val) = line.split(':', 1)\n",
    "            Name_Dict[str(key.strip())] = val.strip()\n",
    "        \n",
    "\n",
    "Data_File = Name_Dict['Data_File']\n",
    "# extract the filename for naming of newly generated files\n",
    "File_Base = Name_Dict['File_Base']\n",
    "# the generated files will be stored in a subfolder with custom name\n",
    "Data_Folder = Name_Dict['Data_Folder']\n",
    "# column name of expression values\n",
    "Y_Col_Name = eval(Name_Dict['Y_Col_Name'])\n",
    "# figure file type\n",
    "Fig_Type = Name_Dict['Figure_Type']"
   ]
  },
  {
   "cell_type": "markdown",
   "metadata": {},
   "source": [
    "## Data loading\n",
    "\n",
    "General information on the data source csv-file is stored in the 'config.txt' file generated in the '0-Workflow' notebook. The sequence and expression data is stored in a csv file with an identifier in column 'ID' (not used for anything), the DNA-sequence in column 'Sequence', and the expression strength in column 'promoter activity'. While loading, the sequence is converted to a label encrypted sequence, ['A','C','G','T'] replaced by [0,1,2,3], and a one-hot encoding."
   ]
  },
  {
   "cell_type": "code",
   "execution_count": null,
   "metadata": {},
   "outputs": [],
   "source": [
    "SeqDat = Data_Src_Load(Name_Dict)\n",
    "\n",
    "# loading synthetic promoter library\n",
    "Csv_ID = Name_Dict['Csv_ID']\n",
    "SynCsv_File = os.path.join('{}_{}_{}.csv'.format(Name_Dict['SynLib_Date'], File_Base, Csv_ID)) #'data-PromLib_EcolPtai\\\\TillTest_predicted.xlsx'     \n",
    "Name_Synth = Name_Dict\n",
    "Name_Synth['Data_File'] = SynCsv_File\n",
    "SynDat = Data_Src_Load(Name_Synth)\n"
   ]
  },
  {
   "cell_type": "markdown",
   "metadata": {},
   "source": [
    "## Target sequence extraction\n",
    "### Selection of expression strength"
   ]
  },
  {
   "cell_type": "code",
   "execution_count": null,
   "metadata": {},
   "outputs": [],
   "source": [
    "# The absolute magnitudes of expression is shown in the violin plot of expression strength (cf. Expression strength in the statistical analysis notebook)\n",
    "print('Choose expression strength in absolute numbers and the number of output sequences:\\n')\n",
    "\n",
    "Target = list()\n",
    "for Lib_idx in range(eval(Name_Dict['Library_Expression'])):\n",
    "    Target.append(list(str(i) for i in input('Target {}:'.format(Y_Col_Name[Lib_idx])).split(' ')))\n",
    "    \n",
    "Seq_Numb = int(input('Sequence samples:'))\n",
    "\n",
    "Target_Expr = np.array(Target, dtype=float)\n"
   ]
  },
  {
   "cell_type": "code",
   "execution_count": null,
   "metadata": {},
   "outputs": [],
   "source": [
    "Exp_SeqObj, Ref_Target_lst = Extract_MultLibSeq(SeqDat, Target_Expr, 1, Y_Col_Name)\n",
    "Syn_SeqObj, Syn_Idx_lst = Extract_MultLibSeq(SynDat, Target_Expr, Seq_Numb, Y_Col_Name)\n",
    "\n",
    "Ref_idx = np.vstack(Ref_Target_lst).reshape(-1)\n",
    "mydict_ref = {Y_Col_Name[index]:SeqDat[Y_Col_Name[index]].iloc[Ref_idx].values for index in range(eval(Name_Dict['Library_Expression']))}\n",
    "\n",
    "ExpProm_df = pd.DataFrame({'Promoter ID': SeqDat[Name_Dict['ID_Col_Name']].iloc[Ref_idx].values, 'Sequence': np.vstack(Exp_SeqObj).reshape(-1)})\n",
    "ExpProm_df = ExpProm_df.join(pd.DataFrame(mydict_ref), how='right')\n",
    "\n",
    "Targ_idx = np.vstack(Syn_Idx_lst).reshape(-1)\n",
    "mydict_syn = {Y_Col_Name[index]:SynDat[Y_Col_Name[index]].iloc[Targ_idx].values for index in range(eval(Name_Dict['Library_Expression']))}\n",
    "SynProm_df = pd.DataFrame({'Sequence': np.vstack(Syn_SeqObj).reshape(-1)})\n",
    "SynProm_df = SynProm_df.join(pd.DataFrame(mydict_syn), how='right')\n",
    "\n",
    "Out_df = ExpProm_df.append(SynProm_df, sort=False)\n",
    "Csv_ID = 'Predicted-Target-Promoter'\n",
    "TarCsv_File = os.path.join('{}_{}_{}.csv'.format(time.strftime('%Y%m%d'), File_Base, Csv_ID))\n",
    "Out_df.to_csv(TarCsv_File, index=None)"
   ]
  }
 ],
 "metadata": {
  "kernelspec": {
   "display_name": "Python 3",
   "language": "python",
   "name": "python3"
  },
  "language_info": {
   "codemirror_mode": {
    "name": "ipython",
    "version": 3
   },
   "file_extension": ".py",
   "mimetype": "text/x-python",
   "name": "python",
   "nbconvert_exporter": "python",
   "pygments_lexer": "ipython3",
   "version": "3.7.3"
  }
 },
 "nbformat": 4,
 "nbformat_minor": 4
}
