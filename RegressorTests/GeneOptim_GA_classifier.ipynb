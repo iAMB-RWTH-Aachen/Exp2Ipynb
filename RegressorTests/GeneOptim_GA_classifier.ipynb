{
 "cells": [
  {
   "cell_type": "code",
   "execution_count": 1,
   "metadata": {},
   "outputs": [],
   "source": [
    "import joblib\n",
    "import random\n",
    "import numpy as np\n",
    "import pandas as pd\n",
    "\n",
    "from deap import base, creator, tools, algorithms"
   ]
  },
  {
   "cell_type": "markdown",
   "metadata": {},
   "source": [
    "# 0) User input"
   ]
  },
  {
   "cell_type": "code",
   "execution_count": 2,
   "metadata": {},
   "outputs": [],
   "source": [
    "Params_File = '../data-Example1-Pput/00000000_Example1-Pput_Promoter-Activity_ML_RF3-Params.pkl'\n",
    "Regressor_File = '../data-Example1-Pput/00000000_Example1-Pput_Promoter-Activity_ML_RF3-Regressor.pkl'\n",
    "Sequences_file = '../Example1-Pput.csv' # 'ExamplePput_PromSelMid20.csv'#'../Example1-Pput.csv'"
   ]
  },
  {
   "cell_type": "markdown",
   "metadata": {},
   "source": [
    "# 1) Load models"
   ]
  },
  {
   "cell_type": "code",
   "execution_count": 3,
   "metadata": {},
   "outputs": [],
   "source": [
    "\n",
    "\n",
    "# Unpickle regressor and scaler\n",
    "myRegr = joblib.load(Regressor_File)\n",
    "myParams = joblib.load(Params_File)\n",
    "\n",
    "mySequences = pd.read_csv(Sequences_file, sep=';')\n",
    "mySequences['Sequence'] = mySequences['Sequence'].str.upper()\n",
    "# mySequences = mySequences.sort_values('Promoter Activity', ascending=False)\n",
    "mySequences = mySequences.drop_duplicates('Sequence')"
   ]
  },
  {
   "cell_type": "code",
   "execution_count": 4,
   "metadata": {},
   "outputs": [],
   "source": [
    "shortSeqs = np.delete(np.array(list(mySequences['Sequence'].apply(list))), myParams['Positions_removed'], axis=1)\n",
    "LetterSeqsShort = shortSeqs.copy()\n",
    "shortSeqs[shortSeqs == 'A'] = 0\n",
    "shortSeqs[shortSeqs == 'C'] = 1\n",
    "shortSeqs[shortSeqs == 'G'] = 2\n",
    "shortSeqs[shortSeqs == 'T'] = 3\n",
    "mySequences['Sequence_short_Letter'] = [''.join(x) for x in LetterSeqsShort.tolist()]\n",
    "mySequences['Sequence_short_encoded'] = shortSeqs.astype(int).tolist()\n",
    "mySequences['Sequence_short_encoded'] = mySequences['Sequence_short_encoded'].apply(tuple)\n",
    "\n",
    "mySequences = mySequences.drop_duplicates('Sequence_short_encoded')\n",
    "\n",
    "RefNum = 6\n",
    "myRefSeqs = mySequences['Sequence_short_encoded'].iloc[0:RefNum].tolist()\n",
    "RefFull = mySequences['Sequence'].iloc[0:RefNum].tolist()\n",
    "myRefLets = mySequences['Sequence_short_Letter'].iloc[0:RefNum]"
   ]
  },
  {
   "cell_type": "code",
   "execution_count": 19,
   "metadata": {},
   "outputs": [
    {
     "data": {
      "text/plain": [
       "61"
      ]
     },
     "execution_count": 19,
     "metadata": {},
     "output_type": "execute_result"
    }
   ],
   "source": [
    "# Save number of nukleotides the regressor uses as input, this is required to specifiy the number \n",
    "# of optimization variables\n",
    "# nNukleotides = myRegr.support_vectors_.shape[1] - 1\n",
    "nNukleotides = myRegr.n_features_ - 1\n",
    "nPositions = int(nNukleotides/4)\n",
    "getattr(myRegr, 'n_features_')"
   ]
  },
  {
   "cell_type": "markdown",
   "metadata": {},
   "source": [
    "# 2) Define and solve optimization problem and algorithm"
   ]
  },
  {
   "cell_type": "markdown",
   "metadata": {},
   "source": [
    "## Define fitness function"
   ]
  },
  {
   "cell_type": "code",
   "execution_count": 8,
   "metadata": {},
   "outputs": [],
   "source": [
    "# Convert categorical encoding to letter encoding\n",
    "def toLetter(myList):\n",
    "    Letters = {0:'A', 1:'C', 2:'G',3:'T'}\n",
    "    myLet = [Letters.get(x,x) for x in myList]\n",
    "    \n",
    "    return myLet\n",
    "\n",
    "def toCat(myLetters):\n",
    "    Cats = {'A':0, 'C':1, 'G':2, 'T':3}\n",
    "    myCats = [Cats.get(x,x) for x in myLetters]\n",
    "    \n",
    "    return myCats\n",
    "\n",
    "# Convert the integer encoding of the nukleotides used by the GA into a one-hot encoding\n",
    "def decode(individual):\n",
    "    gene = list()\n",
    "    for i in individual:\n",
    "        if i == 0:\n",
    "            gene += [1, 0, 0, 0]\n",
    "        elif i == 1:\n",
    "            gene += [0, 1, 0, 0]\n",
    "        elif i == 2:\n",
    "            gene += [0, 0, 1, 0]\n",
    "        elif i == 3:\n",
    "            gene += [0, 0, 0, 1]\n",
    "            \n",
    "    return gene\n",
    "\n",
    "\n",
    "def evaluation(individual):\n",
    "    gene = decode(individual)\n",
    "    \n",
    "    # Calculate the gc share and append it to the input\n",
    "    gc_share =0\n",
    "    for i in range(0,nNukleotides,4):\n",
    "        gc_share += gene[i+1] + gene[i+2]\n",
    "\n",
    "    gc_share /= nNukleotides\n",
    "    \n",
    "    regressor_input = gene + [gc_share]\n",
    "    \n",
    "    expression = myRegr.predict([regressor_input])\n",
    "    \n",
    "    return expression[0]\n",
    "\n",
    "def feasible(individual):\n",
    "    ######## Check if individual is already known ########\n",
    "    if tuple(individual) in list(mySequences['Sequence_short_encoded']):\n",
    "        return False\n",
    "    \n",
    "    \n",
    "    ######## Check if individual has high expression ########\n",
    "    gene = decode(individual)\n",
    "\n",
    "    expression = evaluation(individual)\n",
    "\n",
    "    if expression != 1:\n",
    "        return False\n",
    "    \n",
    "    return True\n",
    "\n",
    "def distance(individual, RefSeqs):\n",
    "    RefNum = np.array(RefSeqs, ndmin=2).shape[0]\n",
    "    d = np.sum(np.not_equal([individual]*RefNum, RefSeqs))    \n",
    "    return (d,)\n",
    "\n",
    "def SequenceSinglePredFull(SeqPred, RefFull, Positions_removed):\n",
    "    '''\n",
    "    The optimization results in a sequence list for positions that were used as features in the prediction. Thus, additional sequence elements have to be added that where removed because of insufficient diversity.\n",
    "    '''\n",
    "    # Extracting feature positions from RefFull, i.e. deleting with Positions_removed\n",
    "    RefNum = len(RefFull)\n",
    "    RefFull_ar = np.reshape(np.array([Let for Seq in np.array(RefFull) for Let in Seq]),(RefNum,-1))\n",
    "    SeqRef = np.delete(RefFull_ar,Positions_removed, axis=1)\n",
    "    \n",
    "    # converting sequences to categorical\n",
    "    CatPred = toCat(SeqPred)\n",
    "    CatRef = [toCat(XRef) for XRef in SeqRef]\n",
    "    # Take the sequence closest to the predicted one.\n",
    "    myDist = [distance(CatPred, XRef) for XRef in CatRef]\n",
    "    \n",
    "    # The positions will be copied from the closest reference sequence to the predicted sequence.\n",
    "    PredSeqTemp = np.array([Letter for Letter in RefFull[np.argmin(myDist)]])\n",
    "    \n",
    "    # Position_removed contains the indices of positions that were not used for activity prediction.     \n",
    "    Pos_Test = np.delete(np.reshape(np.arange(0,RefFull_ar.shape[1]),(-1,1)), myParams['Positions_removed'])\n",
    "\n",
    "    # Replacing the predicted sequence into the reference sequence\n",
    "    PredSeqTemp[Pos_Test] = [Letter for Letter in SeqPred]\n",
    "    PredSeq = ''.join(PredSeqTemp)\n",
    "\n",
    "    return PredSeq"
   ]
  },
  {
   "cell_type": "code",
   "execution_count": 9,
   "metadata": {},
   "outputs": [],
   "source": [
    "toolbox = base.Toolbox()\n",
    "\n",
    "###################### Define individuals and poopulation ##########################\n",
    "\n",
    "# Define type of fitness function (weight=-1 => minimization)\n",
    "creator.create(\"FitnessMax\", base.Fitness, weights=(-1.0,))\n",
    "\n",
    "# Define container that represents individual (individual is a list and has the defined fitness)\n",
    "creator.create(\"Individual\", list, fitness=creator.FitnessMax)\n",
    "\n",
    "# Define how individual is created (individual object is filled with nPosition random integers that represent the\n",
    "# nukleotides)\n",
    "toolbox.register(\"attr_int\", random.randint, 0, 3)\n",
    "toolbox.register(\"individual\", tools.initRepeat, creator.Individual, toolbox.attr_int, nPositions)\n",
    "\n",
    "# Define how population is created (population is a list of individuals)\n",
    "toolbox.register(\"population\", tools.initRepeat, list, toolbox.individual)\n",
    "\n",
    "###################### Set fucntions for GA steps ##########################\n",
    "\n",
    "# Set selection function (selTournament: randomly select tournsize individuals and select the best one as parent)\n",
    "# The selection function is later repeated n times in each generation to generate n parents \n",
    "toolbox.register(\"select\", tools.selTournament, tournsize=3)\n",
    "\n",
    "# Set mating function ( cxUniform: takes two parents and transforms them into two childs by iterating over the\n",
    "# positions and swapping the nukleotides between the parents with a probability of indpb at each position)\n",
    "toolbox.register(\"mate\", tools.cxUniform, indpb=0.5)\n",
    "\n",
    "# Set mutation function (mutUniformInt: mutate a child by iterating over its positions and assigning a new\n",
    "# nukleotide with probability indpb)\n",
    "toolbox.register(\"mutate\", tools.mutUniformInt, low=0, up=3, indpb=0.1)\n",
    "\n",
    "# Set fitness function\n",
    "toolbox.register(\"evaluate\", distance, RefSeqs=myRefSeqs)\n",
    "# Add constraint handling ()\n",
    "toolbox.decorate(\"evaluate\", tools.DeltaPenalty(feasible, 1000.0))\n",
    "\n",
    "###################### Define statistics to be evaluated at each generation ##########################\n",
    "stats = tools.Statistics(lambda ind: ind.fitness.values)\n",
    "stats.register(\"avg\", np.mean)\n",
    "stats.register(\"std\", np.std)\n",
    "stats.register(\"min\", np.min)\n",
    "stats.register(\"max\", np.max)"
   ]
  },
  {
   "cell_type": "code",
   "execution_count": 10,
   "metadata": {},
   "outputs": [
    {
     "name": "stdout",
     "output_type": "stream",
     "text": [
      "gen\tnevals\tavg    \tstd    \tmin\tmax \n",
      "0  \t1000  \t814.943\t372.467\t39 \t1000\n",
      "1  \t739   \t585.318\t465.032\t32 \t1000\n",
      "2  \t740   \t313.722\t416.389\t29 \t1000\n",
      "3  \t771   \t170.666\t307.821\t29 \t1000\n",
      "4  \t752   \t146.274\t286.258\t20 \t1000\n",
      "5  \t757   \t133.37 \t275.974\t23 \t1000\n",
      "6  \t754   \t141.44 \t294.171\t17 \t1000\n",
      "7  \t732   \t105.387\t249.302\t14 \t1000\n",
      "8  \t726   \t105.68 \t256.598\t11 \t1000\n",
      "9  \t741   \t127.64 \t294.091\t11 \t1000\n",
      "10 \t732   \t120.103\t288.463\t11 \t1000\n",
      "11 \t782   \t135.737\t311.609\t11 \t1000\n",
      "12 \t767   \t141.005\t320.25 \t11 \t1000\n",
      "13 \t746   \t161.123\t342.718\t11 \t1000\n",
      "14 \t755   \t156.508\t338.965\t11 \t1000\n",
      "15 \t750   \t160.355\t344.43 \t11 \t1000\n",
      "16 \t739   \t161.653\t346.684\t11 \t1000\n",
      "17 \t759   \t146.891\t332.728\t11 \t1000\n",
      "18 \t760   \t151.072\t338.281\t11 \t1000\n",
      "19 \t763   \t134.005\t319.839\t11 \t1000\n",
      "20 \t749   \t150.49 \t338.515\t11 \t1000\n",
      "21 \t729   \t116.615\t299.391\t11 \t1000\n",
      "22 \t760   \t144.195\t332.317\t11 \t1000\n",
      "23 \t757   \t151.928\t340.789\t11 \t1000\n",
      "24 \t746   \t108.472\t288.895\t11 \t1000\n",
      "25 \t720   \t123.176\t308.299\t11 \t1000\n",
      "26 \t770   \t117.045\t300.858\t11 \t1000\n",
      "27 \t741   \t118.031\t302.129\t11 \t1000\n",
      "28 \t747   \t122.854\t308.407\t11 \t1000\n",
      "29 \t719   \t113.915\t297.042\t11 \t1000\n",
      "30 \t750   \t96.179 \t271.96 \t11 \t1000\n",
      "\n",
      "\n",
      "\n",
      "Best gene sequence features:  TTACCCCCGCAGTAA\n",
      "Best promoter sequence total:  GCCCATTGACAACGCTCTCGCGGCCAGGTATAATTGCACG\n",
      "Expression: 1\n"
     ]
    }
   ],
   "source": [
    "# Create initial population\n",
    "pop = toolbox.population(n=1000)\n",
    "\n",
    "# Create hall of fame object that keeps track of the best individual\n",
    "hof = tools.HallOfFame(5)\n",
    "\n",
    "# Perform GA\n",
    "# cxpb: probability that two parents mate (if they do they are discared and their child kept, otherwise they \n",
    "#       are kept)\n",
    "# mutpb: probability that a child is mutated\n",
    "# ngen: number of generations(=iterations)\n",
    "pop, log = algorithms.eaSimple(pop, toolbox, cxpb=0.5, mutpb=0.5, ngen=30, \n",
    "                               stats=stats, halloffame=hof, verbose=True)\n",
    "\n",
    "myOptSeq = [''.join(SSeq) for SSeq in np.array([toLetter(Hofi) for Hofi in hof])]\n",
    "\n",
    "print(\"\\n\\n\")\n",
    "print(\"Best gene sequence features: \", myOptSeq[0])\n",
    "print('Best promoter sequence total: ', SequenceSinglePredFull(myOptSeq[0], RefFull, myParams['Positions_removed']))\n",
    "print(\"Expression:\", evaluation(hof[0]))\n"
   ]
  },
  {
   "cell_type": "code",
   "execution_count": 11,
   "metadata": {},
   "outputs": [
    {
     "data": {
      "text/plain": [
       "['GCCCATTGACAACGCTCTCGCGGCCAGGTATAATTGCACG',\n",
       " 'GCCCATTGACGAGGCTCTCGCGGCCAGGTATAATTGCACG',\n",
       " 'GCCCATTGACAAGGCTCTCGCGGCCAGGTATTATTGCACG',\n",
       " 'GCCCATTGACAAGGTTCTCGCGGCCAGGTATAATTGCACG',\n",
       " 'GCCCATTGACAAGGCTCTCGCGGCTAGGTATAATTGCACG']"
      ]
     },
     "execution_count": 11,
     "metadata": {},
     "output_type": "execute_result"
    }
   ],
   "source": [
    "PredSeq = [SequenceSinglePredFull(mySeq, RefFull, myParams['Positions_removed']) for mySeq in myOptSeq]\n",
    "PredSeq\n",
    "\n"
   ]
  }
 ],
 "metadata": {
  "kernelspec": {
   "display_name": "Python 3",
   "language": "python",
   "name": "python3"
  },
  "language_info": {
   "codemirror_mode": {
    "name": "ipython",
    "version": 3
   },
   "file_extension": ".py",
   "mimetype": "text/x-python",
   "name": "python",
   "nbconvert_exporter": "python",
   "pygments_lexer": "ipython3",
   "version": "3.9.1"
  }
 },
 "nbformat": 4,
 "nbformat_minor": 4
}
