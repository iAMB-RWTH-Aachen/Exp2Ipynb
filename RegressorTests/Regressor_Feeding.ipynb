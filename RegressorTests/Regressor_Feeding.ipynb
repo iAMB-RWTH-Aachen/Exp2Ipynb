{
 "cells": [
  {
   "cell_type": "markdown",
   "metadata": {},
   "source": [
    "# Workflow to feed the regressors with input\n",
    "\n",
    "The input is originaly derived from a nucleotide sequence with for possible bases (A,C,G,T) plus a value of the GC content in percent. The sequence is converted into a one-hot encoding where each position is represented by a vector of size four, and a `1` at a specific position encodes the base. For example, `[1,0,0,0]` represents `A`, etc. For each sequence position there is a one-hot encoding, and all encodings are concatenated. Thus the input size is four times the original sequence length."
   ]
  },
  {
   "cell_type": "code",
   "execution_count": null,
   "metadata": {},
   "outputs": [],
   "source": [
    "def make_Input(SeqLen=17):\n",
    "    import numpy as np\n",
    "    from random import randint\n",
    "    # finding the '1' in the one-hot encoding for each position\n",
    "    # randint is inclusive the upper limit\n",
    "    RandBinInput = [randint(0,3) for _ in range(SeqLen)]\n",
    "    # summing out the absolute position\n",
    "    myOnes = [np.sum(np.array([mult*4, pos])) for mult, pos in enumerate(RandBinInput)]\n",
    "    # print(myOnes)\n",
    "    MyInp = np.zeros(SeqLen*4)\n",
    "    MyInp[myOnes] = 1\n",
    "    # adding GC content float\n",
    "    MyInp = np.array([np.append(MyInp, round(random.gauss(.5,.1),2))])\n",
    "    return MyInp"
   ]
  },
  {
   "cell_type": "code",
   "execution_count": null,
   "metadata": {},
   "outputs": [],
   "source": [
    "import joblib\n",
    "\n",
    "minp = make_Input(17)\n",
    "\n",
    "Regressor_File = 'SVR-StrainA.pkl'\n",
    "myRegr = joblib.load(Regressor_File)\n",
    "myRegr.predict(minp)"
   ]
  }
 ],
 "metadata": {
  "kernelspec": {
   "display_name": "Python 3",
   "language": "python",
   "name": "python3"
  },
  "language_info": {
   "codemirror_mode": {
    "name": "ipython",
    "version": 3
   },
   "file_extension": ".py",
   "mimetype": "text/x-python",
   "name": "python",
   "nbconvert_exporter": "python",
   "pygments_lexer": "ipython3",
   "version": "3.7.6"
  }
 },
 "nbformat": 4,
 "nbformat_minor": 4
}
