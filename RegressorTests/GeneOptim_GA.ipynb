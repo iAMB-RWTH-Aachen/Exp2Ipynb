{
 "cells": [
  {
   "cell_type": "code",
   "execution_count": 1,
   "metadata": {},
   "outputs": [],
   "source": [
    "import joblib\n",
    "# import utils\n",
    "import random\n",
    "import numpy\n",
    "import timeit\n",
    "\n",
    "from deap import base, creator, tools, algorithms"
   ]
  },
  {
   "cell_type": "markdown",
   "metadata": {},
   "source": [
    "# 0) User input"
   ]
  },
  {
   "cell_type": "code",
   "execution_count": 2,
   "metadata": {},
   "outputs": [],
   "source": [
    "# Regressor_File = '../data-PromLib_EcolPtai/00000000_PromLib_EcolPtai_Ecol-Promoter-Activity_SVR-Regressor.pkl' #'SVR-Regressor-Standard.pkl'\n",
    "# Scaler_File = '../data-PromLib_EcolPtai/00000000_PromLib_EcolPtai_Ecol-Promoter-Activity_SVR-Params.pkl'#'SVR-Scaler.pkl'\n",
    "Scaler_File = '../data-Example1-Pput/00000000_Example1-Pput_Promoter-Activity_ML_SV3-Params.pkl'\n",
    "Regressor_File = '../data-Example1-Pput/00000000_Example1-Pput_Promoter-Activity_ML_SV3-Regressor.pkl'\n"
   ]
  },
  {
   "cell_type": "markdown",
   "metadata": {},
   "source": [
    "# 1) Load models"
   ]
  },
  {
   "cell_type": "code",
   "execution_count": 4,
   "metadata": {},
   "outputs": [
    {
     "data": {
      "text/plain": [
       "{'Positions_removed': array([ 0,  1,  2,  3,  4,  7,  8,  9, 11, 13, 15, 17, 19, 22, 23, 27, 28,\n",
       "        29, 33, 34, 35, 36, 37, 38, 39])}"
      ]
     },
     "execution_count": 4,
     "metadata": {},
     "output_type": "execute_result"
    }
   ],
   "source": [
    "myScaler"
   ]
  },
  {
   "cell_type": "code",
   "execution_count": 3,
   "metadata": {},
   "outputs": [
    {
     "name": "stderr",
     "output_type": "stream",
     "text": [
      "/home/ulf/anaconda3/envs/exp2ipynb/lib/python3.9/site-packages/sklearn/base.py:310: UserWarning: Trying to unpickle estimator SVC from version 0.22.1 when using version 0.24.1. This might lead to breaking code or invalid results. Use at your own risk.\n",
      "  warnings.warn(\n"
     ]
    }
   ],
   "source": [
    "# Unpickle regressor and scaler\n",
    "myRegr = joblib.load(Regressor_File)\n",
    "myScaler = joblib.load(Scaler_File)\n",
    "\n",
    "# Create dictionary containing the output scaler\n",
    "# scaler = myScaler['Promoter Activity_ML_Scaler']\n",
    "# scaler = myScaler['Ecol Promoter Activity_Scaler']\n"
   ]
  },
  {
   "cell_type": "code",
   "execution_count": null,
   "metadata": {},
   "outputs": [],
   "source": [
    "myScaler['Position_removed']"
   ]
  },
  {
   "cell_type": "code",
   "execution_count": null,
   "metadata": {},
   "outputs": [],
   "source": [
    "# Save number of nukleotides the regressor uses as input, this is required to specifiy the number \n",
    "# of optimization variables\n",
    "nNukleotides = myRegr.support_vectors_.shape[1] - 1\n",
    "nPositions = int(nNukleotides/4)"
   ]
  },
  {
   "cell_type": "markdown",
   "metadata": {},
   "source": [
    "# 2) Define and solve optimization problem and algorithm"
   ]
  },
  {
   "cell_type": "markdown",
   "metadata": {},
   "source": [
    "## Define fitness function"
   ]
  },
  {
   "cell_type": "code",
   "execution_count": null,
   "metadata": {},
   "outputs": [],
   "source": [
    "# Convert the integer encoding of the nukleotides used by the GA into a one-hot encoding\n",
    "def decode(individual):\n",
    "    gene = list()\n",
    "    for i in individual:\n",
    "        if i == 0:\n",
    "            gene += [1, 0, 0, 0]\n",
    "        elif i == 1:\n",
    "            gene += [0, 1, 0, 0]\n",
    "        elif i == 2:\n",
    "            gene += [0, 0, 1, 0]\n",
    "        elif i == 3:\n",
    "            gene += [0, 0, 0, 1]\n",
    "            \n",
    "    return gene\n",
    "\n",
    "def evaluation(individual):\n",
    "    gene = decode(individual)\n",
    "    \n",
    "    # Calculate the gc share and append it to the input\n",
    "    gc_share =0\n",
    "    for i in range(0,nNukleotides,4):\n",
    "        gc_share += gene[i+1] + gene[i+2]\n",
    "\n",
    "    gc_share /= nNukleotides\n",
    "    \n",
    "    regressor_input = gene + [gc_share]\n",
    "    \n",
    "    expression = myRegr.predict([regressor_input])\n",
    "\n",
    "    expression = scaler.inverse_transform(expression)\n",
    "    \n",
    "    return (expression[0],)"
   ]
  },
  {
   "cell_type": "code",
   "execution_count": null,
   "metadata": {},
   "outputs": [],
   "source": [
    "toolbox = base.Toolbox()\n",
    "\n",
    "###################### Define individuals and poopulation ##########################\n",
    "\n",
    "# Define type of fitness function (weight=1 => maximization)\n",
    "creator.create(\"FitnessMax\", base.Fitness, weights=(1.0,))\n",
    "\n",
    "# Define container that represents individual (individual is a list and has the defined fitness)\n",
    "creator.create(\"Individual\", list, fitness=creator.FitnessMax)\n",
    "\n",
    "# Define how individual is created (individual object is filled with nPosition random integers that represent the\n",
    "# nukleotides)\n",
    "toolbox.register(\"attr_int\", random.randint, 0, 3)\n",
    "toolbox.register(\"individual\", tools.initRepeat, creator.Individual, toolbox.attr_int, nPositions)\n",
    "\n",
    "# Define how population is created (population is a list of individuals)\n",
    "toolbox.register(\"population\", tools.initRepeat, list, toolbox.individual)\n",
    "\n",
    "###################### Set fucntions for GA steps ##########################\n",
    "\n",
    "# Set selection function (selTournament: randomly select tournsize individuals and select the best one as parent)\n",
    "# The selection function is later repeated n times in each generation to generate n parents \n",
    "toolbox.register(\"select\", tools.selTournament, tournsize=3)\n",
    "\n",
    "# Set mating function ( cxUniform: takes two parents and transforms them into two childs by iterating over the\n",
    "# positions and swapping the nukleotides between the parents with a probability of indpb at each position)\n",
    "toolbox.register(\"mate\", tools.cxUniform, indpb=0.5)\n",
    "\n",
    "# Set mutation function (mutUniformInt: mutate a child by iterating over its positions and assigning a new\n",
    "# nukleotide with probability indpb)\n",
    "toolbox.register(\"mutate\", tools.mutUniformInt, low=0, up=3, indpb=0.05)\n",
    "\n",
    "# Set fitness function\n",
    "toolbox.register(\"evaluate\", evaluation)\n",
    "\n",
    "###################### Define statistics to be evaluated at each generation ##########################\n",
    "stats = tools.Statistics(lambda ind: ind.fitness.values)\n",
    "stats.register(\"avg\", numpy.mean)\n",
    "stats.register(\"std\", numpy.std)\n",
    "stats.register(\"min\", numpy.min)\n",
    "stats.register(\"max\", numpy.max)"
   ]
  },
  {
   "cell_type": "code",
   "execution_count": null,
   "metadata": {},
   "outputs": [],
   "source": [
    "# Create initial population\n",
    "pop = toolbox.population(n=300)\n",
    "\n",
    "# Create hall of fame object that keeps track of the best individual\n",
    "hof = tools.HallOfFame(1)\n",
    "\n",
    "start_time = timeit.default_timer()\n",
    "# Perform GA\n",
    "# cxpb: probability that two parents mate (if they do they are discared and their child kept, otherwise they \n",
    "#       are kept)\n",
    "# mutpb: probability that a child is mutated\n",
    "# ngen: number of generations(=iterations)\n",
    "pop, log = algorithms.eaSimple(pop, toolbox, cxpb=0.5, mutpb=0.2, ngen=40, \n",
    "                               stats=stats, halloffame=hof, verbose=True)\n",
    "\n",
    "run_time = timeit.default_timer() - start_time\n",
    "\n",
    "print('Optimization run time: {:.0f} sec'.format(run_time))\n",
    "print(\"\\n\\n\")\n",
    "print(\"Best gene sequence:\", decode(hof[0]))\n",
    "print(\"Expression:\", evaluation(hof[0])[0])"
   ]
  },
  {
   "cell_type": "code",
   "execution_count": null,
   "metadata": {},
   "outputs": [],
   "source": [
    "len(decode(hof[0]))"
   ]
  }
 ],
 "metadata": {
  "kernelspec": {
   "display_name": "exp2ipynb",
   "language": "python",
   "name": "exp2ipynb"
  },
  "language_info": {
   "codemirror_mode": {
    "name": "ipython",
    "version": 3
   },
   "file_extension": ".py",
   "mimetype": "text/x-python",
   "name": "python",
   "nbconvert_exporter": "python",
   "pygments_lexer": "ipython3",
   "version": "3.9.1"
  }
 },
 "nbformat": 4,
 "nbformat_minor": 4
}
