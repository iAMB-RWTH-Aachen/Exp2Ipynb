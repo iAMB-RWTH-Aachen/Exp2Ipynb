{
 "cells": [
  {
   "cell_type": "markdown",
   "metadata": {},
   "source": [
    "# Optimization of sequence to expression\n",
    "\n",
    "## Introduction\n",
    "The previous notebooks guide in the development of ML tools to predict the expression strength of a sequence. For practical purpose of bioengineering it is desirable to predict a sequence based on a target expression.\n",
    "\n",
    "## System initiation\n",
    "Loading all required libraries"
   ]
  },
  {
   "cell_type": "code",
   "execution_count": null,
   "metadata": {},
   "outputs": [],
   "source": [
    "import os\n",
    "import numpy as np\n",
    "import pandas as pd\n",
    "import joblib\n",
    "import pickle\n",
    "import time\n",
    "import sys\n",
    "sys.path.append('..')\n",
    "from exp2ipynb import *\n"
   ]
  },
  {
   "cell_type": "markdown",
   "metadata": {},
   "source": [
    "### Variable setting\n",
    "\n",
    "We load the naming conventions from 'config.txt'"
   ]
  },
  {
   "cell_type": "code",
   "execution_count": null,
   "metadata": {},
   "outputs": [],
   "source": [
    "Name_Dict = init_Exp2('config_Pput.txt')\n",
    "\n",
    "File_Base = Name_Dict['Data_File'].split('.')[0]\n",
    "Data_Folder = 'data-{}'.format(File_Base) \n",
    "ML_Date = Name_Dict['ML_Date']\n",
    "ML_Regressor = Name_Dict['ML_Regressor'][:-1]\n",
    "ML_Type = Name_Dict['ML_Regressor'][-1]\n",
    "Y_Col_Name = eval(Name_Dict['Y_Col_Name'])\n",
    "Response_Value = eval(Name_Dict['Response_Value'])\n",
    "Measure_Numb = int(Name_Dict['Library_Expression'])"
   ]
  },
  {
   "cell_type": "markdown",
   "metadata": {},
   "source": [
    "## Loading training data and ML files\n",
    "\n",
    "The codecell below loads the training data and the estimators. The estimator is used from the `config.txt` file and the `ML_Date` variable."
   ]
  },
  {
   "cell_type": "code",
   "execution_count": null,
   "metadata": {},
   "outputs": [],
   "source": [
    "SeqDat = Data_Src_Load(Name_Dict)\n",
    "myRegr = dict()\n",
    "myParams = dict()\n",
    "\n",
    "for Meas_Idx in range(Measure_Numb): \n",
    "#     ML_TargetCol = '{}_ML'.format(Y_Col_Name[Meas_Idx])\n",
    "    Measure_Name = '{}_ML'.format(Y_Col_Name[Meas_Idx])\n",
    "    # loading correct ML regressor file and parameters for data preparation\n",
    "    Regressor_File = os.path.join(Data_Folder, '{}_{}_{}_{}{}-Regressor.pkl'.format(ML_Date, File_Base, Measure_Name.replace(' ','-'), ML_Regressor, Response_Value))\n",
    "    Parameter_File = os.path.join(Data_Folder, '{}_{}_{}_{}{}-Params.pkl'.format(ML_Date, File_Base, Measure_Name.replace(' ','-'), ML_Regressor, Response_Value))\n",
    "\n",
    "    try:\n",
    "    #         ML_DictName = (Measure_Name)\n",
    "        myRegr[Meas_Idx] = joblib.load(Regressor_File)\n",
    "        # I assume the parameters have been generated in the same run as the regressor itself and is located in the same directory following the default naming scheme\n",
    "        myParams = pickle.load(open(Parameter_File,'rb'))\n",
    "        # extracting the positions that were removed because of insufficient information content\n",
    "        Positions_removed = myParams['Positions_removed']\n",
    "        # if the data was standardized we load the corresponding function\n",
    "        if Response_Value == 0:\n",
    "            # loading standard scaler\n",
    "            Scaler_File = os.path.join(Data_Folder, '{}_{}_{}-Scaler.pkl'.format(time.strftime('%Y%m%d'), File_Base, Name_Dict['ML_Regressor']))\n",
    "            Expr_Scaler[Meas_Idx] = pickle.load(open(Scaler_File,'rb'))\n",
    "            # The standard scaler default name is the name of the expression measurement column with suffix: '_Scaler'\n",
    "            Scaler_DictName[Meas_Idx] = '{}_Scaler'.format(Y_Col_Name[Meas_Idx])\n",
    "    #             Expr_Scaler[Scaler_DictName] = Data_Prep_Params[Scaler_DictName]\n",
    "    except FileNotFoundError:\n",
    "        print('Regressor file not found. Check parameter \"ML_Date\" in \"config.txt\"')\n",
    "\n",
    "    # Save number of nucleotides the regressor uses as input, this is required to specifiy the number \n",
    "    # of optimization variables\n",
    "    # nNucleotides = myRegr.support_vectors_.shape[1] - 1\n",
    "    if Name_Dict['ML_Regressor'] == 'SVC' or Name_Dict['ML_Regressor'] == 'SVR':\n",
    "        nNucleotides = myRegr[Meas_Idx].support_vectors_.shape[1] - 1\n",
    "    else:\n",
    "        nNucleotides = myRegr[Meas_Idx].n_features_ - 1\n",
    "    \n",
    "nPositions = int(nNucleotides/4)"
   ]
  },
  {
   "cell_type": "markdown",
   "metadata": {},
   "source": [
    "## Genetic optimization for sequence search\n",
    "\n",
    "**Classification**<br>\n",
    "Finding new sequence based on an classifier cannot be performed by optimizing expression, because the expression is binned and multiple sequences have identical class membership. Therefore, the sequence distance, i.e., number of nucleotide changes, towards a number of reference promoters is minimized.<br>\n",
    "`ExpressGoal`: dictionary\n",
    " - keys: index of library (`0` if one library and reporter is measured)\n",
    " - values: target bin (e.g., `1` for medium expression with three bins)\n",
    "\n",
    "`ExpressFine`: dictionary\n",
    " - keys: index of library (`0` if one library and reporter is measured)\n",
    " - values: optimal expression of measured promoters\n",
    "\n",
    "\n",
    "The number of reference promoters used for the distance calculation is defined in the variable `ReferenceNumber`. The number of new sequences is defined by the variable `TargetNumber`."
   ]
  },
  {
   "cell_type": "code",
   "execution_count": null,
   "metadata": {},
   "outputs": [],
   "source": [
    "ExpressGoal = {0:[1]} #{0:[1], 1:[2]}\n",
    "ExpressFine = {0:[20]} #{0:[.03], 1:[.04]}\n",
    "ReferenceNumber = 4\n",
    "TargetNumber = 3\n",
    "MyFinal = pd.DataFrame({'Idx-Original':[], 'Strain-ID':[], 'Sequence':[], 'target':[]})\n",
    "# TargetSeqs = dict({'ID':[], 'Sequence':[], 'Expression': []})\n",
    "\n",
    "for Meas_Idx in ExpressGoal.keys(): \n",
    "#     Measure_Name = '{}_ML'.format(Y_Col_Name[Meas_Idx])\n",
    "    # extraction of reference sequences, closest expression with respect to ExpressFine input.\n",
    "    for iGoal, iFine in zip(ExpressGoal[Meas_Idx],ExpressFine[Meas_Idx]):\n",
    "        MyRefs = ExtractRefSeq(SeqDat, Name_Dict, iFine, ReferenceNumber)\n",
    "        go = GeneOptimizer()\n",
    "        myHOF, _ = go.optimize(myRegr[Meas_Idx], ML_Type, MyRefs, SeqDat, Positions_removed, nNucleotides, target_expr=iGoal, hof_size=TargetNumber)\n",
    "\n",
    "        myOptSeq = [''.join(SSeq) for SSeq in np.array([toLetter(Hofi) for Hofi in myHOF])]\n",
    "        myOptSeqFull = [SequenceSinglePredFull(OptSeq_i, MyRefs['Sequence'], Positions_removed) for OptSeq_i in myOptSeq]\n",
    "        myOptExpFull = [evaluation(hof_i, myRegr[Meas_Idx], nNucleotides) for hof_i in myHOF]\n",
    "        myID =['predicted:{}-{}'.format(iGoal,myCount) for myCount in range(1,TargetNumber+1)]\n",
    "        TarDict = {'Strain-ID':myID, 'Sequence':myOptSeqFull, 'target':myOptExpFull}\n",
    "\n",
    "        MyFinal = pd.concat([MyFinal, MyRefs, pd.DataFrame(TarDict)])\n",
    "\n",
    "    # MyFinal.reset_index()\n",
    "    Csv_ID = 'Predicted-Target-Promoter'\n",
    "    TarCsv_File = os.path.join('{}/{}_{}_{}_{}.csv'.format(Data_Folder, time.strftime('%Y%m%d'), File_Base, Csv_ID, Y_Col_Name[Meas_Idx].replace(' ','-')))\n",
    "    MyFinal.to_csv(TarCsv_File, index=None)\n",
    "    print('Target sequences saved as: {}'.format(TarCsv_File))"
   ]
  }
 ],
 "metadata": {
  "kernelspec": {
   "display_name": "exp2ipynb",
   "language": "python",
   "name": "exp2ipynb"
  },
  "language_info": {
   "codemirror_mode": {
    "name": "ipython",
    "version": 3
   },
   "file_extension": ".py",
   "mimetype": "text/x-python",
   "name": "python",
   "nbconvert_exporter": "python",
   "pygments_lexer": "ipython3",
   "version": "3.9.1"
  }
 },
 "nbformat": 4,
 "nbformat_minor": 4
}
